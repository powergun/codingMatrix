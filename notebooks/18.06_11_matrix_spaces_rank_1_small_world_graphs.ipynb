{
 "cells": [
  {
   "cell_type": "markdown",
   "id": "finnish-mexico",
   "metadata": {},
   "source": []
  },
  {
   "cell_type": "markdown",
   "id": "lovely-filter",
   "metadata": {},
   "source": []
  },
  {
   "cell_type": "markdown",
   "id": "dependent-devil",
   "metadata": {},
   "source": []
  },
  {
   "cell_type": "markdown",
   "id": "color-calculation",
   "metadata": {},
   "source": []
  },
  {
   "cell_type": "markdown",
   "id": "sitting-novel",
   "metadata": {},
   "source": []
  },
  {
   "cell_type": "markdown",
   "id": "asian-details",
   "metadata": {},
   "source": []
  },
  {
   "cell_type": "markdown",
   "id": "large-ethics",
   "metadata": {},
   "source": []
  },
  {
   "cell_type": "markdown",
   "id": "circular-correlation",
   "metadata": {},
   "source": []
  },
  {
   "cell_type": "markdown",
   "id": "posted-norfolk",
   "metadata": {},
   "source": []
  },
  {
   "cell_type": "markdown",
   "id": "designed-marine",
   "metadata": {},
   "source": []
  },
  {
   "cell_type": "markdown",
   "id": "adapted-process",
   "metadata": {},
   "source": []
  },
  {
   "cell_type": "markdown",
   "id": "swiss-judges",
   "metadata": {},
   "source": []
  }
 ],
 "metadata": {
  "kernelspec": {
   "display_name": "pyLinearAlgebra",
   "language": "python",
   "name": "python3"
  },
  "language_info": {
   "codemirror_mode": {
    "name": "ipython",
    "version": 3
   },
   "file_extension": ".py",
   "mimetype": "text/x-python",
   "name": "python",
   "nbconvert_exporter": "python",
   "pygments_lexer": "ipython3",
   "version": "3.8.1"
  }
 },
 "nbformat": 4,
 "nbformat_minor": 5
}
