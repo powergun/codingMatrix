{
 "cells": [
  {
   "cell_type": "markdown",
   "id": "interesting-geography",
   "metadata": {},
   "source": [
    "## new \"vector\" spaces\n",
    "\n",
    "the idea is that a space can be formed if the residents support\n",
    "linear combination: \n",
    "\n",
    "**add them together and/or multiply by scalar\n",
    "values**\n",
    "\n",
    "emphasizing on these 2 operations:\n",
    "\n",
    "- mult a \"vector\" by a scalar, the result is still in the space\n",
    "- add two \"vectors\" together, the result is still in the space\n"
   ]
  },
  {
   "cell_type": "markdown",
   "id": "assured-shame",
   "metadata": {},
   "source": [
    "let $M$ by all 3 by 3 matrices\n",
    "\n",
    "it has the follow subspaces:\n",
    "\n",
    "$D$ (diagonal), $U$ (upper triangular), $S$ (symmetric)\n",
    "\n",
    "**what are their basis? what are their dimensions?**"
   ]
  },
  {
   "cell_type": "markdown",
   "id": "clean-model",
   "metadata": {},
   "source": [
    "### the basis and dimension of M\n",
    "\n",
    "one of the basis is\n",
    "\n",
    "$\\left[ A_{11} \\right],\n",
    "\\left[ A_{12} \\right],\n",
    "\\left[ A_{13} \\right],\n",
    "\\dots,\n",
    "\\left[ A_{33} \\right]\n",
    "\\\\\n",
    "\\left[ A_{11} \\right] = \\begin{bmatrix}\n",
    "1 & 0 & 0 \\\\\n",
    "0 & 0 & 0 \\\\\n",
    "0 & 0 & 0\n",
    "\\end{bmatrix}\n",
    "$\n",
    "\n",
    "and the dimension of $M$ is 9, $dimM = 9$\n"
   ]
  },
  {
   "cell_type": "markdown",
   "id": "conventional-brave",
   "metadata": {},
   "source": [
    "### the basis and dimension of S, U\n",
    "\n",
    "similarly, $S$ and $U$ only touch \"one side\" of the diagonal,\n",
    "therefore\n",
    "\n",
    "$dimS = 6, dimU = 6$ \n",
    "\n",
    "note that the diagonal matrices belong to both $S$ and $U$"
   ]
  },
  {
   "cell_type": "markdown",
   "id": "trained-macro",
   "metadata": {},
   "source": [
    "### the space of S + U\n",
    "\n",
    "in the space of $S$ + $U$, an element is the sum of an element of $S$ and an element of $U$\n",
    "\n",
    "for example $M = S + U$\n",
    "\n",
    "this space has no particular interesting properties...\n",
    "\n",
    "the important thing to note is, $S \\cup U$ is not $S + U$"
   ]
  },
  {
   "cell_type": "markdown",
   "id": "planned-disability",
   "metadata": {},
   "source": [
    "### differential equations\n",
    "\n",
    "showing that linear algebra, particularly space, basis\n",
    "and dimension and linear combinations play a wider role\n",
    "than matrix of m x n\n",
    "\n",
    "#### what is the solution of 2nd order differential equation\n",
    "\n",
    "$\n",
    "\\frac {d^{2}y} {dx^{2}} + y\n",
    "= 0\n",
    "\\\\\n",
    "(y'' + y = 0)\n",
    "$\n",
    "\n",
    "think in terms of the nullspace of this differential equation and\n",
    "the special solution is:\n",
    "\n",
    "$y = cosx, y = sinx$\n",
    "\n",
    "(which is equivalent to x = $I$)\n",
    "\n",
    "and the complete solutions are (it does not have a \"particular\n",
    "solution\"):\n",
    "\n",
    "$y = c_{1} \\ cosx + c_{2} \\ sinx$\n",
    "\n",
    "which are the combinations\n",
    "\n",
    "#### what are the basis and dimension\n",
    "\n",
    "$y = cosx, y = sinx$\n",
    "\n",
    "$dim = 2$\n",
    "\n",
    "#### what is linear differential equation about\n",
    "\n",
    "about finding basis in the solution space of the diff eq\n",
    "\n",
    "(18.03)"
   ]
  },
  {
   "cell_type": "markdown",
   "id": "sharing-irrigation",
   "metadata": {},
   "source": [
    "## rank 1 matrices\n",
    "\n",
    "example\n",
    "\n",
    "$\n",
    "A_{2 \\ \\times \\ 3} = \n",
    "\\begin{bmatrix}\n",
    "1 & 4 & 5 \\\\\n",
    "2 & 8 & 10\n",
    "\\end{bmatrix}\n",
    "$\n",
    "\n",
    "its two rows are not independent; the first row (or the second)\n",
    "is the basis; \n",
    "\n",
    "$dimC(A) = 1$, and the pivot column is the first column\n"
   ]
  },
  {
   "cell_type": "markdown",
   "id": "hungry-architecture",
   "metadata": {},
   "source": [
    "I can write this $A$ as:\n",
    "\n",
    "$\n",
    "A = \\begin{bmatrix} 1 \\\\ 2 \\end{bmatrix}\n",
    "\\begin{bmatrix} 1 & 4 & 5 \\end{bmatrix}\n",
    "$\n",
    "\n",
    "**in fact, every rank-1 matrix has this form $A = u v^{T}$**\n",
    "\n",
    "**rank-1 matrices are the building blocks for other matrices;**\n",
    "\n",
    "**other higher rank matrices can be broken down to the combinations\n",
    "of rank-1 matrices**"
   ]
  },
  {
   "cell_type": "markdown",
   "id": "specified-therapist",
   "metadata": {},
   "source": [
    "### subset of rank-n matrices\n",
    "\n",
    "question: can a subset of rank-1 matrices form a subspace?\n",
    "\n",
    "**no because the combination of rank-1 can ONLY produce rank-2 (which\n",
    "violates the rules in the beginning: the result\n",
    "of the combination must still be in the given space);**\n",
    "\n",
    "however it can not produce higher ranks 3, 4 but only 2\n",
    "\n"
   ]
  },
  {
   "cell_type": "markdown",
   "id": "appointed-prince",
   "metadata": {},
   "source": [
    "### guess subspace dimension\n",
    "\n",
    "suppose in $R^{4}$, there is a $v = \\begin{bmatrix}\n",
    "v_{1} \\\\ v_{2} \\\\ v_{3} \\\\ v_{4} \\end{bmatrix}$, suppose I take\n",
    "the subspace of v, \n",
    "where $v_{1} + v_{2} + v_{3} + v_{4} = 0$, \n",
    "\n",
    "#### question: is it a subspace?\n",
    "\n",
    "yes, the linear combinations of the multiple of some non-zero v \n",
    "will also produce $Z$\n",
    "\n",
    "let $p$ and $q$ be such two $R^{4}$ vectors:\n",
    "\n",
    "$\n",
    "p_{1} + p_{2} + p_{3} + p_{4} = 0 \\\\\n",
    "q_{1} + q_{2} + q_{3} + q_{4} = 0 \\\\\n",
    "\\\\\n",
    "c_{1}(p_{1} + p_{2} + p_{3} + p_{4}) +\n",
    "c_{2}(q_{1} + q_{2} + q_{3} + q_{4}) = c_{1} \\times 0 + c_{2} \\times 0\n",
    "$\n",
    "\n",
    "#### question: what is the dimiension of this subspace?\n",
    "\n",
    "recall that a dim of a subspace is the number of vector in\n",
    "its bases."
   ]
  },
  {
   "cell_type": "markdown",
   "id": "compound-indonesian",
   "metadata": {},
   "source": [
    "consider $v_{1} + v_{2} + v_{3} + v_{4} = 0$ the nullspace\n",
    "of $Ax = b$, namely $Ax = 0$,\n",
    "\n",
    "what is $A$?\n",
    "\n",
    "$A = \\begin{bmatrix}1 & 1 & 1 & 1\\end{bmatrix}$\n",
    "\n",
    "and it has a rank of 1\n",
    "\n",
    "knowing that $dimN(A) = n - r$, the dimension is 3 (4 columns)"
   ]
  },
  {
   "cell_type": "markdown",
   "id": "liable-interference",
   "metadata": {},
   "source": [
    "#### question: what are its 4 fundamental subspaces?\n",
    "\n",
    "$dimC(A^{T}) = 1$ (rank is 1)\n",
    "\n",
    "$dimN(A) = 3$, the basis being the special solutions (using the\n",
    "3 free variables, as there is only 1 pivot variable)\n",
    "\n",
    "sanity check: $dimC(A^{T}) + dimN(A) = 4$ (dim = n - r)\n",
    "\n",
    "$\n",
    "\\begin{bmatrix}-1 \\\\ 1 \\\\ 0 \\\\ 0\\end{bmatrix},\n",
    "\\begin{bmatrix}-1 \\\\ 0 \\\\ 1 \\\\ 0\\end{bmatrix},\n",
    "\\begin{bmatrix}-1 \\\\ 0 \\\\ 0 \\\\ 1\\end{bmatrix}\n",
    "$\n",
    "\n",
    "$dimC(A) = 1$, $C(A)$ is row-1 \n",
    "\n",
    "$dimN(A^{T}) = 0$, which is $Z$ , the zero vector\n",
    "\n",
    "sanity check: $dimC(A) + dimN(A^{T}) = 1$ (dim = m - r)"
   ]
  },
  {
   "cell_type": "markdown",
   "id": "foreign-official",
   "metadata": {},
   "source": [
    "## small world graph\n",
    "\n"
   ]
  },
  {
   "cell_type": "markdown",
   "id": "spare-birmingham",
   "metadata": {},
   "source": [
    "what is a graph: \n",
    "\n",
    "a set of nodes and edges that connect the nodes"
   ]
  },
  {
   "cell_type": "markdown",
   "id": "alien-director",
   "metadata": {},
   "source": [
    "### the interesting qestions about graph\n",
    "\n",
    "the shortest and the longest path that connects two nodes in a graph\n",
    "\n",
    "\"6 degrees separation\"\n",
    "\n",
    "<https://en.wikipedia.org/wiki/Six_degrees_of_separation>\n"
   ]
  },
  {
   "cell_type": "markdown",
   "id": "solar-calibration",
   "metadata": {},
   "source": [
    "# Recitation and Exercises\n"
   ]
  },
  {
   "cell_type": "markdown",
   "id": "executed-district",
   "metadata": {},
   "source": [
    "## recitation\n",
    "\n",
    "show that the set of 2 x 3 matrices $A$ whose\n",
    "nullspace contains $\\begin{bmatrix}2 \\\\ 1 \\\\ 1\\end{bmatrix}$\n",
    "is a vector subspace, and find a basis for it\n",
    "\n",
    "what about the set of those whose column space\n",
    "contains $\\begin{bmatrix}2 \\\\ 1\\end{bmatrix}$,\n",
    "do they form a vector subspace ??"
   ]
  },
  {
   "cell_type": "markdown",
   "id": "lesbian-breathing",
   "metadata": {},
   "source": [
    "imagine there are $A, B$\n",
    "\n",
    "$A \\cdot \\begin{bmatrix}2 \\\\ 1 \\\\ 1\\end{bmatrix} = \n",
    "\\begin{bmatrix}0 \\\\ 0\\end{bmatrix}$\n",
    "\n",
    "(same equation for $B$...)\n",
    "\n",
    "their linear combinations also satisfy $(A + B) \\begin{bmatrix}2 \\\\ 1 \\\\ 1\\end{bmatrix} = 0$\n",
    "\n",
    "$(c A)\\begin{bmatrix}2 \\\\ 1 \\\\ 1\\end{bmatrix} = 0\n",
    "\\\\\n",
    "A \\begin{bmatrix}2 \\\\ 1 \\\\ 1\\end{bmatrix} = \\frac {0} {c} = 0$"
   ]
  },
  {
   "cell_type": "markdown",
   "id": "proper-teach",
   "metadata": {},
   "source": [
    "#### summary: how do we show that a something is a vector subspace?\n",
    "\n",
    "the linear combination of two vectors in this space is also in\n",
    "this space\n",
    "\n",
    "- add two vectors together, the result is still in this space\n",
    "- mult a vector by a scalar, the result is still in this space\n"
   ]
  },
  {
   "cell_type": "markdown",
   "id": "urban-planner",
   "metadata": {},
   "source": [
    "#### what are the bases of nullspace?\n",
    "\n",
    "let $A$ be $\\begin{bmatrix}row_{1} \\\\ row_{2}\\end{bmatrix}$\n",
    "\n",
    "and each row mult `{2, 1, 1}` is 0\n",
    "\n",
    "let both rows be `{a, b, c}` then `2a + b + c = 0`\n",
    "\n",
    "substitute `c` I get:\n",
    "\n",
    "`{a, b, -2a -b}` which is `{a, 0, -2a} + {0, b, -b}`\n",
    "\n",
    "turn each row into the linear combination of two vectors\n",
    "\n",
    "(pulling `a` and `b` out) `a {1, 0, -2) + b {0, 1, -1}` \n",
    "\n",
    "finally, putting things back into the matrices form, and\n",
    "account for row-1, row-2\n",
    "\n",
    "the basis are:\n",
    "\n",
    "```\n",
    "[[1, 0, -2],\n",
    " [0, 0, 0 ]]\n",
    " \n",
    "[[0, 1, -1],\n",
    " [0, 0, 0]]\n",
    " \n",
    "[[0, 0, 0],\n",
    " [1, 0, -2]]\n",
    " \n",
    "[[0, 0, 0],\n",
    " [0, 1, -1]]\n",
    "```\n",
    "\n",
    "this means the dimension of the subspace is 4\n",
    "\n",
    "sanity check: does the linear combination premise still hold?"
   ]
  },
  {
   "cell_type": "markdown",
   "id": "amber-brooklyn",
   "metadata": {},
   "source": [
    "#### given a set of A whose column space contains $\\begin{bmatrix}2 \\\\ 1\\end{bmatrix}$ do they form a subspace ?"
   ]
  },
  {
   "cell_type": "markdown",
   "id": "incomplete-toner",
   "metadata": {},
   "source": [
    "to check if they form a vector subspace, check if $Z$ is in the\n",
    "subspace (in this case $Z$ is the **zero matrix** instead of\n",
    "the zero vector)\n",
    "\n",
    "**review the definition of vector subspace in 18.06_05 notebook**\n",
    "\n",
    "also, remember that in order to form a vector subspace, the linear\n",
    "combination of some A should still be in the subspace, this include\n",
    "mult A by 0 that produces $Z$\n",
    "\n",
    "this can also prove that this set of matrices (with a specific\n",
    "column vector in the column space) DO NOT form a vector subspace\n"
   ]
  },
  {
   "cell_type": "code",
   "execution_count": 21,
   "id": "outside-healing",
   "metadata": {},
   "outputs": [
    {
     "name": "stdout",
     "output_type": "stream",
     "text": [
      "[[4*0 + 1 3*0 + 2*1 3*0 + 2*1]\n",
      " [3*0 + 2*1 4*0 + 1 3*0 + 2*1]\n",
      " [3*0 + 2*1 3*0 + 2*1 4*0 + 1]]\n",
      "[[1 0 0]\n",
      " [0 1 0]\n",
      " [0 0 1]]\n"
     ]
    }
   ],
   "source": [
    "# Problem 11.1\n",
    "\n",
    "# write the 3 x 3 identity matrix as a combination of the\n",
    "# other 5 permutation matrices\n",
    "# then show that those five matrices are linearly\n",
    "# independent\n",
    "# assume a combination gives c1P1 + ... + c5P5 = 0 \n",
    "# and check entries to prove ci is zero\n",
    "\n",
    "# the given permutation matrices are a basis for the\n",
    "# subspace of 3 x 3 matrices with row and column\n",
    "# sums all equal\n",
    "\n",
    "import numpy as np\n",
    "import pylinearalgebra.mattools as mt\n",
    "\n",
    "# I only have 6 perm for a 3x3 matrix,\n",
    "# I is one of them and is the RHS,\n",
    "# the other 5 are the LHS\n",
    "import sympy\n",
    "\n",
    "I = sympy.Symbol('1')\n",
    "O = sympy.Symbol('0')\n",
    "\n",
    "p1 = [\n",
    "    [I, O, O], #\n",
    "    [O, O, I], \n",
    "    [O, I, O],\n",
    "]\n",
    "p2 = [\n",
    "    [O, O, I], #\n",
    "    [O, I, O],\n",
    "    [I, O, O], \n",
    "]\n",
    "p3 = [\n",
    "    [O, O, I], #\n",
    "    [I, O, O],\n",
    "    [O, I, O],\n",
    "]\n",
    "p4 = [\n",
    "    [O, I, O], #\n",
    "    [I, O, O], \n",
    "    [O, O, I],\n",
    "]\n",
    "p5 = [\n",
    "    [O, I, O], #\n",
    "    [O, O, I],\n",
    "    [I, O, O],\n",
    "]\n",
    "\n",
    "o = p1\n",
    "for p in [p2, p3, p4, p5]:\n",
    "    o = np.add(o, p)\n",
    "print(o)\n",
    "R, _ = mt.rref(o)\n",
    "print(R)"
   ]
  },
  {
   "cell_type": "code",
   "execution_count": 48,
   "id": "colonial-registrar",
   "metadata": {},
   "outputs": [
    {
     "name": "stdout",
     "output_type": "stream",
     "text": [
      "[0*c2 + 0*c3 + 0*c4 + 0*c5 + 1*c1, 0*c1 + 0*c2 + 0*c3 + 1*c4 + 1*c5, 0*c1 + 0*c4 + 0*c5 + 1*c2 + 1*c3]\n",
      "[0*c1 + 0*c2 + 0*c5 + 1*c3 + 1*c4, 0*c1 + 0*c3 + 0*c4 + 0*c5 + 1*c2, 0*c2 + 0*c3 + 0*c4 + 1*c1 + 1*c5]\n",
      "[0*c1 + 0*c3 + 0*c4 + 1*c2 + 1*c5, 0*c2 + 0*c4 + 0*c5 + 1*c1 + 1*c3, 0*c1 + 0*c2 + 0*c3 + 0*c5 + 1*c4]\n"
     ]
    }
   ],
   "source": [
    "# the answer to the second question can be observed\n",
    "# using sympy again\n",
    "\n",
    "import sympy\n",
    "S = sympy.Symbol\n",
    "\n",
    "c1 = S('c1')\n",
    "c2 = S('c2')\n",
    "c3 = S('c3')\n",
    "c4 = S('c4')\n",
    "c5 = S('c5')\n",
    "\n",
    "o = np.multiply(c1, p1)\n",
    "for c, p in zip([c2, c3, c4, c5], [p2, p3, p4, p5]):\n",
    "    o = np.add(o, np.multiply(c, p))\n",
    "for r in o.tolist():\n",
    "    print(r)\n"
   ]
  },
  {
   "cell_type": "code",
   "execution_count": 25,
   "id": "committed-secret",
   "metadata": {},
   "outputs": [
    {
     "name": "stdout",
     "output_type": "stream",
     "text": [
      "[ True  True  True]\n",
      "[ True  True  True]\n",
      "[ True  True  True]\n"
     ]
    }
   ],
   "source": [
    "# prove that row(i) = column(i)\n",
    "for i in range(o.shape[0]):\n",
    "    print(o[i] == o[:, i])"
   ]
  },
  {
   "cell_type": "code",
   "execution_count": 26,
   "id": "naughty-metallic",
   "metadata": {},
   "outputs": [],
   "source": [
    "# Problem 11.2\n",
    "\n",
    "# M is the space of 3 x 3 matrices\n",
    "\n",
    "# mult each matrix X in M by \n",
    "A = [\n",
    "    [1, 0, -1],\n",
    "    [-1, 1, 0],\n",
    "    [0, -1, 1],\n",
    "]\n",
    "# notice that A . {1, 1, 1} = {0, 0, 0}\n",
    "\n",
    "# a) which matrices X lead to AX = 0 ?\n",
    "\n",
    "# b) which matrices have the form AX for some matrix X ?\n",
    "\n",
    "# c) finds the nullspace of the operation AX\n",
    "#    finds the column space \n",
    "#    what are the dim of these two subspaces of M\n",
    "#    why do the dim add to (n - r) + r = 9\n"
   ]
  },
  {
   "cell_type": "code",
   "execution_count": 49,
   "id": "legislative-character",
   "metadata": {},
   "outputs": [
    {
     "name": "stdout",
     "output_type": "stream",
     "text": [
      "[[X11 - X31 X12 - X32 X13 - X33]\n",
      " [-X11 + X21 -X12 + X22 -X13 + X23]\n",
      " [-X21 + X31 -X22 + X32 -X23 + X33]]\n",
      "[[0 0 0]\n",
      " [0 0 0]\n",
      " [0 0 0]]\n"
     ]
    }
   ],
   "source": [
    "import numpy as np\n",
    "import pylinearalgebra.mattools as mt\n",
    "\n",
    "import sympy\n",
    "\n",
    "S = sympy.Symbol\n",
    "\n",
    "X = [\n",
    "    [S('X11'), S('X12'), S('X13')],\n",
    "    [S('X21'), S('X22'), S('X23')],\n",
    "    [S('X31'), S('X32'), S('X33')],\n",
    "]\n",
    "\n",
    "A = [\n",
    "    [1, 0, -1],\n",
    "    [-1, 1, 0],\n",
    "    [0, -1, 1],\n",
    "]\n",
    "\n",
    "AX = np.dot(A, X)\n",
    "print(AX)\n",
    "\n",
    "# X11 - X31     X12 - X32     X13 - X33\n",
    "# X21 - X11     X22 - X12     X23 - X13 \n",
    "# X31 - X21     X32 - X22     X33 - X23\n",
    "\n",
    "# I must derive the truth from these equations:\n",
    "# X must be\n",
    "# [[a, b, c], \n",
    "#  [a, b, c],\n",
    "#  [a, b, c]]\n",
    "# there is a constraint on each column\n",
    "\n",
    "\n",
    "# test this theory out:\n",
    "X_ = [\n",
    "    [1, 2, 3],\n",
    "    [1, 2, 3],\n",
    "    [1, 2, 3],\n",
    "]\n",
    "print(np.dot(A, X_))\n",
    "\n"
   ]
  },
  {
   "cell_type": "markdown",
   "id": "grand-threshold",
   "metadata": {},
   "source": [
    "### official answer for 11.2"
   ]
  },
  {
   "cell_type": "code",
   "execution_count": 50,
   "id": "dying-running",
   "metadata": {},
   "outputs": [],
   "source": [
    "# a) use rref to see the rows A are dependent and A has rank-2\n",
    "\n",
    "#  AX = 0 requires the columns of X are in the nullspace of A\n",
    "#  when they are multiples of the basis of N(A),\n",
    "#  therefore if AX = 0, then X must have the form [[a, b, c]...]"
   ]
  },
  {
   "cell_type": "code",
   "execution_count": 51,
   "id": "partial-protection",
   "metadata": {},
   "outputs": [],
   "source": [
    "# b) the columns of any matrix of the form AX are linear\n",
    "#      ^^^^^^^^^^^^^^^^^^^^^^^^^^^^^^^^^^^^^^^^^^^^\n",
    "#   combinations of the columns of A\n",
    "# ^^^^^^^^^^^^^^^^^^^^^^^^^^^^^^^^^^\n",
    "\n",
    "# that is, they are vectors whose components all sum to 0,\n",
    "\n",
    "# so a matrix has the form AX if and only if all of its columns\n",
    "# individually sum to 0\n",
    "\n",
    "# [\n",
    "#     [a, b, c],\n",
    "#     [d, e, f],\n",
    "#     [-a-d, -b-e, -c-f],\n",
    "# ]"
   ]
  },
  {
   "cell_type": "code",
   "execution_count": 53,
   "id": "essential-insertion",
   "metadata": {},
   "outputs": [
    {
     "data": {
      "text/plain": [
       "array([[0, 0, 0],\n",
       "       [0, 0, 0],\n",
       "       [0, 0, 0]], dtype=object)"
      ]
     },
     "execution_count": 53,
     "metadata": {},
     "output_type": "execute_result"
    }
   ],
   "source": [
    "# c) what are the basis of the nullspace AX = 0\n",
    "\n",
    "# I have three free variables, a, b, c\n",
    "# ^^^^^^^^^^^^^^^^^^^^^^^^^^^^^^^^^^^^^^\n",
    "# therefore the number of bases is 3 - dim is 3\n",
    "\n",
    "import sympy\n",
    "import numpy as np\n",
    "\n",
    "S = sympy.Symbol\n",
    "X = [\n",
    "    [S('a'), S('b'), S('c')],\n",
    "    [S('a'), S('b'), S('c')],\n",
    "    [S('a'), S('b'), S('c')],\n",
    "]\n",
    "A = [\n",
    "    [1, 0, -1],\n",
    "    [-1, 1, 0],\n",
    "    [0, -1, 1],\n",
    "]\n",
    "\n",
    "AX = np.dot(A, X)\n",
    "AX"
   ]
  },
  {
   "cell_type": "code",
   "execution_count": 54,
   "id": "declared-spider",
   "metadata": {},
   "outputs": [],
   "source": [
    "# what are the basis of the column space AX = B\n",
    "\n",
    "# [\n",
    "#     [a, b, c],\n",
    "#     [d, e, f],\n",
    "#     [-a-d, -b-e, -c-f],\n",
    "# ]\n",
    "\n",
    "# I have 6 free variables, therefore the number of bases is 6,\n",
    "# ^^^^^^^^^^^^^^^^^^^^^^^\n",
    "# dim is 6"
   ]
  },
  {
   "cell_type": "code",
   "execution_count": 1,
   "id": "hungry-clone",
   "metadata": {},
   "outputs": [],
   "source": [
    "# dim(N(AX)) + dim(C(AX)) = 9"
   ]
  },
  {
   "cell_type": "markdown",
   "id": "wireless-toolbox",
   "metadata": {},
   "source": [
    "# Exam-1 review"
   ]
  },
  {
   "cell_type": "markdown",
   "id": "potential-fellowship",
   "metadata": {},
   "source": [
    "do all the invertible matrices $A_{m \\ \\times \\ m}$ form a\n",
    "vector subspace?\n"
   ]
  },
  {
   "cell_type": "code",
   "execution_count": 2,
   "id": "worse-lobby",
   "metadata": {},
   "outputs": [],
   "source": [
    "# answer: no\n",
    "\n",
    "# sanity check 1)\n",
    "# Z must be in the vector subspace and Z is not invertible\n",
    "\n",
    "# sanity check 2)\n",
    "# given A and B being two such invertible matrices\n",
    "# it is possible that when A + B, Aii and Bii cancel each other\n",
    "# and the resulting matrix has 0 in its diagonal position -\n",
    "# this violates the rule that for a invertible matrix, its\n",
    "# det must be non-zero\n",
    "\n",
    "# sanity check 3)\n",
    "# A * 0 + B * 0 must also be in the vector subspace, which \n",
    "# according to 1), is not going to happen"
   ]
  },
  {
   "cell_type": "code",
   "execution_count": null,
   "id": "collectible-adrian",
   "metadata": {},
   "outputs": [],
   "source": []
  }
 ],
 "metadata": {
  "kernelspec": {
   "display_name": "Python 3",
   "language": "python",
   "name": "python3"
  },
  "language_info": {
   "codemirror_mode": {
    "name": "ipython",
    "version": 3
   },
   "file_extension": ".py",
   "mimetype": "text/x-python",
   "name": "python",
   "nbconvert_exporter": "python",
   "pygments_lexer": "ipython3",
   "version": "3.8.1"
  }
 },
 "nbformat": 4,
 "nbformat_minor": 5
}
