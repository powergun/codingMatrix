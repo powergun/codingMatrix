{
 "cells": [
  {
   "cell_type": "markdown",
   "id": "interesting-geography",
   "metadata": {},
   "source": [
    "## new \"vector\" spaces\n",
    "\n",
    "the idea is that a space can be formed if the residents support\n",
    "linear combination: \n",
    "\n",
    "**add them together and/or multiply by scalar\n",
    "values**\n"
   ]
  },
  {
   "cell_type": "markdown",
   "id": "assured-shame",
   "metadata": {},
   "source": [
    "let $M$ by all 3 by 3 matrices\n",
    "\n",
    "it has the follow subspaces:\n",
    "\n",
    "$D$ (diagonal), $U$ (upper triangular), $S$ (symmetric)\n",
    "\n",
    "**what are their basis? what are their dimensions?**"
   ]
  },
  {
   "cell_type": "markdown",
   "id": "clean-model",
   "metadata": {},
   "source": [
    "### the basis and dimension of M\n",
    "\n",
    "one of the basis is\n",
    "\n",
    "$\\left[ A_{11} \\right],\n",
    "\\left[ A_{12} \\right],\n",
    "\\left[ A_{13} \\right],\n",
    "\\dots,\n",
    "\\left[ A_{33} \\right]\n",
    "\\\\\n",
    "\\left[ A_{11} \\right] = \\begin{bmatrix}\n",
    "1 & 0 & 0 \\\\\n",
    "0 & 0 & 0 \\\\\n",
    "0 & 0 & 0\n",
    "\\end{bmatrix}\n",
    "$\n",
    "\n",
    "and the dimension of $M$ is 9, $dimM = 9$\n"
   ]
  },
  {
   "cell_type": "markdown",
   "id": "conventional-brave",
   "metadata": {},
   "source": [
    "### the basis and dimension of S, U\n",
    "\n",
    "similarly,\n",
    "\n",
    "$dimS = 6, dimU = 6$ "
   ]
  },
  {
   "cell_type": "markdown",
   "id": "trained-macro",
   "metadata": {},
   "source": [
    "### the space of S + U\n",
    "\n",
    "in the space of $S$ + $U$, an element is the sum of an element of $S$ and an element of $U$\n",
    "\n",
    "for example $M = S + U$"
   ]
  },
  {
   "cell_type": "markdown",
   "id": "planned-disability",
   "metadata": {},
   "source": [
    "### differential equations\n",
    "\n",
    "showing that linear algebra, particularly space, basis\n",
    "and dimension and linear combinations play a wider role\n",
    "than matrix of m x n\n",
    "\n",
    "#### what is the solution of 2nd order differential equation\n",
    "\n",
    "$\n",
    "\\frac {d^{2}y} {dx^{2}} + y\n",
    "= 0\n",
    "\\\\\n",
    "(y'' + y = 0)\n",
    "$\n",
    "\n",
    "think in terms of the nullspace of this differential equation and\n",
    "the special solution is:\n",
    "\n",
    "$y = cosx, y = sinx$\n",
    "\n",
    "and the complete solutions are:\n",
    "\n",
    "$y = c_{1} \\ cosx + c_{2} \\ sinx$\n",
    "\n",
    "which are the combinations\n",
    "\n",
    "#### what are the basis and dimension\n",
    "\n",
    "$y = cosx, y = sinx$\n",
    "\n",
    "$dim = 2$\n",
    "\n",
    "#### what is linear differential equation about\n",
    "\n",
    "about finding basis in the solution space of the diff eq\n",
    "\n",
    "(18.03)"
   ]
  },
  {
   "cell_type": "markdown",
   "id": "sharing-irrigation",
   "metadata": {},
   "source": [
    "## rank 1 matrices\n",
    "\n",
    "example\n",
    "\n",
    "$\n",
    "A_{2 \\ \\times \\ 3} = \n",
    "\\begin{bmatrix}\n",
    "1 & 4 & 5 \\\\\n",
    "2 & 8 & 10\n",
    "\\end{bmatrix}\n",
    "$\n",
    "\n",
    "its two rows are not independent; the first row (or the second)\n",
    "is the basis; \n",
    "\n",
    "$dimC(A) = 1$, and the pivot column is the first column\n"
   ]
  },
  {
   "cell_type": "markdown",
   "id": "hungry-architecture",
   "metadata": {},
   "source": [
    "I can write this $A$ as:\n",
    "\n",
    "$\n",
    "A = \\begin{bmatrix} 1 \\\\ 2 \\end{bmatrix}\n",
    "\\begin{bmatrix} 1 & 4 & 5 \\end{bmatrix}\n",
    "$\n",
    "\n",
    "**in fact, every rank-1 matrix has this form $A = u v^{T}$**\n",
    "\n",
    "**rank-1 matrices are the building blocks for other matrices;**\n",
    "\n",
    "**other higher rank matrices can be broken down to the combinations\n",
    "of rank-1 matrices**"
   ]
  },
  {
   "cell_type": "markdown",
   "id": "specified-therapist",
   "metadata": {},
   "source": [
    "### subset of rank-n matrices\n",
    "\n",
    "question: can a subset of rank-1 matrices form a subspace?\n",
    "\n",
    "no because the combination of rank-1 can produce rank-2;\n",
    "\n",
    "however it can not produce higher ranks 3, 4 but only 2\n",
    "\n"
   ]
  },
  {
   "cell_type": "markdown",
   "id": "appointed-prince",
   "metadata": {},
   "source": [
    "### guess subspace dimension\n",
    "\n",
    "suppose in $R^{4}$, there is a $v = \\begin{bmatrix}\n",
    "v_{1} \\\\ v_{2} \\\\ v_{3} \\\\ v_{4} \\end{bmatrix}$, suppose I take\n",
    "the subspace of v, \n",
    "where $v_{1} + v_{2} + v_{3} + v_{4} = 0$, \n",
    "\n",
    "#### is it a subspace\n",
    "\n",
    "yes, the linear combinations of the multiple of some non-zero v \n",
    "will also produce $Z$\n",
    "\n",
    "#### what is the dimiension of this subspace"
   ]
  },
  {
   "cell_type": "markdown",
   "id": "compound-indonesian",
   "metadata": {},
   "source": [
    "consider $v_{1} + v_{2} + v_{3} + v_{4} = 0$ the nullspace\n",
    "of $Ax = b$, namely $Ax = 0$,\n",
    "\n",
    "what is $A$?\n",
    "\n",
    "$A = \\begin{bmatrix}1 & 1 & 1 & 1\\end{bmatrix}$\n",
    "\n",
    "and it has a rank of 1\n",
    "\n",
    "knowing that $dimN(A) = n - r$, the dimension is 3 (4 columns)"
   ]
  },
  {
   "cell_type": "markdown",
   "id": "liable-interference",
   "metadata": {},
   "source": [
    "#### what are the 4 fundamental subspaces \n",
    "\n",
    "$dimC(A^{T}) = 1$ (rank is 1)\n",
    "\n",
    "$dimN(A) = 3$, the basis being the special solutions (using the\n",
    "free variables, as there is only 1 pivot variable)\n",
    "\n",
    "sanity check: $dimC(A^{T}) + dimN(A) = 4$\n",
    "\n",
    "$\n",
    "\\begin{bmatrix}-1 \\\\ 1 \\\\ 0 \\\\ 0\\end{bmatrix},\n",
    "\\begin{bmatrix}-1 \\\\ 0 \\\\ 1 \\\\ 0\\end{bmatrix},\n",
    "\\begin{bmatrix}-1 \\\\ 0 \\\\ 0 \\\\ 1\\end{bmatrix}\n",
    "$\n",
    "\n",
    "$dimC(A) = 1$, $C(A)$ is row-1 \n",
    "\n",
    "$dimN(A^{T}) = 0$, which is $Z$ that contains zero members\n",
    "\n",
    "sanity check: $dimC(A) + dimN(A^{T}) = 1$"
   ]
  },
  {
   "cell_type": "markdown",
   "id": "foreign-official",
   "metadata": {},
   "source": [
    "## small world graph\n",
    "\n"
   ]
  },
  {
   "cell_type": "markdown",
   "id": "spare-birmingham",
   "metadata": {},
   "source": [
    "what is a graph: \n",
    "\n",
    "a set of nodes and edges that connect the nodes"
   ]
  },
  {
   "cell_type": "markdown",
   "id": "alien-director",
   "metadata": {},
   "source": [
    "### the interesting qestions about graph\n",
    "\n",
    "the shortest and the longest path that connects two nodes in a graph\n",
    "\n",
    "\"6 degrees separation\"\n",
    "\n",
    "<https://en.wikipedia.org/wiki/Six_degrees_of_separation>\n"
   ]
  },
  {
   "cell_type": "markdown",
   "id": "solar-calibration",
   "metadata": {},
   "source": []
  }
 ],
 "metadata": {
  "kernelspec": {
   "display_name": "Python 3",
   "language": "python",
   "name": "python3"
  },
  "language_info": {
   "codemirror_mode": {
    "name": "ipython",
    "version": 3
   },
   "file_extension": ".py",
   "mimetype": "text/x-python",
   "name": "python",
   "nbconvert_exporter": "python",
   "pygments_lexer": "ipython3",
   "version": "3.8.1"
  }
 },
 "nbformat": 4,
 "nbformat_minor": 5
}
