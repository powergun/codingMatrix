{
 "cells": [
  {
   "cell_type": "markdown",
   "id": "incomplete-climb",
   "metadata": {},
   "source": [
    "### union and intersection of subspaces\n",
    "\n",
    "given 2 subspaces of $R^{3}$: $P$ and $L$,\n",
    "\n",
    "what is $P \\cup L$ ?\n",
    "\n",
    "(union) all vectors in P or L or both!\n",
    "\n",
    "is $P \\cup L$ a subspace then ??\n",
    "\n",
    "**nop**. A simple example is to add a vector from line $L$ and a vector from plane $P$, the result can reside outside $L$ and $P$"
   ]
  },
  {
   "cell_type": "markdown",
   "id": "preceding-canberra",
   "metadata": {},
   "source": [
    "is $P \\cap L$ a subspace then??"
   ]
  },
  {
   "cell_type": "markdown",
   "id": "joined-rotation",
   "metadata": {},
   "source": [
    "**yes**. the vectors in the intersection reside both in $P$ and $L$ \n",
    "(rather than either $P$ or $L$) therefore their linear combination\n",
    "is still in the intersection\n"
   ]
  },
  {
   "cell_type": "markdown",
   "id": "neural-hawaii",
   "metadata": {},
   "source": [
    "### column space of A\n",
    "\n",
    "$\\begin{bmatrix}\n",
    "1 & 1 & 2 \\\\\n",
    "2 & 1 & 3 \\\\\n",
    "3 & 1 & 4 \\\\\n",
    "4 & 1 & 5 \n",
    "\\end{bmatrix}$\n",
    "\n",
    "\n",
    "\n"
   ]
  },
  {
   "cell_type": "markdown",
   "id": "addressed-alpha",
   "metadata": {},
   "source": [
    "the column space of $A$ is a vector subspace of $R^{4}$\n",
    "\n",
    "$C(A)$ \n",
    "\n",
    "what is in that subspace?\n",
    "\n",
    "the columns of $A$ and their linear combinations\n",
    "\n",
    "\n"
   ]
  },
  {
   "cell_type": "markdown",
   "id": "southwest-harris",
   "metadata": {},
   "source": [
    "in the $Ax = b$ form, does it have a solution for every b? NO\n",
    "\n",
    "$\\begin{bmatrix}\n",
    "1 & 1 & 2 \\\\\n",
    "2 & 1 & 3 \\\\\n",
    "3 & 1 & 4 \\\\\n",
    "4 & 1 & 5 \n",
    "\\end{bmatrix} \\\n",
    "\\begin{bmatrix}x_{1} \\\\ x_{2} \\\\ x_{3}\\end{bmatrix}\n",
    "=\n",
    "\\begin{bmatrix}b_{1} \\\\ b_{2} \\\\ b_{3} \\\\ b_{4}\\end{bmatrix}\n",
    "$"
   ]
  },
  {
   "cell_type": "markdown",
   "id": "engaged-cuisine",
   "metadata": {},
   "source": [
    "so which RHS allows this system to be solved ??\n",
    "\n"
   ]
  },
  {
   "cell_type": "markdown",
   "id": "mounted-stations",
   "metadata": {},
   "source": [
    "option 1: $\\begin{bmatrix}0 \\\\ 0 \\\\ 0 \\\\ 0\\end{bmatrix}$"
   ]
  },
  {
   "cell_type": "markdown",
   "id": "lightweight-territory",
   "metadata": {},
   "source": [
    "option 2: $b$ in $C(A)$"
   ]
  },
  {
   "cell_type": "markdown",
   "id": "automotive-color",
   "metadata": {},
   "source": [
    "this is why column space is important to linear algebra which is\n",
    "to solve linear system (a system of equations)\n",
    "\n"
   ]
  },
  {
   "cell_type": "markdown",
   "id": "elder-program",
   "metadata": {},
   "source": [
    "### are column vectors independent?\n",
    "\n",
    "i.e. does each individual column $A$ contribute something new?\n",
    "\n",
    "can I throw away a column and get the same column space?\n",
    "\n",
    "in the case of $A$, column-3 is the sum of column-1 and column-2\n",
    "therefore it is not independent (can be thrown away while\n",
    "maintaining the column space)\n"
   ]
  },
  {
   "cell_type": "markdown",
   "id": "bridal-longer",
   "metadata": {},
   "source": [
    "column-1 and column-2 are called the **pivot columns**\n",
    "\n",
    "the convention is to count from the left and see if a **column\n",
    "depends on some column to its left**\n"
   ]
  },
  {
   "cell_type": "markdown",
   "id": "democratic-mixer",
   "metadata": {},
   "source": [
    "the column space of $A$ is a 2-D subspace of $R^{4}$"
   ]
  },
  {
   "cell_type": "markdown",
   "id": "agreed-diving",
   "metadata": {},
   "source": [
    "### the nullspace\n",
    "\n",
    "the nullspace of $A$, $N(A)$\n",
    "\n",
    "$\\begin{bmatrix}\n",
    "1 & 1 & 2 \\\\\n",
    "2 & 1 & 3 \\\\\n",
    "3 & 1 & 4 \\\\\n",
    "4 & 1 & 5 \n",
    "\\end{bmatrix}$\n"
   ]
  },
  {
   "cell_type": "code",
   "execution_count": 5,
   "id": "recovered-stretch",
   "metadata": {},
   "outputs": [
    {
     "name": "stdout",
     "output_type": "stream",
     "text": [
      "⎡ -1⎤\n",
      "⎢ -1⎥\n",
      "⎣  1⎦\n"
     ]
    }
   ],
   "source": [
    "import pylinearalgebra.mattools as mt\n",
    "A = [\n",
    "    [1, 1, 2],\n",
    "    [2, 1, 3],\n",
    "    [3, 1, 4],\n",
    "    [4, 1, 5]\n",
    "]\n",
    "vectors = mt.null_space(A, tolist=True)\n",
    "for v in vectors:\n",
    "    mt.pprint(v)"
   ]
  },
  {
   "cell_type": "markdown",
   "id": "nominated-diving",
   "metadata": {},
   "source": [
    "contains all solutions to $Ax = 0$\n",
    "\n",
    "$\\begin{bmatrix}0 \\\\ 0 \\\\ 0\\end{bmatrix} ,\n",
    "C\\begin{bmatrix}1 \\\\ 1 \\\\ -1\\end{bmatrix} ,\n",
    "C\\begin{bmatrix}-1 \\\\ -1 \\\\ 1\\end{bmatrix} , \\dots$\n",
    "\n",
    "(note these are NOT the basis of the nullspace, col-3 can\n",
    "produce col-1 by zero-mult, and col-2 by sign-inverting)\n",
    "\n",
    "which can be consolidated to\n",
    "\n",
    "$C\\begin{bmatrix}1 \\\\ 1 \\\\ -1\\end{bmatrix}$\n",
    "\n",
    "it is a line in 3-D space"
   ]
  },
  {
   "cell_type": "markdown",
   "id": "liberal-citizenship",
   "metadata": {},
   "source": [
    "is a subspace of $R^{3}$\n",
    "\n",
    "generalise this idea to:\n",
    "\n",
    "in a $n \\times m$ matrix, the column space is a subspace of $R^{n}$\n",
    "whereas the nullspace is a subspace of $R^{m}$"
   ]
  },
  {
   "cell_type": "markdown",
   "id": "bronze-velvet",
   "metadata": {},
   "source": [
    "#### how do I know the nullspace is a vector space ?\n",
    "\n",
    "i.e. am I entitled to use the word $\\text{space}$ ? \n",
    "\n",
    "#### check that the solutions to $Ax = 0$ always give a subspace\n"
   ]
  },
  {
   "cell_type": "markdown",
   "id": "economic-permit",
   "metadata": {},
   "source": [
    "if $A v = 0$ and $A w = 0$ then $A(v + w) = 0$\n",
    "\n",
    "$Av + Aw = 0$\n"
   ]
  },
  {
   "cell_type": "markdown",
   "id": "former-latin",
   "metadata": {},
   "source": [
    "does the solutions here form a subspace? NO\n",
    "\n",
    "$\\begin{bmatrix}\n",
    "1 & 1 & 2 \\\\\n",
    "2 & 1 & 3 \\\\\n",
    "3 & 1 & 4 \\\\\n",
    "4 & 1 & 5 \n",
    "\\end{bmatrix} \\\n",
    "\\begin{bmatrix}x_{1} \\\\ x_{2} \\\\ x_{3}\\end{bmatrix}\n",
    "=\n",
    "\\begin{bmatrix}1 \\\\ 2 \\\\ 3 \\\\ 4\\end{bmatrix}\n",
    "$\n",
    "\n",
    "**because $Z$ is not the solution**\n",
    "\n",
    "see the quick test below: there is a non-zero row, row-1, \n",
    "meaning $x_{i}$ corresponding to these two rows can not be 0, hence\n",
    "$Z$ is not the solution"
   ]
  },
  {
   "cell_type": "code",
   "execution_count": 7,
   "id": "ranking-hands",
   "metadata": {},
   "outputs": [
    {
     "name": "stdout",
     "output_type": "stream",
     "text": [
      "⎡ 1  0  1  1 ⎤\n",
      "⎢ 0  1  1  0 ⎥\n",
      "⎢ 0  0  0  0 ⎥\n",
      "⎣ 0  0  0  0 ⎦\n"
     ]
    }
   ],
   "source": [
    "import pylinearalgebra.mattools as mt\n",
    "A = [\n",
    "    [1, 1, 2, 1],\n",
    "    [2, 1, 3, 2],\n",
    "    [3, 1, 4, 3],\n",
    "    [4, 1, 5, 4]\n",
    "]\n",
    "R, i_pivots = mt.rref(A)\n",
    "mt.pprint(R)"
   ]
  },
  {
   "cell_type": "markdown",
   "id": "consecutive-lloyd",
   "metadata": {},
   "source": [
    "from the geometric point of view, the two solutions here:\n",
    "\n",
    "`(0, -1, 1)` and `(1, 0, 0)` form a plane that **DOES NOT GO\n",
    "THROUGH the origin**\n",
    "\n"
   ]
  },
  {
   "cell_type": "markdown",
   "id": "existing-brunei",
   "metadata": {},
   "source": [
    "**subspace has to go through the origin**\n",
    "\n"
   ]
  },
  {
   "cell_type": "markdown",
   "id": "inappropriate-introduction",
   "metadata": {},
   "source": [
    "### two ways of producing subspaces\n",
    "\n",
    "provide a bunch of vectors \n",
    "\n",
    "provide a linear system and to find its solutions with requirements"
   ]
  },
  {
   "cell_type": "markdown",
   "id": "minute-culture",
   "metadata": {},
   "source": [
    "# Recitation and Exercises\n",
    "\n"
   ]
  },
  {
   "cell_type": "code",
   "execution_count": 1,
   "id": "rough-rehabilitation",
   "metadata": {},
   "outputs": [],
   "source": [
    "# problem 6.1\n",
    "\n",
    "# v1 = s1 + t1\n",
    "# v2 = s2 + t2\n",
    "\n",
    "# v1 + v2 = s1 + s2 + t1 + t2\n",
    "\n",
    "# if S and T are distinct lines, then S + T is a plane whereas\n",
    "# S U T is only these two lines\n",
    "\n"
   ]
  },
  {
   "cell_type": "code",
   "execution_count": null,
   "id": "detected-zealand",
   "metadata": {},
   "outputs": [],
   "source": [
    "# problem 6.2\n",
    "\n"
   ]
  }
 ],
 "metadata": {
  "kernelspec": {
   "display_name": "Python 3",
   "language": "python",
   "name": "python3"
  },
  "language_info": {
   "codemirror_mode": {
    "name": "ipython",
    "version": 3
   },
   "file_extension": ".py",
   "mimetype": "text/x-python",
   "name": "python",
   "nbconvert_exporter": "python",
   "pygments_lexer": "ipython3",
   "version": "3.8.1"
  }
 },
 "nbformat": 4,
 "nbformat_minor": 5
}
