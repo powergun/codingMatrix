{
 "cells": [
  {
   "cell_type": "markdown",
   "id": "cathedral-local",
   "metadata": {},
   "source": [
    "## four fundamental subspaces\n",
    "\n",
    "- $C(A)$\n",
    "- $N(A)$\n",
    "- row space $C(A^{T})$\n",
    "- the left nullspace $N(A^{T})$\n",
    "\n"
   ]
  },
  {
   "cell_type": "markdown",
   "id": "romantic-default",
   "metadata": {},
   "source": [
    "### row space\n",
    "\n",
    "are all the combinations of the rows of $A$;\n",
    "\n",
    "rows span the row space but rows do not necessarily form basis of the row space\n",
    "\n"
   ]
  },
  {
   "cell_type": "markdown",
   "id": "related-republic",
   "metadata": {},
   "source": [
    "#### row space -> column space\n",
    "\n",
    "I can take $A^{T}$ and translate the statement above to:\n",
    "\n",
    "row space is the column space of $A^{T}$\n",
    "\n",
    "**it allows me to use the convenient notation $C(A^{T})$**\n"
   ]
  },
  {
   "cell_type": "markdown",
   "id": "liked-large",
   "metadata": {},
   "source": [
    "### the nullspace of A transpose\n",
    "\n",
    "\"the left nullspace of $A$\"\n",
    "\n"
   ]
  },
  {
   "cell_type": "markdown",
   "id": "affiliated-horizon",
   "metadata": {},
   "source": [
    "### where are the 4 fundamental spaces\n",
    "\n",
    "Given $A_{m \\ \\times \\ n}$\n",
    "\n",
    "----\n",
    "\n",
    "$N(A)$ is in $R^{n}$, the solution to $Ax = 0$\n",
    "\n",
    "recall, to find the basis, I have to find the \"special solution\" to\n",
    "$Ax = 0$, which is reduce $A$ to $U$ or even $R$, then I give \n",
    "the free variables the special values $I$, recall **18.06_07: back\n",
    "substitution on the reduced form**; every special solution comes\n",
    "from a free variables\n",
    "\n",
    "these special solutions (number of free variables $dimN(A) = n -r$) are in $N(A)$ and form the basis\n",
    "\n",
    "$dimN(A) + dimC(A) = n$, meaning the number of columns in $A$\n",
    "\n",
    "----\n",
    "\n",
    "$C(A)$ is in $R^{m}$, $dimC(A) = r$, pivot columns are the basis\n",
    "\n",
    "$C(A^{T})$ is in $R^{n}$, $dimC(A^{T}) = r$, \n",
    "\n",
    "----\n",
    "\n",
    "$N(A^{T})$ is in $R^{m}$, $dimN(A^{T}) = m -r$\n",
    "\n",
    "$dimN(A^{T}) + dimC(A^{T}) = m$, meaning the number of columns\n",
    "in $A^{T}$\n",
    "\n",
    "----\n",
    "\n",
    "to conclude, $A^{T}$ is as good as $A$ as it follows all the rules\n",
    "that  $A$ does"
   ]
  },
  {
   "cell_type": "markdown",
   "id": "modular-confusion",
   "metadata": {},
   "source": [
    "### how to find the basis of the row space \n",
    "\n",
    "example \n",
    "\n",
    "$A = \\begin{bmatrix}\n",
    "1 & 2 & 3 & 1 \\\\\n",
    "1 & 1 & 2 & 1 \\\\\n",
    "1 & 2 & 3 & 1 \n",
    "\\end{bmatrix}$\n",
    "\n",
    "\n"
   ]
  },
  {
   "cell_type": "markdown",
   "id": "international-fortune",
   "metadata": {},
   "source": [
    "reduce it to the RREF \n",
    "\n",
    "$R = \\begin{bmatrix}\n",
    "1 & 0 & 1 & 0 \\\\\n",
    "0 & 1 & 1 & 0 \\\\\n",
    "0 & 0 & 0 & 0 \n",
    "\\end{bmatrix}\n",
    "= \n",
    "\\begin{bmatrix}\n",
    "I & F \\\\\n",
    "0 & 0\n",
    "\\end{bmatrix}$\n",
    "\n",
    "but note that $C(R) \\ne C(A)$ (because `{1, 1, 1}` was in $C(A)$ but\n",
    "not in $C(R)$)\n",
    "\n",
    "**therefore the column space changes after RREF reduction!**\n",
    "\n",
    "however the row space does not change! All the original rows\n",
    "are the combinations of the rows in $R$\n",
    "\n",
    "therefore the basis of the row space of $R$ (the first two rows\n",
    "in this case) will be the basis of\n",
    "that of $A$\n",
    "\n",
    "formalize this to:\n",
    "\n",
    "**the basis of the $C(A^{T})$ are the rows of the $I$ part of $R$**\n",
    "\n",
    "sanity check list:\n",
    "\n",
    "- these rows in $R$ are independent\n",
    "- their combinations form the rows in $A$ (reversing the steps of RREF reduction)"
   ]
  },
  {
   "cell_type": "markdown",
   "id": "south-planner",
   "metadata": {},
   "source": [
    "### why call it the left nullspace\n",
    "\n",
    "because \n",
    "\n",
    "$\n",
    "A^{T}y = 0\n",
    "\\\\\n",
    "y^{T}A = 0^{T}\n",
    "\\\\\n",
    "\\text{multiply from the left} \\\\\n",
    "\\begin{bmatrix}& & y^{T} & & \\end{bmatrix}\n",
    "\\begin{bmatrix}\\\\ A \\\\ \\\\\\end{bmatrix}\n",
    "= \\begin{bmatrix} & & 0 & & \\end{bmatrix}\n",
    "$\n",
    "\n"
   ]
  },
  {
   "cell_type": "markdown",
   "id": "sound-sally",
   "metadata": {},
   "source": [
    "but usually the form $A^{T}y = 0$ is used"
   ]
  },
  {
   "cell_type": "markdown",
   "id": "tired-utilization",
   "metadata": {},
   "source": [
    "reusing the example above\n",
    "\n",
    "$A = \\begin{bmatrix}\n",
    "1 & 2 & 3 & 1 \\\\\n",
    "1 & 1 & 2 & 1 \\\\\n",
    "1 & 2 & 3 & 1 \n",
    "\\end{bmatrix}\n",
    "\\\\\n",
    "R = \\begin{bmatrix}\n",
    "1 & 0 & 1 & 0 \\\\\n",
    "0 & 1 & 1 & 0 \\\\\n",
    "0 & 0 & 0 & 0 \n",
    "\\end{bmatrix}\n",
    "$\n",
    "\n",
    "but remember this is the $R$ for $A$ not $A^{T}$"
   ]
  },
  {
   "cell_type": "markdown",
   "id": "offshore-familiar",
   "metadata": {},
   "source": [
    "#### a quick review on Gaussian Jordan elimination and RREF\n",
    "\n",
    "recall that \n",
    "\n",
    "$\n",
    "rref(\n",
    "\\begin{bmatrix}A_{m \\ \\times \\ n} & I_{m \\ \\times \\ m}\\end{bmatrix}\n",
    ") =\n",
    "\\begin{bmatrix}R_{m \\ \\times \\ n} & E_{m \\ \\times \\ m}\\end{bmatrix}\n",
    "$\n",
    "\n",
    "$E$ contains all the records what we did for $A$ to become $R$\n",
    "\n",
    "MY NOTE:\n",
    "\n",
    "this notion of **recording what we did** is inspiring! I never\n",
    "realize $I$ has this ability!\n",
    "this can probably help with encryption and decyption (recording\n",
    "what I did to translate the plaintext and later on revert\n",
    "the translation)\n",
    "\n"
   ]
  },
  {
   "cell_type": "markdown",
   "id": "mexican-mistake",
   "metadata": {},
   "source": [
    "recall that all the row reductions are equivalent to left-mult\n",
    "$A$ with some $E_{i}$\n",
    "\n",
    "and $E$ consists of the complete series of $E_{i}$"
   ]
  },
  {
   "cell_type": "markdown",
   "id": "common-booth",
   "metadata": {},
   "source": [
    "also recall that, when $A$ is square and invertible, this process\n",
    "produces $I$ and $A^{-1}$ (review:\n",
    "**18.06_03_multiplication_and_inverse**)\n",
    "\n",
    "$\n",
    "rref(\n",
    "\\begin{bmatrix}A_{m \\ \\times \\ m} & I_{m \\ \\times \\ m}\\end{bmatrix}\n",
    ") =\n",
    "\\begin{bmatrix}I_{m \\ \\times \\ m} & A^{-1}_{m \\ \\times \\ m}\\end{bmatrix}\n",
    "$"
   ]
  },
  {
   "cell_type": "markdown",
   "id": "fifteen-bedroom",
   "metadata": {},
   "source": [
    "now, apply this RREF reduction with $I$ on the example above:\n",
    "\n",
    "$A = \\left[ \\begin{array}{cccc|ccc}\n",
    "1 & 2 & 3 & 1   & 1 & 0 & 0\\\\\n",
    "1 & 1 & 2 & 1   & 0 & 1 & 0\\\\\n",
    "1 & 2 & 3 & 1   & 0 & 0 & 1\n",
    "\\end{array} \\right]\n",
    "\\\\\n",
    "R = \\left[ \\begin{array}{cccc|ccc}\n",
    "1 & 0 & 1 & 0   & 0 & 2 & -1\\\\\n",
    "0 & 1 & 1 & 0   & 0 & -1 & 1\\\\\n",
    "0 & 0 & 0 & 0   & 1 & 0 & -1\n",
    "\\end{array} \\right]\n",
    "$"
   ]
  },
  {
   "cell_type": "code",
   "execution_count": 14,
   "id": "featured-thomson",
   "metadata": {},
   "outputs": [
    {
     "name": "stdout",
     "output_type": "stream",
     "text": [
      "-----------rref-----------\n",
      "Matrix([\n",
      "[1, 2, 3, 1, 1, 0, 0],\n",
      "[1, 1, 2, 1, 0, 1, 0],\n",
      "[1, 2, 3, 1, 0, 0, 1]])\n",
      "Matrix([\n",
      "[1, 0, 1, 1, 0,  2, -1],\n",
      "[0, 1, 1, 0, 0, -1,  1],\n",
      "[0, 0, 0, 0, 1,  0, -1]])\n",
      "-----------verify E ---------\n",
      "E\n",
      "array([[0, 2, -1],\n",
      "       [0, -1, 1],\n",
      "       [1, 0, -1]], dtype=object)\n",
      "E . A\n",
      "array([[1, 0, 1, 1],\n",
      "       [0, 1, 1, 0],\n",
      "       [0, 0, 0, 0]], dtype=object)\n"
     ]
    }
   ],
   "source": [
    "import numpy as np\n",
    "import sympy\n",
    "from pprint import pprint as pp\n",
    "\n",
    "A = sympy.Matrix([\n",
    "    [1, 2, 3, 1],\n",
    "    [1, 1, 2, 1],\n",
    "    [1, 2, 3, 1]\n",
    "])\n",
    "Aaug = sympy.Matrix([\n",
    "    [1, 2, 3, 1, 1, 0, 0],\n",
    "    [1, 1, 2, 1, 0, 1, 0],\n",
    "    [1, 2, 3, 1, 0, 0, 1]\n",
    "])\n",
    "\n",
    "R, iPivots = Aaug.rref()\n",
    "\n",
    "print('-----------rref-----------')\n",
    "pp(Aaug)\n",
    "pp(R)\n",
    "\n",
    "E = np.array(R[:, -3:])\n",
    "print('-----------verify E ---------')\n",
    "print('E')\n",
    "pp(E)\n",
    "print('E . A')\n",
    "pp(np.dot(E, A))"
   ]
  },
  {
   "cell_type": "markdown",
   "id": "permanent-disposition",
   "metadata": {},
   "source": [
    "to conclude, $E$ is this dude:\n",
    "\n",
    "```\n",
    "[[0, 2, -1],\n",
    " [0, -1, 1],\n",
    " [1, 0, -1]]\n",
    "```\n",
    "\n",
    "its last row, when left-mult $A$, produce the zero row which is\n",
    "$N(A^{T})$,\n",
    "therefore it is the basis of $N(A^{T})$"
   ]
  },
  {
   "cell_type": "markdown",
   "id": "conceptual-opinion",
   "metadata": {},
   "source": [
    "### preview: matrix space"
   ]
  },
  {
   "cell_type": "markdown",
   "id": "saving-module",
   "metadata": {},
   "source": [
    "a space of all the 3 by 3 matrices\n",
    "\n",
    "it can be called \"vector space\" because it follows the rules: these\n",
    "matrices can be combined to span the space\n",
    "\n",
    "these matrices also follow the concept of subspaces:\n",
    "\n",
    "let $D$ be all the diagonal matrices;\n",
    "\n",
    "let $U$ be all the upper triangular matrices;\n",
    "\n",
    "let $S$ be all the symmetric matrices;\n",
    "\n",
    "(latex: <https://oeis.org/wiki/List_of_LaTeX_mathematical_symbols>)\n",
    "\n",
    "then $D = U \\cap S; D \\subseteq U, D \\subseteq S$\n"
   ]
  },
  {
   "cell_type": "markdown",
   "id": "aggressive-local",
   "metadata": {},
   "source": [
    "and each subspace also has its basis\n",
    "\n",
    "for example, for $D$, I have these matrices forming a basis (with\n",
    "size 3)\n",
    "\n",
    "```\n",
    "[[1, 0, 0],\n",
    " [0, 0, 0],\n",
    " [0, 0, 0]],\n",
    " \n",
    "[[1, 0, 0],\n",
    " [0, 3, 0],\n",
    " [0, 0, 0]]\n",
    " \n",
    "[[0, 0, 0],\n",
    " [0, 0, 0],\n",
    " [0, 0, 7]]\n",
    "```\n"
   ]
  },
  {
   "cell_type": "code",
   "execution_count": null,
   "id": "limiting-warrior",
   "metadata": {},
   "outputs": [],
   "source": []
  }
 ],
 "metadata": {
  "kernelspec": {
   "display_name": "Python 3",
   "language": "python",
   "name": "python3"
  },
  "language_info": {
   "codemirror_mode": {
    "name": "ipython",
    "version": 3
   },
   "file_extension": ".py",
   "mimetype": "text/x-python",
   "name": "python",
   "nbconvert_exporter": "python",
   "pygments_lexer": "ipython3",
   "version": "3.8.1"
  }
 },
 "nbformat": 4,
 "nbformat_minor": 5
}
