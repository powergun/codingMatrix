{
 "cells": [
  {
   "cell_type": "markdown",
   "id": "extended-pontiac",
   "metadata": {},
   "source": [
    "## four fundamental subspaces\n",
    "\n",
    "- $C(A)$\n",
    "- $N(A)$\n",
    "- row space $C(A^{T})$\n",
    "- the left nullspace $N(A^{T})$\n",
    "\n"
   ]
  },
  {
   "cell_type": "markdown",
   "id": "desirable-beauty",
   "metadata": {},
   "source": [
    "### row space\n",
    "\n",
    "are all the combinations of the rows of $A$;\n",
    "\n",
    "rows span the row space but rows do not necessarily form basis of the row space\n",
    "\n"
   ]
  },
  {
   "cell_type": "markdown",
   "id": "centered-twenty",
   "metadata": {},
   "source": [
    "#### row space -> column space\n",
    "\n",
    "I can take $A^{T}$ and translate the statement above to:\n",
    "\n",
    "row space is the column space of $A^{T}$\n",
    "\n",
    "**it allows me to use the convenient notation $C(A^{T})$**\n"
   ]
  },
  {
   "cell_type": "markdown",
   "id": "scientific-reception",
   "metadata": {},
   "source": [
    "### the nullspace of A transpose\n",
    "\n",
    "\"the left nullspace of $A$\"\n",
    "\n"
   ]
  },
  {
   "cell_type": "markdown",
   "id": "directed-pasta",
   "metadata": {},
   "source": [
    "### where are the 4 fundamental spaces\n",
    "\n",
    "Given $A_{m \\ \\times \\ n}$\n",
    "\n",
    "----\n",
    "\n",
    "$N(A)$ is in $R^{n}$, the solution to $Ax = 0$\n",
    "\n",
    "recall, to find the basis, I have to find the \"special solution\" to\n",
    "$Ax = 0$, which is reduce $A$ to $U$ or even $R$, then I give \n",
    "the free variables the special values $I$, recall **18.06_07: back\n",
    "substitution on the reduced form**; every special solution comes\n",
    "from a free variables\n",
    "\n",
    "these special solutions (number of free variables $dimN(A) = n -r$) are in $N(A)$ and form the basis\n",
    "\n",
    "----\n",
    "\n",
    "$C(A)$ is in $R^{m}$, $dimC(A) = r$, pivot columns are the basis\n",
    "\n",
    "$C(A^{T})$ is in $R^{n}$, $dimC(A^{T}) = r$, \n",
    "\n",
    "----\n",
    "\n",
    "$N(A^{T})$ is in $R^{m}$, $dimN(A^{T}) = n -r$\n"
   ]
  },
  {
   "cell_type": "markdown",
   "id": "relevant-skill",
   "metadata": {},
   "source": [
    "\n",
    "\n"
   ]
  },
  {
   "cell_type": "markdown",
   "id": "present-thailand",
   "metadata": {},
   "source": []
  },
  {
   "cell_type": "markdown",
   "id": "elder-moldova",
   "metadata": {},
   "source": []
  },
  {
   "cell_type": "markdown",
   "id": "french-maine",
   "metadata": {},
   "source": []
  },
  {
   "cell_type": "markdown",
   "id": "willing-links",
   "metadata": {},
   "source": []
  },
  {
   "cell_type": "markdown",
   "id": "interstate-double",
   "metadata": {},
   "source": []
  },
  {
   "cell_type": "markdown",
   "id": "distant-science",
   "metadata": {},
   "source": []
  }
 ],
 "metadata": {
  "kernelspec": {
   "display_name": "pyLinearAlgebra",
   "language": "python",
   "name": "python3"
  },
  "language_info": {
   "codemirror_mode": {
    "name": "ipython",
    "version": 3
   },
   "file_extension": ".py",
   "mimetype": "text/x-python",
   "name": "python",
   "nbconvert_exporter": "python",
   "pygments_lexer": "ipython3",
   "version": "3.8.1"
  }
 },
 "nbformat": 4,
 "nbformat_minor": 5
}
