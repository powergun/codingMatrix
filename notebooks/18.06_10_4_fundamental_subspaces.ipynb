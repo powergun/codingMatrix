{
 "cells": [
  {
   "cell_type": "markdown",
   "id": "cathedral-local",
   "metadata": {},
   "source": [
    "## four fundamental subspaces\n",
    "\n",
    "- $C(A)$\n",
    "- $N(A)$\n",
    "- row space $C(A^{T})$\n",
    "- the left nullspace $N(A^{T})$\n",
    "\n"
   ]
  },
  {
   "cell_type": "markdown",
   "id": "romantic-default",
   "metadata": {},
   "source": [
    "### row space\n",
    "\n",
    "are all the combinations of the rows of $A$;\n",
    "\n",
    "rows span the row space but rows do not necessarily form basis of the row space\n",
    "\n"
   ]
  },
  {
   "cell_type": "markdown",
   "id": "related-republic",
   "metadata": {},
   "source": [
    "#### row space -> column space\n",
    "\n",
    "I can take $A^{T}$ and translate the statement above to:\n",
    "\n",
    "row space is the column space of $A^{T}$\n",
    "\n",
    "**it allows me to use the convenient notation $C(A^{T})$**\n"
   ]
  },
  {
   "cell_type": "markdown",
   "id": "liked-large",
   "metadata": {},
   "source": [
    "### the nullspace of A transpose\n",
    "\n",
    "\"the left nullspace of $A$\"\n",
    "\n"
   ]
  },
  {
   "cell_type": "markdown",
   "id": "affiliated-horizon",
   "metadata": {},
   "source": [
    "### where are the 4 fundamental spaces\n",
    "\n",
    "Given $A_{m \\ \\times \\ n}$\n",
    "\n",
    "----\n",
    "\n",
    "$N(A)$ is in $R^{n}$, the solution to $Ax = 0$\n",
    "\n",
    "recall, to find the basis, I have to find the \"special solution\" to\n",
    "$Ax = 0$, which is reduce $A$ to $U$ or even $R$, then I give \n",
    "the free variables the special values $I$, recall **18.06_07: back\n",
    "substitution on the reduced form**; every special solution comes\n",
    "from a free variables\n",
    "\n",
    "these special solutions (number of free variables $dimN(A) = n -r$) are in $N(A)$ and form the basis\n",
    "\n",
    "$dimN(A) + dimC(A) = n$, meaning the number of columns in $A$\n",
    "\n",
    "----\n",
    "\n",
    "$C(A)$ is in $R^{m}$, $dimC(A) = r$, pivot columns are the basis\n",
    "\n",
    "$C(A^{T})$ is in $R^{n}$, $dimC(A^{T}) = r$, \n",
    "\n",
    "----\n",
    "\n",
    "$N(A^{T})$ is in $R^{m}$, $dimN(A^{T}) = m -r$\n",
    "\n",
    "$dimN(A^{T}) + dimC(A^{T}) = m$, meaning the number of columns\n",
    "in $A^{T}$\n",
    "\n",
    "----\n",
    "\n",
    "to conclude, $A^{T}$ is as good as $A$ as it follows all the rules\n",
    "that  $A$ does"
   ]
  },
  {
   "cell_type": "markdown",
   "id": "modular-confusion",
   "metadata": {},
   "source": [
    "### how to find the basis of the row space \n",
    "\n",
    "example \n",
    "\n",
    "$A = \\begin{bmatrix}\n",
    "1 & 2 & 3 & 1 \\\\\n",
    "1 & 1 & 2 & 1 \\\\\n",
    "1 & 2 & 3 & 1 \n",
    "\\end{bmatrix}$\n",
    "\n",
    "\n"
   ]
  },
  {
   "cell_type": "markdown",
   "id": "international-fortune",
   "metadata": {},
   "source": [
    "reduce it to the RREF \n",
    "\n",
    "$R = \\begin{bmatrix}\n",
    "1 & 0 & 1 & 1 \\\\\n",
    "0 & 1 & 1 & 0 \\\\\n",
    "0 & 0 & 0 & 0 \n",
    "\\end{bmatrix}\n",
    "= \n",
    "\\begin{bmatrix}\n",
    "I & F \\\\\n",
    "0 & 0\n",
    "\\end{bmatrix}$\n",
    "\n",
    "but note that $C(R) \\ne C(A)$ (because `{1, 1, 1}` was in $C(A)$ but\n",
    "not in $C(R)$)\n",
    "\n",
    "**therefore the column space changes after RREF reduction!**\n",
    "\n",
    "however the row space does not change! All the original rows\n",
    "are the combinations of the rows in $R$\n",
    "\n",
    "therefore the basis of the row space of $R$ (the first two rows\n",
    "in this case) will be the basis of\n",
    "that of $A$\n",
    "\n",
    "formalize this to:\n",
    "\n",
    "**the basis of the $C(A^{T})$ are the rows of the $I$ part of $R$**\n",
    "\n",
    "sanity check list:\n",
    "\n",
    "- these rows in $R$ are independent\n",
    "- their combinations form the rows in $A$ (reversing the steps of RREF reduction)"
   ]
  },
  {
   "cell_type": "code",
   "execution_count": 3,
   "id": "binary-grant",
   "metadata": {},
   "outputs": [
    {
     "name": "stdout",
     "output_type": "stream",
     "text": [
      "⎡ 1⎤\n",
      "⎢ 0⎥\n",
      "⎢ 1⎥\n",
      "⎣ 1⎦\n",
      "⎡ 0⎤\n",
      "⎢ 1⎥\n",
      "⎢ 1⎥\n",
      "⎣ 0⎦\n"
     ]
    }
   ],
   "source": [
    "import pylinearalgebra.mattools as mt\n",
    "A = [\n",
    "    [1, 2, 3, 1],\n",
    "    [1, 1, 2, 1],\n",
    "    [1, 2, 3, 1]\n",
    "]\n",
    "vectors = mt.row_space(A, tolist=True)\n",
    "for v in vectors:\n",
    "    mt.pprint(v)"
   ]
  },
  {
   "cell_type": "markdown",
   "id": "south-planner",
   "metadata": {},
   "source": [
    "### why call it the left nullspace\n",
    "\n",
    "because \n",
    "\n",
    "$\n",
    "A^{T}y = 0\n",
    "\\\\\n",
    "y^{T}A = 0^{T}\n",
    "\\\\\n",
    "\\text{multiply from the left} \\\\\n",
    "\\begin{bmatrix}& & y^{T} & & \\end{bmatrix}\n",
    "\\begin{bmatrix}\\\\ A \\\\ \\\\\\end{bmatrix}\n",
    "= \\begin{bmatrix} & & 0 & & \\end{bmatrix}\n",
    "$\n",
    "\n"
   ]
  },
  {
   "cell_type": "markdown",
   "id": "sound-sally",
   "metadata": {},
   "source": [
    "but usually the form $A^{T}y = 0$ is used"
   ]
  },
  {
   "cell_type": "markdown",
   "id": "tired-utilization",
   "metadata": {},
   "source": [
    "reusing the example above\n",
    "\n",
    "$A = \\begin{bmatrix}\n",
    "1 & 2 & 3 & 1 \\\\\n",
    "1 & 1 & 2 & 1 \\\\\n",
    "1 & 2 & 3 & 1 \n",
    "\\end{bmatrix}\n",
    "\\\\\n",
    "R = \\begin{bmatrix}\n",
    "1 & 0 & 1 & 1 \\\\\n",
    "0 & 1 & 1 & 0 \\\\\n",
    "0 & 0 & 0 & 0 \n",
    "\\end{bmatrix}\n",
    "$\n",
    "\n",
    "but remember this is the $R$ for $A$ not $A^{T}$"
   ]
  },
  {
   "cell_type": "markdown",
   "id": "offshore-familiar",
   "metadata": {},
   "source": [
    "#### a quick review on Gaussian Jordan elimination and RREF\n",
    "\n",
    "recall that \n",
    "\n",
    "$\n",
    "rref(\n",
    "\\begin{bmatrix}A_{m \\ \\times \\ n} & I_{m \\ \\times \\ m}\\end{bmatrix}\n",
    ") =\n",
    "\\begin{bmatrix}R_{m \\ \\times \\ n} & E_{m \\ \\times \\ m}\\end{bmatrix}\n",
    "$\n",
    "\n",
    "$E$ contains all the records what we did for $A$ to become $R$\n",
    "\n",
    "MY NOTE:\n",
    "\n",
    "this notion of **recording what we did** is inspiring! I never\n",
    "realize $I$ has this ability!\n",
    "this can probably help with encryption and decyption (recording\n",
    "what I did to translate the plaintext and later on revert\n",
    "the translation)\n",
    "\n"
   ]
  },
  {
   "cell_type": "markdown",
   "id": "mexican-mistake",
   "metadata": {},
   "source": [
    "recall that all the row reductions are equivalent to left-mult\n",
    "$A$ with some $E_{i}$\n",
    "\n",
    "and $E$ consists of the complete series of $E_{i}$"
   ]
  },
  {
   "cell_type": "markdown",
   "id": "common-booth",
   "metadata": {},
   "source": [
    "also recall that, when $A$ is square and invertible, this process\n",
    "produces $I$ and $A^{-1}$ (review:\n",
    "**18.06_03_multiplication_and_inverse**)\n",
    "\n",
    "$\n",
    "rref(\n",
    "\\begin{bmatrix}A_{m \\ \\times \\ m} & I_{m \\ \\times \\ m}\\end{bmatrix}\n",
    ") =\n",
    "\\begin{bmatrix}I_{m \\ \\times \\ m} & A^{-1}_{m \\ \\times \\ m}\\end{bmatrix}\n",
    "$"
   ]
  },
  {
   "cell_type": "markdown",
   "id": "fifteen-bedroom",
   "metadata": {},
   "source": [
    "now, apply this RREF reduction with $I$ on the example above:\n",
    "\n",
    "$A = \\left[ \\begin{array}{cccc|ccc}\n",
    "1 & 2 & 3 & 1   & 1 & 0 & 0\\\\\n",
    "1 & 1 & 2 & 1   & 0 & 1 & 0\\\\\n",
    "1 & 2 & 3 & 1   & 0 & 0 & 1\n",
    "\\end{array} \\right]\n",
    "\\\\\n",
    "R = \\left[ \\begin{array}{cccc|ccc}\n",
    "1 & 0 & 1 & 1   & 0 & 2 & -1\\\\\n",
    "0 & 1 & 1 & 0   & 0 & -1 & 1\\\\\n",
    "0 & 0 & 0 & 0   & 1 & 0 & -1\n",
    "\\end{array} \\right]\n",
    "$"
   ]
  },
  {
   "cell_type": "code",
   "execution_count": 14,
   "id": "featured-thomson",
   "metadata": {},
   "outputs": [
    {
     "name": "stdout",
     "output_type": "stream",
     "text": [
      "-----------rref-----------\n",
      "Matrix([\n",
      "[1, 2, 3, 1, 1, 0, 0],\n",
      "[1, 1, 2, 1, 0, 1, 0],\n",
      "[1, 2, 3, 1, 0, 0, 1]])\n",
      "Matrix([\n",
      "[1, 0, 1, 1, 0,  2, -1],\n",
      "[0, 1, 1, 0, 0, -1,  1],\n",
      "[0, 0, 0, 0, 1,  0, -1]])\n",
      "-----------verify E ---------\n",
      "E\n",
      "array([[0, 2, -1],\n",
      "       [0, -1, 1],\n",
      "       [1, 0, -1]], dtype=object)\n",
      "E . A\n",
      "array([[1, 0, 1, 1],\n",
      "       [0, 1, 1, 0],\n",
      "       [0, 0, 0, 0]], dtype=object)\n"
     ]
    }
   ],
   "source": [
    "import numpy as np\n",
    "import sympy\n",
    "from pprint import pprint as pp\n",
    "\n",
    "A = sympy.Matrix([\n",
    "    [1, 2, 3, 1],\n",
    "    [1, 1, 2, 1],\n",
    "    [1, 2, 3, 1]\n",
    "])\n",
    "Aaug = sympy.Matrix([\n",
    "    [1, 2, 3, 1, 1, 0, 0],\n",
    "    [1, 1, 2, 1, 0, 1, 0],\n",
    "    [1, 2, 3, 1, 0, 0, 1]\n",
    "])\n",
    "\n",
    "R, iPivots = Aaug.rref()\n",
    "\n",
    "print('-----------rref-----------')\n",
    "pp(Aaug)\n",
    "pp(R)\n",
    "\n",
    "E = np.array(R[:, -3:])\n",
    "print('-----------verify E ---------')\n",
    "print('E')\n",
    "pp(E)\n",
    "print('E . A')\n",
    "pp(np.dot(E, A))"
   ]
  },
  {
   "cell_type": "markdown",
   "id": "permanent-disposition",
   "metadata": {},
   "source": [
    "to conclude, $E$ is this dude:\n",
    "\n",
    "```\n",
    "[[0, 2, -1],\n",
    " [0, -1, 1],\n",
    " [1, 0, -1]]\n",
    "```\n",
    "\n",
    "its last row, when left-mult $A$, produce the zero row which is\n",
    "$N(A^{T})$,\n",
    "therefore it is the basis of $N(A^{T})$"
   ]
  },
  {
   "cell_type": "code",
   "execution_count": 5,
   "id": "cardiovascular-character",
   "metadata": {},
   "outputs": [
    {
     "name": "stdout",
     "output_type": "stream",
     "text": [
      "⎡ 0⎤\n",
      "⎢ 0⎥\n",
      "⎣ 1⎦\n"
     ]
    }
   ],
   "source": [
    "import pylinearalgebra.mattools as mt\n",
    "A = [\n",
    "    [1, 2, 3, 1],\n",
    "    [1, 1, 2, 1],\n",
    "    [1, 2, 3, 1]\n",
    "]\n",
    "vectors = mt.left_null_space(A, tolist=True)\n",
    "for v in vectors:\n",
    "    mt.pprint(v)"
   ]
  },
  {
   "cell_type": "markdown",
   "id": "conceptual-opinion",
   "metadata": {},
   "source": [
    "### preview: matrix space"
   ]
  },
  {
   "cell_type": "markdown",
   "id": "saving-module",
   "metadata": {},
   "source": [
    "a space of all the 3 by 3 matrices\n",
    "\n",
    "it can be called \"vector space\" because it follows the rules: these\n",
    "matrices can be combined to span the space\n",
    "\n",
    "these matrices also follow the concept of subspaces:\n",
    "\n",
    "let $D$ be all the diagonal matrices;\n",
    "\n",
    "let $U$ be all the upper triangular matrices;\n",
    "\n",
    "let $S$ be all the symmetric matrices;\n",
    "\n",
    "(latex: <https://oeis.org/wiki/List_of_LaTeX_mathematical_symbols>)\n",
    "\n",
    "then $D = U \\cap S; D \\subseteq U, D \\subseteq S$\n"
   ]
  },
  {
   "cell_type": "markdown",
   "id": "aggressive-local",
   "metadata": {},
   "source": [
    "and each subspace also has its basis\n",
    "\n",
    "for example, for $D$, I have these matrices forming a basis (with\n",
    "size 3)\n",
    "\n",
    "```\n",
    "[[1, 0, 0],\n",
    " [0, 0, 0],\n",
    " [0, 0, 0]],\n",
    " \n",
    "[[1, 0, 0],\n",
    " [0, 3, 0],\n",
    " [0, 0, 0]]\n",
    " \n",
    "[[0, 0, 0],\n",
    " [0, 0, 0],\n",
    " [0, 0, 7]]\n",
    "```\n"
   ]
  },
  {
   "cell_type": "markdown",
   "id": "dietary-calculation",
   "metadata": {},
   "source": [
    "# Recitations and Exercises"
   ]
  },
  {
   "cell_type": "markdown",
   "id": "raising-spoke",
   "metadata": {},
   "source": [
    "## recitation\n",
    "\n",
    "suppose \n",
    "\n",
    "$B = \n",
    "\\begin{bmatrix}\n",
    "1 & \\ & \\ \\\\\n",
    "2 & 1 & \\ \\\\\n",
    "-1 & 0 & 1\n",
    "\\end{bmatrix}\n",
    "\\begin{bmatrix}\n",
    "5 & 0 & 3 \\\\\n",
    "0 & 1 & 1 \\\\\n",
    "0 & 0 & 0\n",
    "\\end{bmatrix}$\n",
    "\n",
    "find a basis for and compute the dim of each of the 4 fundamental\n",
    "subspaces\n",
    "\n",
    "NOTE, B is written as the dot product of\n",
    "a lower triangular matrix and an upper triangular matrix\n",
    "\n",
    "(the empty element is 0)\n"
   ]
  },
  {
   "cell_type": "code",
   "execution_count": 1,
   "id": "talented-stable",
   "metadata": {},
   "outputs": [],
   "source": [
    "# key is U\n",
    "# ^^^^^^^^\n",
    "# N(A), is to solve Rx = 0\n",
    "# R = [[1, 0, 3/5], [0, 1, 1], [0, 0, 0]]\n",
    "# the solutions are (basis)\n",
    "# {-3/5, -1, 1}\n",
    "# dim is 1 (n - r = 3 - 2)\n",
    "\n",
    "# key is L\n",
    "# ^^^^^^^^\n",
    "# C(A), what are the pivot columns in R ?\n",
    "# 0, 1\n",
    "# map it back the original A to find the column vectors\n",
    "# which are the basis of C(A)\n",
    "# dim is 2 (r)\n",
    "# OR: I can simply take the pivot columns from L matrix!!!!\n",
    "# {1, 2, -1}, {0, 1, 0}\n",
    "\n",
    "# key is U\n",
    "# ^^^^^^^^\n",
    "# C(AT)\n",
    "# dim is 2 (r)\n",
    "# similarly map the pivot rows back to A to find the row\n",
    "# vectors\n",
    "# OR: I can simply take the pivot rows from U matrix because\n",
    "#  elimination does not change the row space\n",
    "# {5, 0, 3}, {0, 1, 1}\n",
    "\n",
    "# key is L-inverse\n",
    "# ^^^^^^^^^^^^^^^^\n",
    "# N(AT)\n",
    "# dim is 1 (m - r = 3 - 2)\n",
    "# basis??\n",
    "\n"
   ]
  },
  {
   "cell_type": "markdown",
   "id": "protective-colorado",
   "metadata": {},
   "source": [
    "computing N(AT) involve computing E\n",
    "\n",
    "knowing that I can move $L$ to LHS\n",
    "\n",
    "note how easy it is to compute $L^{-1}$ (just inverse the signs\n",
    "of the non-diagonal elements)\n",
    "\n",
    "$L^{-1} B = U \\\\\n",
    "\\\\\n",
    "\\begin{bmatrix}\n",
    "1 & 0 & 0 \\\\\n",
    "-2 & 1 & 0 \\\\\n",
    "1 & 0 & 1\n",
    "\\end{bmatrix}\n",
    "B = \\begin{bmatrix}\n",
    "5 & 0 & 3 \\\\\n",
    "0 & 1 & 1 \\\\\n",
    "0 & 0 & 0\n",
    "\\end{bmatrix}\n",
    "$\n",
    "\n",
    "$L^{-1}$ is essentially $E$\n",
    "\n",
    "the non pivot (free) rows in $U$ is row-2, therefore I take\n",
    "row-2 from $E$ (which is $L^{-1}$) and get `{1, 0, 1}`"
   ]
  },
  {
   "cell_type": "code",
   "execution_count": 2,
   "id": "formal-protection",
   "metadata": {},
   "outputs": [],
   "source": [
    "# Problem 10.1\n",
    "# A is an m x n matrix of rank r, \n",
    "# suppose there are right sides b for which Ax = b has\n",
    "# no solution\n",
    "\n",
    "# a) what are all the inequalities (< or <=) that must be \n",
    "#   true between m, n, r\n",
    "\n",
    "# to have solution r <= n and r <= m\n",
    "# therefore r < m\n",
    "\n",
    "# b) how do you know that ATy = 0 has solutions \n",
    "# this the left nullspace with dim = m - r\n",
    "# because r < m, m - r > 0, therefore there are nonzero vectors\n",
    "# in the solutions\n",
    "\n"
   ]
  },
  {
   "cell_type": "code",
   "execution_count": 1,
   "id": "beautiful-metropolitan",
   "metadata": {},
   "outputs": [],
   "source": [
    "# Problem 10.2\n",
    "# ATy = d is solvable when d is in which of the four subspaces\n",
    "\n",
    "# rowspace\n",
    "\n",
    "# when N(AT) only contains the zero vector\n",
    "\n",
    "# recall that N(AT) is about the rows whereas N(A) is about the \n",
    "# columns"
   ]
  },
  {
   "cell_type": "markdown",
   "id": "simplified-price",
   "metadata": {},
   "source": [
    "# Exam-1 review"
   ]
  },
  {
   "cell_type": "markdown",
   "id": "together-rachel",
   "metadata": {},
   "source": [
    "is this statement correct?\n",
    "\n",
    "the matrices $A, -A$ share the same four subspaces"
   ]
  },
  {
   "cell_type": "code",
   "execution_count": 2,
   "id": "forward-brook",
   "metadata": {},
   "outputs": [],
   "source": [
    "\n",
    "# yes they share nullspace and left-nullspace:\n",
    "\n",
    "#  A x = 0,  AT y = 0\n",
    "# -A x = 0, -AT y = 0\n",
    "\n",
    "# yes they also share the same col space and row space\n",
    "# because, recall how col space and row space are\n",
    "# computed, and also recall the definition of these\n",
    "# 2 spaces:\n",
    "\n",
    "# those independent cols span the col space;\n",
    "# those independnet rows span the row space;\n",
    "\n",
    "# mult these cols or rows by -1 have no effect on this\n",
    "# property\n",
    "\n"
   ]
  },
  {
   "cell_type": "markdown",
   "id": "early-emerald",
   "metadata": {},
   "source": [
    "if $A, B$ have the same four subspaces, $A$ is a multiple of $B$\n",
    "\n",
    "is this a correct statement?\n",
    "\n",
    "what do $A, B$ have in common then?"
   ]
  },
  {
   "cell_type": "code",
   "execution_count": 3,
   "id": "happy-liberia",
   "metadata": {},
   "outputs": [],
   "source": [
    "# not correct\n",
    "\n",
    "# if A, B are both invertible matrices of 6 x 6 \n",
    "# their col space and row space will both be R6!!!\n",
    "# their nullspace and left-nullspace will both be {Z}\n",
    "# however A does not need to be some multiple of B\n",
    "# \n",
    "# invertible matrices are powerful!\n",
    "\n",
    "# properties they have in common:\n",
    "# - they have the same rank\n",
    "# "
   ]
  },
  {
   "cell_type": "markdown",
   "id": "indonesian-scholarship",
   "metadata": {},
   "source": [
    "if I exchange two rows in $A$, which fundamental subspace(s)\n",
    "remain the same?"
   ]
  },
  {
   "cell_type": "code",
   "execution_count": 4,
   "id": "sustainable-mouth",
   "metadata": {},
   "outputs": [],
   "source": [
    "# rowspace and nullspace\n",
    "\n",
    "# colspace and left-nullspace are changed (recall the Recitation)"
   ]
  },
  {
   "cell_type": "markdown",
   "id": "unlikely-voltage",
   "metadata": {},
   "source": [
    "why vector `{1, 2, 3}` can not live in rowspace and nullspace\n",
    "at the same time?"
   ]
  },
  {
   "cell_type": "code",
   "execution_count": 5,
   "id": "directed-prospect",
   "metadata": {},
   "outputs": [],
   "source": [
    "# A x = 0\n",
    "# if {1, 2, 3} were in rowspace, it can only be row-1\n",
    "# but if it's also in N(A), it means {x1, x2, x3} is {1, 2, 3}\n",
    "# multiply this row with {x1, x2, x3}, the result is not 0\n",
    "# (the result will be 14)\n",
    "\n"
   ]
  },
  {
   "cell_type": "code",
   "execution_count": 6,
   "id": "hindu-queue",
   "metadata": {},
   "outputs": [],
   "source": [
    "# formalizing this statement:\n",
    "# nullspace and rowspace can not overlap; they only share Z (the\n",
    "# zero vector)\n",
    "\n",
    "# the nullspace is perpendicular to the rowspace!"
   ]
  },
  {
   "cell_type": "code",
   "execution_count": null,
   "id": "suburban-special",
   "metadata": {},
   "outputs": [],
   "source": []
  }
 ],
 "metadata": {
  "kernelspec": {
   "display_name": "Python 3",
   "language": "python",
   "name": "python3"
  },
  "language_info": {
   "codemirror_mode": {
    "name": "ipython",
    "version": 3
   },
   "file_extension": ".py",
   "mimetype": "text/x-python",
   "name": "python",
   "nbconvert_exporter": "python",
   "pygments_lexer": "ipython3",
   "version": "3.8.1"
  }
 },
 "nbformat": 4,
 "nbformat_minor": 5
}
