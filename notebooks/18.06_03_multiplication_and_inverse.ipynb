{
 "cells": [
  {
   "cell_type": "markdown",
   "id": "difficult-tanzania",
   "metadata": {},
   "source": [
    "### multiplication\n",
    "\n",
    "source of latex:\n",
    "<https://www.overleaf.com/learn/latex/Integrals,_sums_and_limits>\n",
    "\n",
    "#### method 1: standard row x colume operation\n",
    "\n",
    "$A \\ B = C$\n",
    "\n",
    "$\\begin{align}\n",
    "C_{ij} = row_{i} of A \\cdot column_{j} of B\n",
    "\\\\\n",
    "C_{ij} = a_{i1} b_{1j} + a_{i2} b_{2j} + \\dots + a_{in} b_{nj}\n",
    "\\\\\n",
    "\\sum_{k=1}^{n} a_{ik} b_{kj}\n",
    "\\\\\n",
    "\\\\\n",
    "shapes: A_{m \\times n} \\ B_{n \\times p} = C_{m \\times p}\n",
    "\\end{align}$\n",
    "\n"
   ]
  },
  {
   "cell_type": "markdown",
   "id": "saving-madness",
   "metadata": {},
   "source": [
    "#### method 2: thinking in terms of columns\n",
    "\n",
    "$\\begin{align}\n",
    "A \\ B = C\n",
    "\\\\\n",
    "A_{m \\times n} \\ \\begin{bmatrix}c_{1} & c_{2} & \\dots & c_{p} \\end{bmatrix} = \n",
    "\\begin{bmatrix}A c_{1} & A c_{2} & \\dots & A c_{p} \\end{bmatrix}\n",
    "\\end{align}$\n",
    "\n",
    "break down the problem into several problems $A c_{p}$ \n",
    "\n",
    "i.e. C is the combination of $A c_{p}$\n"
   ]
  },
  {
   "cell_type": "markdown",
   "id": "adult-kidney",
   "metadata": {},
   "source": [
    "#### method 3: thinking in terms of rows\n",
    "\n",
    "$\\begin{align}\n",
    "\\begin{bmatrix}\n",
    "r_{1} \\\\ r_{2} \\\\ \\dots \\\\ r_{m}\n",
    "\\end{bmatrix}\n",
    "\\ \\begin{bmatrix}\n",
    "\\dots \\\\ \\dots \\\\ \\dots\n",
    "\\end{bmatrix}\n",
    "= \\begin{bmatrix}\n",
    "\\dots \\\\ \\dots \\\\ \\dots\n",
    "\\end{bmatrix}\n",
    "\\end{align}$\n",
    "\n",
    "rows in C are the combination of rows of B"
   ]
  },
  {
   "cell_type": "markdown",
   "id": "tutorial-sheep",
   "metadata": {},
   "source": [
    "#### method 4: thinking in terms of column x rows\n",
    "\n",
    "$$\n",
    "A_{m \\times 1} \\ B_{1 \\times p} = C_{m \\times p}\n",
    "$$\n",
    "\n",
    "C is the multiple of the column matrix A and is also the\n",
    "multiple of row matrix B;\n",
    "\n",
    "$$\n",
    "A \\ B = \\text{Sum of col of A times row of B}\n",
    "\\\\\n",
    "\\begin{bmatrix}\n",
    "2 & 7 \\\\ 3 & 8 \\\\ 4 & 9\n",
    "\\end{bmatrix}\n",
    "\\ \\begin{bmatrix}\n",
    "1 & 6 \\\\ 0 & 0\n",
    "\\end{bmatrix}\n",
    "=\n",
    "\\begin{bmatrix}\n",
    "2 \\\\ 3 \\\\ 4\n",
    "\\end{bmatrix} \\ \\begin{bmatrix}1 & 6\\end{bmatrix} \n",
    "+ \\begin{bmatrix}\n",
    "2 \\\\ 3 \\\\ 4\n",
    "\\end{bmatrix} \\ \\begin{bmatrix}0 & 0\\end{bmatrix} \n",
    "+ \\dots\n",
    "$$\n",
    "\n",
    "\n",
    "for this specially simplified case\n",
    "\n",
    "$$\n",
    "\\begin{bmatrix}2 \\\\ 3 \\\\ 4\\end{bmatrix} \\\n",
    "\\begin{bmatrix}1 & 6\\end{bmatrix} = \n",
    "\\begin{bmatrix}\n",
    "2 & 12 \\\\ 2 & 18 \\\\ 4 & 24\n",
    "\\end{bmatrix}\n",
    "$$\n"
   ]
  },
  {
   "cell_type": "markdown",
   "id": "defensive-headquarters",
   "metadata": {},
   "source": [
    "\n",
    "all of the rows of C lay on a line of `[1, 6]` - the row space - as they are the multiple of `[1, 6]`; they are in the same direction\n",
    "\n",
    "similarily, all the columns of C is the multiple of \n",
    "$\\begin{bmatrix}2 \\\\3 \\\\ 4\\end{bmatrix}$ hence they lay on\n",
    "the line of `[2, 3, 4]`"
   ]
  },
  {
   "cell_type": "markdown",
   "id": "brutal-thompson",
   "metadata": {},
   "source": [
    "#### block multiplication \n",
    "\n",
    "$\\begin{align}\n",
    "\\begin{bmatrix}A_{1} & A_{2} \\\\ A_{3} & A_{4}\\end{bmatrix}\n",
    "\\ \\begin{bmatrix}B_{1} & B_{2} \\\\ B_{3} & B_{4}\\end{bmatrix}\n",
    "= \\begin{bmatrix}\n",
    "A_{1} \\ B_{1} + A_{2} \\ B_{3} & A_{2} \\ B_{2} + \\dots \\\\ \n",
    "A_{3} \\ B_{3} + \\dots & A_{4} \\ B_{4} + \\dots \\end{bmatrix}\n",
    "\\end{align}$"
   ]
  },
  {
   "cell_type": "markdown",
   "id": "romantic-assist",
   "metadata": {},
   "source": [
    "think of block multiplication as a generalised rule (derived from\n",
    "method 1) \n",
    "\n"
   ]
  },
  {
   "cell_type": "markdown",
   "id": "cardiovascular-abortion",
   "metadata": {},
   "source": [
    "### Inverse\n",
    "\n",
    "$A^{-1} \\ A = A \\ A^{-1} = I$\n",
    "\n",
    "\n",
    "A must be a square matrix (see the wiki link below)\n"
   ]
  },
  {
   "cell_type": "markdown",
   "id": "local-complexity",
   "metadata": {},
   "source": [
    "#### when A is not invertible, i.e. singular\n",
    "\n",
    "$\\begin{align}\n",
    "A = \\begin{bmatrix}\n",
    "1 & 3 \\\\ 2 & 6\n",
    "\\end{bmatrix}\n",
    "\\end{align}$\n",
    "\n",
    "**using the column way of thinking (method 3 above)**, all the columns of A lay on the same line (they are the multiples of `[1, 2]`) \n",
    "\n",
    "therefore there is no way one can produce an $I$ (where all\n",
    "the columns lay on different lines) from it\n"
   ]
  },
  {
   "cell_type": "markdown",
   "id": "balanced-papua",
   "metadata": {},
   "source": [
    "**A is not invertible when I can find a non-zero vector X** that \n",
    "makes this possible: $A \\ x = 0$\n",
    "\n"
   ]
  },
  {
   "cell_type": "markdown",
   "id": "handed-liechtenstein",
   "metadata": {},
   "source": [
    "#### find the inverse\n",
    "\n",
    "example using a 2x2, $A \\ A^{-1} = I$\n",
    "\n",
    "$\\begin{align}\n",
    "\\begin{bmatrix}1 & 3 \\\\2 & 7\\end{bmatrix}\n",
    "\\ \n",
    "\\begin{bmatrix}a & c \\\\b & d\\end{bmatrix}\n",
    "= \n",
    "\\begin{bmatrix}1 & 0 \\\\0 & 1\\end{bmatrix}\n",
    "\\end{align}$\n",
    "\n",
    "the first column is the product of A and the first column of B, see\n",
    "method 2 above; similar for the second column\n",
    "\n",
    "therefore the result is to solve two systems\n",
    "\n",
    "**A times col j of A-inv is the col j of the identity**\n",
    "\n",
    "this was what Gauss discovered\n"
   ]
  },
  {
   "cell_type": "markdown",
   "id": "proprietary-prefix",
   "metadata": {},
   "source": [
    "#### Gauss-Jordan idea\n",
    "\n",
    "source:\n",
    "<https://en.wikipedia.org/wiki/Gaussian_elimination#Finding_the_inverse_of_a_matrix>\n",
    "\n",
    "to solve two equations at once\n",
    "\n",
    "$\\begin{align}\n",
    "\\begin{bmatrix}1 & 3 \\\\ 2 & 7\\end{bmatrix} \\ \n",
    "\\begin{bmatrix}a \\\\ b\\end{bmatrix}\n",
    "= \\begin{bmatrix}1 \\\\ 0\\end{bmatrix}\n",
    "\\\\\n",
    "\\begin{bmatrix}1 & 3 \\\\ 2 & 7\\end{bmatrix} \\ \n",
    "\\begin{bmatrix}c \\\\ d\\end{bmatrix}\n",
    "= \\begin{bmatrix}0 \\\\ 1\\end{bmatrix}\n",
    "\\end{align}$\n",
    "\n",
    "it again uses the idea of augmented matrix\n",
    "\n",
    "use Gaussian elimination and turn $AI$ into $IA^{-1}$\n",
    "\n",
    "why Gauss-Jordan idea works? (from wiki)\n",
    "\n",
    "> One can think of each row operation as the left product by an elementary matrix. Denoting by B the product of these elementary matrices, we showed, on the left, that BA = I, and therefore, B = A−1. On the right, we kept a record of BI = B, which we know is the inverse desired. This procedure for finding the inverse works for square matrices of any size. \n",
    "\n",
    "elementry matrix:\n",
    "<https://en.wikipedia.org/wiki/Elementary_matrix>"
   ]
  },
  {
   "cell_type": "markdown",
   "id": "rural-minnesota",
   "metadata": {},
   "source": [
    "$E \\ (A \\ I) = I \\ ?$\n",
    "\n",
    "because $E \\ A$ is $I$, $E$ essentially is $A^{-1}$ and $E \\ I$ \n",
    "becomes the A-inverse"
   ]
  },
  {
   "cell_type": "code",
   "execution_count": 9,
   "id": "organic-contamination",
   "metadata": {},
   "outputs": [
    {
     "name": "stdout",
     "output_type": "stream",
     "text": [
      "⎡ 1  2  3 ⎤\n",
      "⎢ 4  5  6 ⎥\n",
      "⎣ 0  8  9 ⎦\n",
      "⎡  -1/7    2/7   -1/7 ⎤\n",
      "⎢ -12/7    3/7    2/7 ⎥\n",
      "⎣ 32/21  -8/21   -1/7 ⎦\n",
      "⎡ 1  0  0 ⎤\n",
      "⎢ 0  1  0 ⎥\n",
      "⎣ 0  0  1 ⎦\n"
     ]
    }
   ],
   "source": [
    "# calculate the inverse of an invertible matrix M\n",
    "\n",
    "import pylinearalgebra.mattools as mt\n",
    "A = [\n",
    "    [1, 2, 3],\n",
    "    [4, 5, 6],\n",
    "    [0, 8, 9],\n",
    "]\n",
    "ok, A_inv = mt.inverse(A)\n",
    "assert ok, 'A is not invertible!'\n",
    "mt.pprint(A)\n",
    "mt.pprint(A_inv)\n",
    "AA_inv = np.dot(A, A_inv)\n",
    "mt.pprint(AA_inv)"
   ]
  },
  {
   "cell_type": "code",
   "execution_count": null,
   "id": "solved-canada",
   "metadata": {},
   "outputs": [],
   "source": []
  }
 ],
 "metadata": {
  "kernelspec": {
   "display_name": "Python 3",
   "language": "python",
   "name": "python3"
  },
  "language_info": {
   "codemirror_mode": {
    "name": "ipython",
    "version": 3
   },
   "file_extension": ".py",
   "mimetype": "text/x-python",
   "name": "python",
   "nbconvert_exporter": "python",
   "pygments_lexer": "ipython3",
   "version": "3.8.1"
  }
 },
 "nbformat": 4,
 "nbformat_minor": 5
}
