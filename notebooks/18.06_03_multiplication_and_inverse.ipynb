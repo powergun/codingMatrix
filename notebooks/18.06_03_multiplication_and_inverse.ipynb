{
 "cells": [
  {
   "cell_type": "markdown",
   "id": "difficult-tanzania",
   "metadata": {},
   "source": [
    "### multiplication\n",
    "\n",
    "source of latex:\n",
    "<https://www.overleaf.com/learn/latex/Integrals,_sums_and_limits>\n",
    "\n",
    "#### method 1: standard row x colume operation\n",
    "\n",
    "$A \\ B = C$\n",
    "\n",
    "$\\begin{align}\n",
    "C_{ij} = row_{i} of A \\cdot column_{j} of B\n",
    "\\\\\n",
    "C_{ij} = a_{i1} b_{1j} + a_{i2} b_{2j} + \\dots + a_{in} b_{nj}\n",
    "\\\\\n",
    "\\sum_{k=1}^{n} a_{ik} b_{kj}\n",
    "\\\\\n",
    "\\\\\n",
    "shapes: A_{m \\times n} \\ B_{n \\times p} = C_{m \\times p}\n",
    "\\end{align}$\n",
    "\n"
   ]
  },
  {
   "cell_type": "markdown",
   "id": "saving-madness",
   "metadata": {},
   "source": [
    "#### method 2: thinking in terms of columns\n",
    "\n",
    "$\\begin{align}\n",
    "A \\ B = C\n",
    "\\\\\n",
    "A \\ \\begin{bmatrix}c_{1} & c_{2} & \\dots & c_{n} \\end{bmatrix} = \n",
    "\\begin{bmatrix}A c_{1} & A c_{2} & \\dots & A c_{n} \\end{bmatrix}\n",
    "\\end{align}$\n",
    "\n",
    "break down the problem into several problems $A c_{n}$ \n",
    "\n",
    "i.e. C is the combination of $A c_{n}$\n"
   ]
  },
  {
   "cell_type": "markdown",
   "id": "adult-kidney",
   "metadata": {},
   "source": [
    "#### method 3: thinking in terms of rows\n",
    "\n",
    "\n"
   ]
  },
  {
   "cell_type": "code",
   "execution_count": null,
   "id": "formal-contact",
   "metadata": {},
   "outputs": [],
   "source": []
  },
  {
   "cell_type": "code",
   "execution_count": 1,
   "id": "organic-contamination",
   "metadata": {},
   "outputs": [
    {
     "name": "stdout",
     "output_type": "stream",
     "text": [
      "[[-0.14285714  0.28571429 -0.14285714]\n",
      " [-1.71428571  0.42857143  0.28571429]\n",
      " [ 1.52380952 -0.38095238 -0.14285714]]\n",
      "[[1.00000000e+00 0.00000000e+00 5.55111512e-17]\n",
      " [0.00000000e+00 1.00000000e+00 1.11022302e-16]\n",
      " [0.00000000e+00 0.00000000e+00 1.00000000e+00]]\n"
     ]
    }
   ],
   "source": [
    "# calculate the inverse of an invertible matrix M\n",
    "\n",
    "import numpy as np\n",
    "A = np.array([\n",
    "    [1, 2, 3],\n",
    "    [4, 5, 6],\n",
    "    [0, 8, 9],\n",
    "])\n",
    "A_ = np.linalg.inv(A)\n",
    "print(A_)\n",
    "I = np.dot(A, A_)\n",
    "print(I)"
   ]
  }
 ],
 "metadata": {
  "kernelspec": {
   "display_name": "pyLinearAlgebra",
   "language": "python",
   "name": "python3"
  },
  "language_info": {
   "codemirror_mode": {
    "name": "ipython",
    "version": 3
   },
   "file_extension": ".py",
   "mimetype": "text/x-python",
   "name": "python",
   "nbconvert_exporter": "python",
   "pygments_lexer": "ipython3",
   "version": "3.8.1"
  }
 },
 "nbformat": 4,
 "nbformat_minor": 5
}
