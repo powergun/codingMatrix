{
 "cells": [
  {
   "cell_type": "markdown",
   "metadata": {},
   "source": [
    "# Properties of Determinants\n",
    "\n",
    "<https://www.youtube.com/watch?v=srxexLishgY>"
   ]
  },
  {
   "cell_type": "markdown",
   "metadata": {},
   "source": [
    "## why we need the determinant\n",
    "\n",
    "one big reason we need determinant is the eigenvalues\n",
    "\n",
    "<https://en.wikipedia.org/wiki/Eigenvalues_and_eigenvectors>"
   ]
  },
  {
   "cell_type": "markdown",
   "metadata": {},
   "source": [
    "## determinant in a one-liner\n",
    "\n",
    "every square matrix has a determinant, which is a number, often\n",
    "written as\n",
    "\n",
    "$\\det A$  or  $|A|$\n",
    "\n",
    "one magic number that packs as much information as possible about\n",
    "a matrix\n",
    "\n",
    "**matrix that is invertible has a non-zero determinant; matrix that\n",
    "is singular has a determinant 0 (i.e. it is a test for invert-ability)**\n",
    "\n",
    "and it has a lot more to it..."
   ]
  },
  {
   "cell_type": "markdown",
   "metadata": {},
   "source": [
    "## the 3 properties of determinant\n",
    "\n",
    "(those 3 properties define what determinant is)"
   ]
  },
  {
   "cell_type": "markdown",
   "metadata": {},
   "source": [
    "### property 1 $\\det I = 1$\n",
    "\n",
    "$\\text{example in 2-D:}\\\\\n",
    "\\begin{bmatrix}\n",
    "1 & 0 \\\\\n",
    "0 & 1\n",
    "\\end{bmatrix}\\\\\n",
    "\\text{calculate determinant}\\\\\n",
    "1 \\times 1 - 0 \\times 0 = 1\n",
    "$"
   ]
  },
  {
   "cell_type": "markdown",
   "metadata": {},
   "source": [
    "### property 2 exchanging rows reverses the sign\n",
    "\n",
    "and recall that in a singular matrix, exchanging rows has\n",
    "no practical effect\n",
    "\n",
    "$\n",
    "\\det P = \n",
    "\\begin{cases}\n",
    "1, \\ \\text{if number of exchanges is even} \\\\\n",
    "{-1}, \\ \\text{otherwise (odd)}\n",
    "\\end{cases}\n",
    "$\n",
    "\n",
    "$\\text{example in 2-D:}\\\\\n",
    "\\begin{bmatrix}\n",
    "0 & 1 \\\\\n",
    "1 & 0\n",
    "\\end{bmatrix}\\\\\n",
    "\\text{calculate determinant}\\\\\n",
    "0 \\times 0 - 1 \\times 1 = -1\n",
    "$\n",
    "\n",
    "**therefore, we get the formula for calculating the determinant\n",
    "of a 2 x 2 matrix**\n",
    "\n",
    "$\\begin{bmatrix}\n",
    "a & b \\\\\n",
    "c & d\n",
    "\\end{bmatrix}\\\\\n",
    "a \\times d - b \\times c\n",
    "$"
   ]
  },
  {
   "cell_type": "markdown",
   "metadata": {},
   "source": [
    "### property 3: det is a linear function of each row, separately\n"
   ]
  },
  {
   "cell_type": "markdown",
   "metadata": {},
   "source": [
    "### property 3a multplication by a scalar\n",
    "\n",
    "**multiplying one row by $t$ results in the determinant multiplied\n",
    "by $t$**\n",
    "\n",
    "$\\begin{bmatrix}\n",
    "a \\times t & b \\times t \\\\\n",
    "c & d\n",
    "\\end{bmatrix}\\\\\n",
    "t \\times a \\times d - t \\times b \\times c\n",
    "$\n",
    "\n",
    "multiplying two rows by $t, s$, results in the determinant\n",
    "multiplied by $t \\times s$ - there is two special cases:\n",
    "\n",
    "- every row is multiplied some scalar $k_{i}$, \n",
    "- add matrix $A$ to itself, which is equivalent to multiplying\n",
    "every rwo by 2 (see property 9)"
   ]
  },
  {
   "cell_type": "markdown",
   "metadata": {},
   "source": [
    "### property 3b adding two matrices \n",
    "\n",
    "$\n",
    "\\begin{vmatrix}\n",
    "a + a^\\prime & b + b^\\prime \\\\\n",
    "c & d\n",
    "\\end{vmatrix}\n",
    "= \n",
    "\\begin{vmatrix}\n",
    "a & b \\\\\n",
    "c & d\n",
    "\\end{vmatrix} \n",
    "+\n",
    "\\begin{vmatrix}\n",
    "a^\\prime & b^\\prime \\\\\n",
    "c & d\n",
    "\\end{vmatrix}\n",
    "$\n",
    "\n",
    "```python\n",
    "[[a + a_, b + b_],\n",
    " [c,      d]]\n",
    "\n",
    "a * d + a_ * d - b * c - b_ * c\n",
    "\n",
    "# which is\n",
    "\n",
    "a * d - b * c + a_ * d - b_ * c\n",
    "```"
   ]
  },
  {
   "cell_type": "markdown",
   "metadata": {},
   "source": [
    "### property 4 - extension from property 2\n",
    "\n",
    "**if M has two identical rows, its determinant is 0 \n",
    "and it is singular**\n",
    "\n",
    "and recall in this case elimination will result in a row of 0"
   ]
  },
  {
   "cell_type": "markdown",
   "metadata": {},
   "source": [
    "### property 5 - extension from property 3b\n",
    "\n",
    "subtracting $l \\times row_{i}$ from $row_{k}$ from M does not change its determinant\n",
    "\n",
    "```python\n",
    "[[a, b],\n",
    " [c, d]]\n",
    "\n",
    "[[a - l * c, b - l * d],\n",
    " [c,         d]]\n",
    "\n",
    "a * d - b * c - (lc * d - ld * c)\n",
    "\n",
    "# which is\n",
    "\n",
    "a * d - b * c\n",
    "```\n",
    "\n",
    "another way to prove this:\n",
    "\n",
    "$|A| - |l A'|$ while $A'$ has two identical rows, so its determinant\n",
    "is 0, therefore the result is still $|A|$"
   ]
  },
  {
   "cell_type": "markdown",
   "metadata": {},
   "source": [
    "### property 6 - extension from property 3a\n",
    "\n",
    "**if M has a row of zeros, its determinant is 0**\n",
    "\n",
    "$t \\times \\det M = \\det M$\n",
    "\n",
    "(with t multiplied to the row of zeros)\n"
   ]
  },
  {
   "cell_type": "markdown",
   "metadata": {},
   "source": [
    "### property 7 \n",
    "\n",
    "**if M is a trianguler matrix**, its determinant is the product of\n",
    "all the diagonal elements: $\\det M = d_{1} \\times d_{2} \n",
    "\\times \\dots \\times d_{n}$\n",
    "\n",
    "i.e. the product of the pivots\n",
    "\n",
    "proof is:\n",
    "\n",
    "**triangluer matrix can use elimination to transform all the non-pivot\n",
    "elements to zero, making them irrelevant;**\n",
    "\n",
    "then using property 1 & 3a:\n",
    "\n",
    "repeatedly factor out each pivot element leaving an identity matrix \n",
    "in the end, we get $\\det M = \n",
    "d_{1} \\times d_{2} \\times \\dots \\times I$"
   ]
  },
  {
   "cell_type": "markdown",
   "metadata": {},
   "source": [
    "### property 8 \n",
    "\n",
    "if $\\det M = 0$, $M$ is singular"
   ]
  },
  {
   "cell_type": "code",
   "execution_count": 7,
   "metadata": {},
   "outputs": [
    {
     "name": "stdout",
     "output_type": "stream",
     "text": [
      "78.9888000000000\n",
      "⎡                3                11  1.12000000000000 ⎤\n",
      "⎢                0  15.2333333333333  6.53066666666667 ⎥\n",
      "⎣                0                 0  1.72842013129103 ⎦\n"
     ]
    },
    {
     "data": {
      "text/latex": [
       "$\\displaystyle 78.9888$"
      ],
      "text/plain": [
       "78.9888000000000"
      ]
     },
     "execution_count": 7,
     "metadata": {},
     "output_type": "execute_result"
    }
   ],
   "source": [
    "# convert an M to its triangular form, then calculate its\n",
    "# determinant\n",
    "\n",
    "# source:\n",
    "# https://numpy.org/doc/stable/reference/generated/numpy.triu.html\n",
    "import scipy.linalg \n",
    "import numpy as np\n",
    "import pylinearalgebra.mattools as mt\n",
    "\n",
    "import sympy\n",
    "A = sympy.Matrix([\n",
    "    [3,    11,   1.12],\n",
    "    [-4.1, 0.2,  5   ],\n",
    "    [0.0,  1.1,  2.2 ]\n",
    "])\n",
    "print(A.det())\n",
    "L, U, P = A.LUdecomposition()\n",
    "mt.pprint(U)\n",
    "U.det()"
   ]
  },
  {
   "cell_type": "markdown",
   "metadata": {},
   "source": [
    "### property 9 $\\det (A \\times B) = \\det A \\times \\det B$\n",
    "\n",
    "if A is invertible, $\\det A^{-1} = \\frac {1} {\\det A} $\n",
    "\n",
    "**An important side note** $\\det (A + A) = 2^{n} \\times A$, $n$ beings\n",
    "the dimension of A.\n",
    "\n",
    "One application of this is volumetric scaling:\n",
    "\n",
    "doubling all the sides of a n-dimensional box, results in the total\n",
    "volume of the box scaled to $2^{n}$, in a 3-dimensional setting\n",
    "this scales the box volume by 8.\n",
    "\n"
   ]
  },
  {
   "cell_type": "markdown",
   "metadata": {},
   "source": [
    "### property 10 $\\det A^{T} = \\det A$\n",
    "\n",
    "if $M$ contains a row of zeros OR a column or zeros (which can be\n",
    "transposed to contain a row of zeros), using this proerty, I know\n",
    "$M$ is singular.\n",
    "\n",
    "to proof:\n",
    "\n",
    "$\n",
    "|A^{T}| = |A| \\\\\n",
    "|U^{T} L^{T}| = |LU| \\\\\n",
    "|U^{T}| |L^{T}| = |L| |U|\n",
    "$\n",
    "\n",
    "\n"
   ]
  },
  {
   "cell_type": "markdown",
   "metadata": {},
   "source": [
    "# Recitation and Exercises"
   ]
  },
  {
   "cell_type": "code",
   "execution_count": 36,
   "metadata": {},
   "outputs": [],
   "source": [
    "# find the determinants of \n",
    "\n",
    "import sympy\n",
    "import pylinearalgebra.mattools as mt\n",
    "\n",
    "A = sympy.Matrix([\n",
    "    [101, 201, 301],\n",
    "    [102, 202, 302],\n",
    "    [103, 203, 303],\n",
    "])\n",
    "assert A.det() == 0\n",
    "\n",
    "s = sympy.Symbol\n",
    "B = sympy.Matrix([\n",
    "    [1, s('a'), s('a') ** 2],\n",
    "    [1, s('b'), s('b') ** 2],\n",
    "    [1, s('c'), s('c') ** 2]\n",
    "])\n",
    "\"\"\"\n",
    "# official solution:\n",
    "# use elimination:\n",
    "\n",
    "1  a    aa\n",
    "0  b-a  bb - aa\n",
    "0  c-a  cc - aa\n",
    "\n",
    "# knowing:\n",
    "b^2 - a^2 = (b-a)(c-a)\n",
    "\n",
    "# I get refactor its determinant form a bit:\n",
    "\n",
    "1  a    aa\n",
    "0  b-a  (b-a)(b+a)\n",
    "0  c-a  (c-a)(c+a)\n",
    "\n",
    "# use property-3: det is a linear function on each row\n",
    "# extract (b-a) out from row-2\n",
    "\n",
    "(b-a) *\n",
    "|1  a    aa         |\n",
    "|0  1    b+a        |\n",
    "|0  c-a  (c-a)(c+a) |\n",
    "\n",
    "# take more step further, extreact (c-a) out from row-3\n",
    "(b-a)(c-a) *\n",
    "|1  a  aa |\n",
    "|0  1  b+a|\n",
    "|0  1  c+a|\n",
    "\n",
    "# elimination\n",
    "(b-a)(c-a) *\n",
    "|1  a  aa |\n",
    "|0  1  b+a|\n",
    "|0  0  c-b|\n",
    "\n",
    "# the final step\n",
    "detA = (b-a)(c-a)(c-b)\n",
    "\"\"\"\n",
    "# I can test this by assign some numbers to a, b, c\n",
    "s = lambda ch: {'a': 1, 'b': 2, 'c': 3}[ch]\n",
    "B = sympy.Matrix([\n",
    "    [1, s('a'), s('a') ** 2],\n",
    "    [1, s('b'), s('b') ** 2],\n",
    "    [1, s('c'), s('c') ** 2]\n",
    "])\n",
    "assert B.det() == (2 - 1) * (3 - 1) * (3 - 2)\n",
    "\n",
    "C = sympy.Matrix([1, 2, 3]) * sympy.Matrix([[1, -4, 5]])\n",
    "# C is the lin-comb of a single vector therefore it is NOT\n",
    "# a full rank matrix (rank = 1) -> not invertible\n",
    "assert C.det() == 0\n",
    "\n",
    "D = sympy.Matrix([\n",
    "    [0,   1, 3],\n",
    "    [-1,  0, 4],\n",
    "    [-3, -4, 0],\n",
    "])\n",
    "D_ = sympy.Matrix([\n",
    "    [-3, -4,  0],\n",
    "    [0,   1,  3],\n",
    "    [0,   0,  0],\n",
    "])\n",
    "assert D.det() == D_.det()\n",
    "assert D.det() == 0\n",
    "\n",
    "\"\"\"\n",
    "official solution:\n",
    "(purely symbolic)\n",
    "\n",
    "|D| = |DT| (property 10)\n",
    "observe that DT is -D (mult -1 to every row)\n",
    "\n",
    "|-D| = (-1)^3|D| = -|D| (property 3a)\n",
    "\n",
    "final step\n",
    "|D| = |DT| = |-D| = -|D|\n",
    "therefore |D| must be 0\n",
    "\"\"\""
   ]
  },
  {
   "cell_type": "code",
   "execution_count": 37,
   "metadata": {},
   "outputs": [],
   "source": [
    "# Problem 18.1\n",
    "# if the entries in every row of a Square Matrix A add to zero\n",
    "# solve Ax = 0 to prove that detA = 0\n",
    "# if those entries add to one, show that det(A - I) = 0\n",
    "# Does that mean that detA = 1 ?\n",
    "\n",
    "# use a simple 2-d matrix A\n",
    "import sympy \n",
    "A = sympy.Matrix([\n",
    "    [1, -1],\n",
    "    [-1, 1],\n",
    "])\n",
    "# A is not invertible, hence |A| = 0\n",
    "# generalize this to N-dimensional matrix A\n",
    "# each row can be considered a row matrix Rx = 0\n",
    "# and other rows are lin-comb of this\n",
    "# therefore this matrix is not a full-rank matrix, its determinant\n",
    "# is zero\n",
    "\n",
    "# official:\n",
    "# Ax = 0 when x = {1, 1, ... 1}; since each compoenent of Ax\n",
    "# is the sum of the entries in a row of A\n",
    "# since A has non-zero nullspace it is not invertible and detA = 0\n",
    "\n",
    "# if those entries add to one, show that det(A - I) = 0\n",
    "# det(A - I) = det(A)\n",
    "\n",
    "# official:\n",
    "# here the entries in every row of A - I sum to zero\n",
    "# therefore using the previous proof, det(A - I) = 0\n",
    "# it is NOT necessarily true tht detA = 1, such as:\n",
    "# [[0, 1]\n",
    "#  [1, 0]]\n",
    "# detA = -1"
   ]
  },
  {
   "cell_type": "code",
   "execution_count": null,
   "metadata": {},
   "outputs": [],
   "source": [
    "# Problem 18.2\n",
    "# use row operations and the properties of the determinant to\n",
    "# calculate the 3 x 3 \"Vandermonde determinant\""
   ]
  }
 ],
 "metadata": {
  "kernelspec": {
   "display_name": "pyLinearAlgebra",
   "language": "python",
   "name": "python3"
  },
  "language_info": {
   "codemirror_mode": {
    "name": "ipython",
    "version": 3
   },
   "file_extension": ".py",
   "mimetype": "text/x-python",
   "name": "python",
   "nbconvert_exporter": "python",
   "pygments_lexer": "ipython3",
   "version": "3.8.1"
  }
 },
 "nbformat": 4,
 "nbformat_minor": 4
}
