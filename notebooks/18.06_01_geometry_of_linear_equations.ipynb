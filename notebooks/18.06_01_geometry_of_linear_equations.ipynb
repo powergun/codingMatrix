{
 "cells": [
  {
   "cell_type": "markdown",
   "id": "multiple-billion",
   "metadata": {},
   "source": [
    "### the fundamental problem of linear algebra\n",
    "\n",
    "to solve a system of linear equations\n",
    "\n"
   ]
  },
  {
   "cell_type": "markdown",
   "id": "outer-solution",
   "metadata": {},
   "source": [
    "#### the nice case\n",
    "\n",
    "n linear equations, n unknowns (equal number of equations and unknowns)\n",
    "\n"
   ]
  },
  {
   "cell_type": "markdown",
   "id": "limited-bunch",
   "metadata": {},
   "source": [
    "#### row picture\n",
    "\n",
    "$\n",
    "\\begin{align}\n",
    "2x - y = 0\\\\\n",
    "-x + 2y = 3\n",
    "\\\\\n",
    "\\\\\n",
    "\\begin{bmatrix}\n",
    "2 & -1 \\\\\n",
    "-1 & 2\n",
    "\\end{bmatrix} \n",
    "\\begin{bmatrix}\n",
    "x \\\\\n",
    "y\n",
    "\\end{bmatrix}\n",
    "=\n",
    "\\begin{bmatrix}\n",
    "0 \\\\\n",
    "3\n",
    "\\end{bmatrix}\n",
    "\\\\\n",
    "\\\\\n",
    "A \\ X = b\n",
    "\\end{align}\n",
    "$\n",
    "\n"
   ]
  },
  {
   "cell_type": "code",
   "execution_count": 6,
   "id": "adequate-thinking",
   "metadata": {},
   "outputs": [
    {
     "data": {
      "image/png": "[encoded data removed]",
      "text/plain": [
       "<Figure size 432x288 with 1 Axes>"
      ]
     },
     "metadata": {
      "needs_background": "light"
     },
     "output_type": "display_data"
    }
   ],
   "source": [
    "# plot this linear system using the row picture (the column \n",
    "# picture has its own geometric representation, see below)\n",
    "\n",
    "import pylinearalgebra.vistools as vist\n",
    "import numpy as np\n",
    "\n",
    "%matplotlib inline\n",
    "\n",
    "f1 = lambda x: 2 * x\n",
    "f2 = lambda x: x / 2 + 1.5\n",
    "\n",
    "x = np.linspace(-10, 10, 100)\n",
    "\n",
    "xy = vist.XY(x_lim=(-4, 4), y_lim=(-4, 4))\n",
    "xy.fx(x, f1, color='r')\n",
    "xy.fx(x, f2, color='b')\n",
    "\n",
    "# solving the linear system using the row picture means to\n",
    "# find the intersection between these two geometric representations\n",
    "# (lines)"
   ]
  },
  {
   "cell_type": "markdown",
   "id": "exotic-climate",
   "metadata": {},
   "source": [
    "#### the column picture\n",
    "\n",
    "$\\begin{align}\n",
    "x\\begin{bmatrix}2 \\\\ -1\\end{bmatrix}\n",
    "+ \n",
    "y\\begin{bmatrix}-1 \\\\ 2\\end{bmatrix}\n",
    "= \\begin{bmatrix}0 \\\\ 3\\end{bmatrix}\n",
    "\\end{align}$\n",
    "\n",
    "it asks us to combine these two parts with the right **linear \n",
    "combination** to get the RHS\n",
    "\n",
    "linear combination of the columns\n"
   ]
  },
  {
   "cell_type": "code",
   "execution_count": 8,
   "id": "increased-afghanistan",
   "metadata": {},
   "outputs": [
    {
     "data": {
      "text/plain": [
       "<pylinearalgebra.vistools.vis2d.XY at 0x7fb15f4338b0>"
      ]
     },
     "execution_count": 8,
     "metadata": {},
     "output_type": "execute_result"
    },
    {
     "data": {
      "image/png": "[encoded data removed]",
      "text/plain": [
       "<Figure size 432x288 with 1 Axes>"
      ]
     },
     "metadata": {
      "needs_background": "light"
     },
     "output_type": "display_data"
    }
   ],
   "source": [
    "# plot again using the column picture\n",
    "# we have the column vectors as the geometric representation of\n",
    "# this system\n",
    "\n",
    "# Parallelogram\n",
    "\n",
    "import pylinearalgebra.vistools as vist\n",
    "xy = vist.XY(x_lim=(-3, 3), y_lim=(-3, 5), names=list('rgbgcy'))\n",
    "xy.vector((0, 0), (2, -1), shaft_arrow=False)\n",
    "xy.vector((0, 0), (-1, 2), shaft_arrow=False)\n",
    "xy.vector((0, 0), (0, 3), shaft_arrow=False)\n",
    "xy.vector((0, 0), (-2, 4), shaft_arrow=False, alpha=0.35)\n",
    "\n",
    "# question: what linear combination of the green and red vectors\n",
    "# produces the blue vector?\n",
    "\n",
    "# 1 * red + 2 * green \n"
   ]
  },
  {
   "cell_type": "markdown",
   "id": "described-turkish",
   "metadata": {},
   "source": [
    "### the matrix picture\n",
    "\n",
    "$\n",
    "\\begin{bmatrix}\n",
    "2 & 1 \\\\\n",
    "1 & -2 \n",
    "\\end{bmatrix}\n",
    "\\begin{bmatrix}x \\\\ y\\end{bmatrix} \n",
    "= \\begin{bmatrix}3 \\\\ -1 \\end{bmatrix}\n",
    "$\n",
    "\n",
    "borrowing the method to solve a scalar equation \n",
    "\n",
    "$ax = b, x = \\frac{b}{a} = a^{-1}b$\n",
    "\n",
    "we have:\n",
    "\n",
    "$x = bA^{-1}$"
   ]
  },
  {
   "cell_type": "markdown",
   "id": "acceptable-robert",
   "metadata": {},
   "source": [
    "#### linear combination\n",
    "\n",
    "what are ALL the combinations? (regardless of RHS)\n",
    "\n",
    "they will fill the whole plane\n",
    "\n"
   ]
  },
  {
   "cell_type": "markdown",
   "id": "imposed-clone",
   "metadata": {},
   "source": [
    "#### move on to 3 x 3 \n",
    "\n",
    "$\\begin{align}\n",
    "2x - y = 0 \\\\\n",
    "-x + 2y - z = -1 \\\\\n",
    "-3y + 4z = 4\n",
    "\\\\\n",
    "\\\\\n",
    "A = \\begin{bmatrix}\n",
    "2 & -1 & 0 \\\\ \n",
    "-1 & 2 & -1 \\\\ \n",
    "0 & -3 & 4\\end{bmatrix}\n",
    "\\\\\n",
    "\\\\\n",
    "b = \\begin{bmatrix}0 \\\\ -1 \\\\ 4\\end{bmatrix}\n",
    "\\end{align}$\n",
    "\n"
   ]
  },
  {
   "cell_type": "code",
   "execution_count": 3,
   "id": "trained-panel",
   "metadata": {},
   "outputs": [
    {
     "data": {
      "text/plain": [
       "Text(0.5, 0, '$Z$')"
      ]
     },
     "execution_count": 3,
     "metadata": {},
     "output_type": "execute_result"
    },
    {
     "data": {
      "image/png": "[encoded data removed]",
      "text/plain": [
       "<Figure size 432x288 with 1 Axes>"
      ]
     },
     "metadata": {
      "needs_background": "light"
     },
     "output_type": "display_data"
    }
   ],
   "source": [
    "# plot with the row picture\n",
    "# to find the position of the linear combination\n",
    "# one has to find the point where three planes meet\n",
    "# it's hard to visualize\n",
    "\n",
    "# source:\n",
    "# https://matplotlib.org/3.1.1/api/_as_gen/mpl_toolkits.mplot3d.axes3d.Axes3D.html\n",
    "\n",
    "import matplotlib.pyplot as plt\n",
    "from mpl_toolkits.mplot3d import Axes3D\n",
    "fig = plt.figure()\n",
    "ax = fig.add_subplot(111, projection='3d')\n",
    "\n",
    "f1 = np.array([[0, 0, 0], [2, -1, 0]])\n",
    "ax.plot(f1[:, 0], f1[:, 1], f1[:, 2], color='r')\n",
    "\n",
    "f2 = np.array([[0, 0, 0], [-1, 2, -1]])\n",
    "ax.plot(f2[:, 0], f2[:, 1], f2[:, 2], color='g')\n",
    "\n",
    "f3 = np.array([[0, 0, 0], [0, -3, 4]])\n",
    "ax.plot(f3[:, 0], f3[:, 1], f3[:, 2], color='b')\n",
    "\n",
    "ax.view_init(elev=ax.elev, azim=-80)\n",
    "ax.set_xlim3d(-0.5, 0.5)\n",
    "ax.set_ylim3d(-0.5, 0.5)\n",
    "ax.set_zlim3d(-0.5, 0.5)\n",
    "ax.set_xlabel('$X$', fontsize=20)\n",
    "ax.set_ylabel('$Y$', fontsize=20)\n",
    "ax.set_zlabel('$Z$', fontsize=20)"
   ]
  },
  {
   "cell_type": "code",
   "execution_count": 4,
   "id": "human-layer",
   "metadata": {},
   "outputs": [
    {
     "data": {
      "text/plain": [
       "Text(0.5, 0, '$Z$')"
      ]
     },
     "execution_count": 4,
     "metadata": {},
     "output_type": "execute_result"
    },
    {
     "data": {
      "image/png": "[encoded data removed]",
      "text/plain": [
       "<Figure size 432x288 with 1 Axes>"
      ]
     },
     "metadata": {
      "needs_background": "light"
     },
     "output_type": "display_data"
    }
   ],
   "source": [
    "# plot with column picture\n",
    "\n",
    "fig = plt.figure()\n",
    "ax = fig.add_subplot(111, projection='3d')\n",
    "\n",
    "soa = np.array([\n",
    "    [0, 0, 0, 2, -1, 0], [0, 0, 0, -1, 2, -3], [0, 0, 0, 0, -1, 4]\n",
    "])\n",
    "X, Y, Z, U, V, W = zip(*soa)\n",
    "\n",
    "ax.quiver(X, Y, Z, U, V, W, length=0.4)\n",
    "\n",
    "ax.scatter([0], [0], [1], color='r')\n",
    "\n",
    "ax.view_init(elev=ax.elev, azim=-80)\n",
    "ax.set_xlim3d(-1.5, 1.5)\n",
    "ax.set_ylim3d(-1.5, 1.5)\n",
    "ax.set_zlim3d(-1.5, 1.5)\n",
    "ax.set_xlabel('$X$', fontsize=20)\n",
    "ax.set_ylabel('$Y$', fontsize=20)\n",
    "ax.set_zlabel('$Z$', fontsize=20)\n",
    "\n"
   ]
  },
  {
   "cell_type": "markdown",
   "id": "dutch-dating",
   "metadata": {},
   "source": [
    "can we solve Ax = b for all b?\n",
    "\n",
    "-> do the linear combinations fill 3-D space?\n",
    "\n",
    "if these 3 column vectors lay in the same plane, we can not fill\n",
    "the 3-D space (as all of them lay in the same plane)\n",
    "\n"
   ]
  },
  {
   "cell_type": "markdown",
   "id": "sweet-worker",
   "metadata": {},
   "source": [
    "# Recitation and Exercises"
   ]
  },
  {
   "cell_type": "code",
   "execution_count": 1,
   "id": "encouraging-rider",
   "metadata": {},
   "outputs": [
    {
     "name": "stdout",
     "output_type": "stream",
     "text": [
      "[[1, -2, 1, 0]]\n"
     ]
    }
   ],
   "source": [
    "# solving problem 1.1\n",
    "# \n",
    "#  find a combination x1w1 + x2w2 + x3w3 that gives {Z}\n",
    "# this is to solve Ax = [w1, w2, w3]x = 0\n",
    "# \n",
    "\n",
    "import pylinearalgebra.mattools as mt\n",
    "A = [\n",
    "    [1, 4, 7],\n",
    "    [2, 5, 8],\n",
    "    [3, 6, 9]\n",
    "]\n",
    "\n",
    "\n",
    "print(mt.solve_rn(A))"
   ]
  },
  {
   "cell_type": "code",
   "execution_count": 4,
   "id": "certified-sydney",
   "metadata": {},
   "outputs": [
    {
     "name": "stdout",
     "output_type": "stream",
     "text": [
      "⎡   9⎤\n",
      "⎢ -10⎥\n",
      "⎣   6⎦\n"
     ]
    }
   ],
   "source": [
    "# solving problem 1.2\n",
    "\n",
    "# multiply A by w\n",
    "# using the column picture: the result is the linear\n",
    "# combination of all the columns of A\n",
    "\n",
    "import pylinearalgebra.mattools as mt\n",
    "A = [\n",
    "    [1, 2, 0],\n",
    "    [2, 0, 3],\n",
    "    [4, 1, 1]\n",
    "]  # 33\n",
    "w = [3, -2, 1]  # 31\n",
    "Aw = [sum([elem * x for elem in row]) for row, x in zip(A, w)]\n",
    "mt.pprint(Aw)  "
   ]
  },
  {
   "cell_type": "code",
   "execution_count": null,
   "id": "stylish-mattress",
   "metadata": {},
   "outputs": [],
   "source": [
    "# solving problem 1.3\n",
    "\n",
    "# the statement is correct"
   ]
  }
 ],
 "metadata": {
  "kernelspec": {
   "display_name": "Python 3",
   "language": "python",
   "name": "python3"
  },
  "language_info": {
   "codemirror_mode": {
    "name": "ipython",
    "version": 3
   },
   "file_extension": ".py",
   "mimetype": "text/x-python",
   "name": "python",
   "nbconvert_exporter": "python",
   "pygments_lexer": "ipython3",
   "version": "3.8.1"
  }
 },
 "nbformat": 4,
 "nbformat_minor": 5
}
