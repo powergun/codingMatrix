{
 "cells": [
  {
   "cell_type": "markdown",
   "id": "logical-trailer",
   "metadata": {},
   "source": [
    "what are:\n",
    "\n",
    "- Linear independence\n",
    "- Spanning a space\n",
    "- basis and dimension\n",
    "\n",
    "\n"
   ]
  },
  {
   "cell_type": "markdown",
   "id": "expensive-storm",
   "metadata": {},
   "source": [
    "suppose $A_{m \\ \\times \\ n}, m < n$\n",
    "\n",
    "m equations and n unknowns; more unknowns than equations\n",
    "\n",
    "the conclusion is that there are some non-zero xs that make\n",
    "$Ax = 0$\n",
    "\n",
    "because: there will be free columns therefore there will be\n",
    "free variables;  I can assign non-zero\n",
    "values to these free variables (although in the previous\n",
    "chapter, the free variables were assigned `{0, 0...}` for\n",
    "convenience)"
   ]
  },
  {
   "cell_type": "markdown",
   "id": "fancy-brook",
   "metadata": {},
   "source": [
    "## Independence\n",
    "\n",
    "when Vectors $x_{1}, x_{2}, \\dots, x_{n}$ are independent, I can\n",
    "take combinations of them and no combination is zero, except for\n",
    "the zero combination\n",
    "\n",
    "$c_{1}x_{1} + c_{2}x_{1} + \\dots + c_{n}x_{n} \\ne 0$ \n",
    "\n",
    "except for the case when `{c1, c2 ... cn}` is zero\n",
    "\n",
    "otherwise, the vectors are dependent\n",
    "\n",
    "simple example, two vectors in the same line\n",
    "\n",
    "$v_{2} = 2v_{1}\\\\\n",
    "2v_{1} - v_{2} = 0\n",
    "$\n",
    "\n",
    "they are dependent"
   ]
  },
  {
   "cell_type": "markdown",
   "id": "ambient-registrar",
   "metadata": {},
   "source": [
    "**if $x_{n}$ is a zero vector, \"independence is dead\"**\n",
    "\n",
    "because $c_{whatever}x_{n} + 0v_{1} + 0v_{2} + ... + 0v_{n} = 0$\n"
   ]
  },
  {
   "cell_type": "markdown",
   "id": "promising-devices",
   "metadata": {},
   "source": [
    "### three vectors in a plane have to be dependent\n",
    "\n"
   ]
  },
  {
   "cell_type": "code",
   "execution_count": 20,
   "id": "indian-macedonia",
   "metadata": {},
   "outputs": [
    {
     "data": {
      "text/plain": [
       "<matplotlib.quiver.Quiver at 0x7f73fd402850>"
      ]
     },
     "execution_count": 20,
     "metadata": {},
     "output_type": "execute_result"
    },
    {
     "data": {
      "image/png": "[encoded data removed]",
      "text/plain": [
       "<Figure size 432x288 with 1 Axes>"
      ]
     },
     "metadata": {
      "needs_background": "light"
     },
     "output_type": "display_data"
    }
   ],
   "source": [
    "import matplotlib.pyplot as plt\n",
    "%matplotlib inline\n",
    "import numpy as np\n",
    "soa = np.array([\n",
    "    [0, 0, 2, -1],\n",
    "    [0, 0, -1, 2], \n",
    "    [0, 0, -1.5, 1.5]\n",
    "])\n",
    "X, Y, U, V = zip(*soa)\n",
    "ax = plt.gca()\n",
    "ax.set_aspect(1.0)\n",
    "plt.axhline(0, color='black', linewidth=1, alpha=0.3)\n",
    "plt.axvline(0, color='black', linewidth=1, alpha=0.3)\n",
    "plt.xlim(-3, 3)\n",
    "plt.ylim(-3, 5)\n",
    "plt.quiver(X, Y, U, V,\n",
    "          angles='xy', \n",
    "           color=['r', 'g', 'b'], \n",
    "           scale_units='xy', scale=1)\n"
   ]
  },
  {
   "cell_type": "markdown",
   "id": "danish-advocacy",
   "metadata": {},
   "source": [
    "given $v_{1}, v_{2}$ (red, blue) on the same plane, they are independent\n",
    "\n",
    "adding $v_{3}$ (green)\n",
    "\n",
    "they become dependent, because:\n",
    "\n",
    "$Ax = \\begin{bmatrix}v_{1} & v_{2} & v_{3}\\end{bmatrix} = 0$ for\n",
    "some x\n",
    "\n",
    "$A$ has the shape of `(2, 3)`\n",
    "\n",
    "recall the summary in **18.06_08**, when $r = m < n$, there are\n",
    "$\\infty$ solutions"
   ]
  },
  {
   "cell_type": "markdown",
   "id": "advanced-charter",
   "metadata": {},
   "source": [
    "### n vectors in an n-dimensional space\n",
    "\n",
    "when $v_{1}, v_{2}, \\dots, v_{n}$ are columns of $A$\n",
    "\n",
    "they are independent if the nullspace of $A$ is only the $Z$;\n",
    "\n",
    "they are dependent if there are non zero vectors;\n",
    "\n",
    "$Ac = 0$\n",
    "\n",
    "\n"
   ]
  },
  {
   "cell_type": "markdown",
   "id": "brown-charleston",
   "metadata": {},
   "source": [
    "### rank and independence\n",
    "\n",
    "if $r = n$, $N(A) = \\{ Z \\}$, the n vectors are independent; \n",
    "\n",
    "if $r < n$, there will be free variables/columns, the n vectors\n",
    "are dependent\n",
    "\n",
    "recall that it is the free variables that produce non-zero vectors"
   ]
  },
  {
   "cell_type": "markdown",
   "id": "further-front",
   "metadata": {},
   "source": [
    "## Spanning a space\n",
    "\n",
    "\n"
   ]
  },
  {
   "cell_type": "markdown",
   "id": "seeing-tradition",
   "metadata": {},
   "source": [
    "**$v_{1}, v_{2}, \\dots, v_{n}$ spanning a space means,\n",
    "this space consists of all combinations of these vectors**\n",
    "\n",
    "hence, the columns of $A$, span its column space; in fact\n",
    "these column vectors form the smallest space they can span\n",
    "\n",
    "(these column vectors may NOT be independent)\n",
    "\n",
    "the lecturer uses the word \"compressing\" here...\n",
    "\n",
    "MY NOTE:\n",
    "\n",
    "recall these videos that talk about cryptocurrency and encryption\n",
    "using matrices:\n",
    "\n",
    "```\n",
    "https://www.youtube.com/watch?v=sQjwCOuRD3w&t=169s\n",
    "https://www.youtube.com/watch?v=bsN8ooTcLZw\n",
    "https://www.youtube.com/watch?v=sKnDgN22Gd8\n",
    "```"
   ]
  },
  {
   "cell_type": "markdown",
   "id": "occupied-collectible",
   "metadata": {},
   "source": [
    "## Basis\n",
    "\n",
    "**can I find a set of vectors that are both independent and spanning\n",
    "a space ??**\n",
    "\n"
   ]
  },
  {
   "cell_type": "markdown",
   "id": "medieval-generator",
   "metadata": {},
   "source": [
    "basis is for a sequence of vectors, $v_{1}, v_{2}, \\dots, v_{d}$ \n",
    "to have 2 properties:\n",
    "\n",
    "- they are independent\n",
    "- they span the space\n"
   ]
  },
  {
   "cell_type": "markdown",
   "id": "finished-champion",
   "metadata": {},
   "source": [
    "a basis for a subspace explains it\n",
    "\n",
    "example:\n",
    "\n",
    "given space is $R^{3}$, one basis is (the **standard basis**)\n",
    "\n",
    "$\n",
    "\\begin{bmatrix}1 \\\\ 0 \\\\ 0\\end{bmatrix},\n",
    "\\begin{bmatrix}0 \\\\ 1 \\\\ 0\\end{bmatrix},\n",
    "\\begin{bmatrix}0 \\\\ 0 \\\\ 1\\end{bmatrix}\n",
    "$\n",
    "\n",
    "but it is NOT the only basis (in fact there are $\\infty$\n",
    " basis)\n",
    " \n",
    "sanity check list:\n",
    "\n",
    "- are these vector independent? (yes, they are x/y/z axes; the only $c$ that makes their linear combination zero is `{0, 0, 0}`)\n",
    "- do they span the $R^{3}$ space? (yes)"
   ]
  },
  {
   "cell_type": "markdown",
   "id": "australian-cuisine",
   "metadata": {},
   "source": [
    "here is a candidate of a basis for $R^{3}$\n",
    "\n",
    "$\n",
    "\\begin{bmatrix}1 \\\\ 1 \\\\ 2\\end{bmatrix},\n",
    "\\begin{bmatrix}2 \\\\ 2 \\\\ 5\\end{bmatrix}\n",
    "$\n",
    "\n",
    "sanity check list:\n",
    "\n",
    "- are they independent? (yes)\n",
    "- do they span $R^{3}$? (no)\n",
    "\n",
    "but does there exist a space where they are basis for?? if so\n",
    "what is that space?\n",
    "\n",
    "answer: **the space that is formed by their linear combination - the plane inside $R^{3}$**\n",
    "\n",
    "what vector to add to make them a basis of $R^{3}$? - any vector that is not\n",
    "in the plane formed by these two vectors\n",
    "\n",
    "$\n",
    "\\begin{bmatrix}1 \\\\ 1 \\\\ 2\\end{bmatrix},\n",
    "\\begin{bmatrix}2 \\\\ 2 \\\\ 5\\end{bmatrix},\n",
    "\\begin{bmatrix}3 \\\\ 4 \\\\ 8\\end{bmatrix}\n",
    "$\n",
    "\n",
    "(\n",
    "note Gilbert originally wrote \n",
    "```\n",
    "[[1, 2, 3],\n",
    " [1, 2, 3],\n",
    " [3, 4, 8]]\n",
    "```\n",
    "**it is not an invertible matrix - two equal rows - hence not a correct basis**\n",
    "\n",
    "the next chapter **connects the column space with row space** and\n",
    "can explain this better;\n",
    "\n",
    "the rank of the column space is the same as the row space, that is\n",
    "2; this means there are only 2 pivot columns and 1 free columns, \n",
    "therefore the columns are dependent\n",
    ")"
   ]
  },
  {
   "cell_type": "markdown",
   "id": "played-edward",
   "metadata": {},
   "source": [
    "to test whether these vectors form a basis, turn them into\n",
    "the columns of $A$, and use elimination to see:\n",
    "\n",
    "(after reduced to RREF form)\n",
    "\n",
    "- whether there are free variables\n",
    "- whether $A$ is invertible (review **18.06_03 inverse: where are the four fundamental subspaces**)\n"
   ]
  },
  {
   "cell_type": "markdown",
   "id": "christian-plasma",
   "metadata": {},
   "source": [
    "### the properties of basis\n",
    "\n",
    "#### all the basis of $R^{n}$ have the same number of vectors\n",
    "\n",
    "this is even true for the column space of $A$;\n",
    "\n",
    "true for its nullspace and any other space out there...\n",
    "\n",
    "\n",
    "\n"
   ]
  },
  {
   "cell_type": "markdown",
   "id": "cardiac-beaver",
   "metadata": {},
   "source": [
    "## dimension\n",
    "\n",
    "every basis for a space has the same number of vectors, the\n",
    "dimension of this space"
   ]
  },
  {
   "cell_type": "markdown",
   "id": "valuable-airline",
   "metadata": {},
   "source": [
    "example: space is $C(A)$\n",
    "\n",
    "$\n",
    "\\begin{bmatrix}1 & 2 & 3 & 1 \\\\\n",
    "1 & 1 & 2 & 1 \\\\\n",
    "1 & 2 & 3 & 1 \\\\\n",
    "\\end{bmatrix}\n",
    "$\n"
   ]
  },
  {
   "cell_type": "markdown",
   "id": "backed-mediterranean",
   "metadata": {},
   "source": [
    "question: do these column vectors span $C(A)$ ?\n",
    "\n",
    "yes; that is the definition of column space"
   ]
  },
  {
   "cell_type": "markdown",
   "id": "geological-message",
   "metadata": {},
   "source": [
    "question: are they a basis of $C(A)$ ?\n",
    "\n",
    "no; check $N(A)$; they are not independent\n",
    "\n"
   ]
  },
  {
   "cell_type": "markdown",
   "id": "basic-madonna",
   "metadata": {},
   "source": [
    "question: what is the basis of $C(A)$ ?\n",
    "\n",
    "the pivot columns, column-1 and column-2"
   ]
  },
  {
   "cell_type": "markdown",
   "id": "comic-reading",
   "metadata": {},
   "source": [
    "### theorem: rank(A) = dimension of C(A)\n",
    "\n",
    "$dimC(A) = r$\n",
    "\n",
    "the important bit to remember is that:\n",
    "\n",
    "- rank is about matrix (rank of a matrix);\n",
    "- dimension is about space (dimension of a space);\n",
    "\n",
    "\n"
   ]
  },
  {
   "cell_type": "markdown",
   "id": "pending-ottawa",
   "metadata": {},
   "source": [
    "### what is the dimension of N(A)\n",
    "\n",
    "$dimN(A) = n - r, \\text{n is the number of columns}$\n"
   ]
  },
  {
   "cell_type": "markdown",
   "id": "becoming-drilling",
   "metadata": {},
   "source": []
  },
  {
   "cell_type": "markdown",
   "id": "equivalent-palace",
   "metadata": {},
   "source": []
  },
  {
   "cell_type": "markdown",
   "id": "obvious-mandate",
   "metadata": {},
   "source": []
  }
 ],
 "metadata": {
  "kernelspec": {
   "display_name": "Python 3",
   "language": "python",
   "name": "python3"
  },
  "language_info": {
   "codemirror_mode": {
    "name": "ipython",
    "version": 3
   },
   "file_extension": ".py",
   "mimetype": "text/x-python",
   "name": "python",
   "nbconvert_exporter": "python",
   "pygments_lexer": "ipython3",
   "version": "3.8.1"
  }
 },
 "nbformat": 4,
 "nbformat_minor": 5
}
