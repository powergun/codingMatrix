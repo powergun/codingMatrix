{
 "cells": [
  {
   "cell_type": "markdown",
   "id": "independent-beach",
   "metadata": {},
   "source": [
    "## solve linear equations\n",
    "\n",
    "### how do you describe and compute the vectors in the spaces?\n",
    "\n",
    "turning the idea into an algorithm - what is the algorithm for\n",
    "solving $Ax = 0$\n",
    "\n",
    "example:\n",
    "\n",
    "$A = \\begin{bmatrix}\n",
    "1 & 2 & 2 & 2 \\\\\n",
    "2 & 4 & 6 & 8 \\\\\n",
    "3 & 6 & 8 & 10\n",
    "\\end{bmatrix}$\n",
    "\n",
    "\n"
   ]
  },
  {
   "cell_type": "markdown",
   "id": "behind-advocate",
   "metadata": {},
   "source": [
    "column-2 and row-3 are not independent, because\n",
    "\n",
    "column-2 is a multiple of column-1\n",
    "\n",
    "row-3 is the sum of row-1 and row-2 \n",
    "\n",
    "the vectors of these are in the same direction\n",
    "\n",
    "we extend the algorithm of elimination to cover the case where\n",
    "the pivot is zero; we just move on\n",
    "\n",
    "while doing the elimination **the nullspace is unchanged**. but we\n",
    "are chaning the column space.\n"
   ]
  },
  {
   "cell_type": "markdown",
   "id": "cooperative-charleston",
   "metadata": {},
   "source": [
    "after the first step of elimination, $A$ becomes\n",
    "\n",
    "$\\begin{bmatrix}\n",
    "1 & 2 & 2 & 2 \\\\\n",
    "0 & 0 & 2 & 4 \\\\\n",
    "0 & 0 & 2 & 4\n",
    "\\end{bmatrix}$"
   ]
  },
  {
   "cell_type": "markdown",
   "id": "capable-mixer",
   "metadata": {},
   "source": [
    "the pivot position $A_{22}$ is zero, and the position below it\n",
    "$A_{32}$ is also zero,\n",
    "\n",
    "it a telling sign that column-2 depends on an earlier column (hence\n",
    "the two vertical zeros)\n",
    "\n",
    "therefore we move on to the next good pivot, $A_{23}$\n",
    "\n",
    "$\\begin{bmatrix}\n",
    "1 & 2 & 2 & 2 \\\\\n",
    "0 & 0 & 2 & 4 \\\\\n",
    "0 & 0 & 0 & 0\n",
    "\\end{bmatrix}$\n",
    "\n",
    "this is $U$, or upper echelon form\n",
    "\n",
    "source: <https://en.wikipedia.org/wiki/Row_echelon_form>\n",
    "\n"
   ]
  },
  {
   "cell_type": "markdown",
   "id": "endless-salvation",
   "metadata": {},
   "source": [
    "### the rank of a matrix\n",
    "\n",
    "the number of the pivots, $2$ is the rank of this matrix, $A$\n",
    "\n",
    "the columns these pivots reside are **pivot columns**\n",
    "\n",
    "we transformed $Ax = 0$ to $Ux = 0$ while preserving the solutions\n",
    "and nullspace\n",
    "\n",
    "the other columns are called **free columns** - because the\n",
    "variables associated with these columns can hold any values\n",
    "\n",
    "for example I can assign $x_{2}, x_{4}$ with \n",
    "$\\begin{bmatrix}1 \\\\ 0 \\end{bmatrix}$ - the choice zero is purely\n",
    "for convenience (as any value works)\n",
    "\n"
   ]
  },
  {
   "cell_type": "markdown",
   "id": "aggressive-attendance",
   "metadata": {},
   "source": [
    "the algorithm to get the solutions is to separate the **pivot\n",
    "columns**"
   ]
  },
  {
   "cell_type": "markdown",
   "id": "removed-retail",
   "metadata": {},
   "source": [
    "plug $x_{2}$ and $x_{4}$ in the remaining equations:\n",
    "\n",
    "$x_{1} + x_2{} * 2 + x_{3} * 2 + x_{4} * 2 = 0 \\\\\n",
    "x_{3} * 2 + x_{4} * 4 = 0\n",
    "$\n",
    "\n",
    "we solve $x_{1}, x_{3}$ `(-2, 0)` and get the solution\n",
    "\n",
    "$C = \\begin{bmatrix}\n",
    "-2 \\\\ 1 \\\\ 0 \\\\ 0\n",
    "\\end{bmatrix}$"
   ]
  },
  {
   "cell_type": "markdown",
   "id": "supported-flashing",
   "metadata": {},
   "source": [
    "#### where are the other solutions ?\n",
    "\n",
    "1) we can take multiples of this particular solution, $C$, forming\n",
    "a line in this 4-D space\n",
    "\n",
    "2) assign other values (such as `(0, 1)`) to the free variables $x_{2}, x_{4}$\n",
    "\n",
    "\n",
    "$\\begin{align}\n",
    "X = c\\begin{bmatrix}-2 \\\\ 1 \\\\ 0 \\\\ 0\\end{bmatrix} +\n",
    "d\\begin{bmatrix}2 \\\\ 0 \\\\ -2 \\\\ 1\\end{bmatrix}\n",
    "\\end{align}$\n",
    "\n",
    "the \"special\" values `(1, 0), (0, 1)` are chosen, then the rest\n",
    "of the solutions of the nullspace are the linear combinations of\n",
    "these two solutions, which solve $Ux = 0$\n"
   ]
  },
  {
   "cell_type": "markdown",
   "id": "sealed-sensitivity",
   "metadata": {},
   "source": [
    "#### rank and the number of solutions\n",
    "\n",
    "in the above case $A$, $r = 2$, meaning that there are really just\n",
    "2 equations. Therefore the number of pivot columns is 2 and \n",
    "the number of free vars is $4 - 2 = 2$\n",
    "\n",
    "generalising this to:\n",
    "\n",
    "for an $n \\times m$ matrix, the free variables are $n - r$\n"
   ]
  },
  {
   "cell_type": "markdown",
   "id": "vital-carter",
   "metadata": {},
   "source": [
    "### reduced row echelon form, R\n",
    "\n",
    "recall that the row echelon form of $A$ is\n",
    "\n",
    "$A = \\begin{bmatrix}\n",
    "1 & 2 & 2 & 2 \\\\\n",
    "0 & 0 & 2 & 4 \\\\\n",
    "0 & 0 & 0 & 0\n",
    "\\end{bmatrix}$\n",
    "\n",
    "row-3 contains only zeros because original it was a linear combination\n",
    "of some eariler rows (row-1 and row-2)"
   ]
  },
  {
   "cell_type": "markdown",
   "id": "statewide-perth",
   "metadata": {},
   "source": [
    "**reduced row echelon form has 0 above and below pivots**\n",
    "\n",
    "$R = \\begin{bmatrix}\n",
    "1 & 2 & 0 & -2 \\\\\n",
    "0 & 0 & 1 & 2 \\\\\n",
    "0 & 0 & 0 & 0\n",
    "\\end{bmatrix}$\n",
    "\n"
   ]
  },
  {
   "cell_type": "code",
   "execution_count": 8,
   "id": "binary-collaboration",
   "metadata": {},
   "outputs": [
    {
     "data": {
      "text/plain": [
       "(Matrix([\n",
       " [1, 2, 0, -2],\n",
       " [0, 0, 1,  2],\n",
       " [0, 0, 0,  0]]),\n",
       " (0, 2))"
      ]
     },
     "execution_count": 8,
     "metadata": {},
     "output_type": "execute_result"
    }
   ],
   "source": [
    "import sympy\n",
    "import numpy as np\n",
    "\n",
    "# source:\n",
    "# https://stackoverflow.com/questions/7664246/python-built-in-function-to-do-matrix-reduction\n",
    "\n",
    "A_ = np.array([\n",
    "    [1, 2, 2, 2],\n",
    "    [2, 4, 6, 8],\n",
    "    [3, 6, 8, 10]\n",
    "])\n",
    "\n",
    "A = sympy.Matrix(A_)\n",
    "\n",
    "# Matlab also offers rref() function\n",
    "\n",
    "A.rref()"
   ]
  },
  {
   "cell_type": "markdown",
   "id": "younger-angola",
   "metadata": {},
   "source": [
    "#### information encoded in the RREF\n",
    "\n",
    "1) pivot rows, pivot columns, which form an $I$ (which left a \"free\"\n",
    "part of the matrix, $F$)\n",
    "\n",
    "2) cleaned-up free columns\n",
    "\n",
    "3) $Rx = 0$\n",
    "\n",
    "(recap: from $Ax = 0$ to $Ux = 0$, to $Rx = 0$)"
   ]
  },
  {
   "cell_type": "markdown",
   "id": "female-adrian",
   "metadata": {},
   "source": [
    "#### how to interpret RREF\n",
    "\n",
    "a typical RREF \n",
    "\n",
    "$R = \\begin{bmatrix}\n",
    "I & F \\\\\n",
    "0* & 0*\n",
    "\\end{bmatrix}$\n",
    "\n",
    "(the zero-rows are optional)\n",
    "\n",
    "that contains $r$ pivot rows, and $r$ pivot columns, and\n",
    "$n - r$ free columns"
   ]
  },
  {
   "cell_type": "markdown",
   "id": "brilliant-astronomy",
   "metadata": {},
   "source": [
    "construct a nullspace solution out of RREF\n",
    "\n",
    "**using purely the matrix multiplication rules \n",
    "(see the block-multiplication\n",
    "breakdown example in the previous chapter:\n",
    "18.06_03_multiplication_and_inverse)**\n",
    "\n",
    "I can derive a formula\n",
    "\n",
    "\n",
    "$\\begin{align}\n",
    "RN = 0\n",
    "\\\\\n",
    "N = \\begin{bmatrix}\n",
    "-F \\\\ I\n",
    "\\end{bmatrix}\n",
    "\\end{align}$"
   ]
  },
  {
   "cell_type": "code",
   "execution_count": 59,
   "id": "forced-taiwan",
   "metadata": {},
   "outputs": [
    {
     "name": "stdout",
     "output_type": "stream",
     "text": [
      "Matrix([\n",
      "[1, 2, 0, -2],\n",
      "[0, 0, 1,  2],\n",
      "[0, 0, 0,  0]])\n",
      "[[-2 2]\n",
      " [0 -2]]\n",
      "[[1. 0.]\n",
      " [0. 1.]]\n",
      "-2, 0, 1.0, 0.0\n",
      "2, -2, 0.0, 1.0\n"
     ]
    }
   ],
   "source": [
    "# implement this formula,\n",
    "# using sympy's Matrix class\n",
    "# Matlab appears to have a command for computing N\n",
    "\n",
    "import sympy\n",
    "import numpy as np\n",
    "from pprint import pprint as pp\n",
    "A_ = np.array([\n",
    "    [1, 2, 2, 2],\n",
    "    [2, 4, 6, 8],\n",
    "    [3, 6, 8, 10]\n",
    "])\n",
    "A = sympy.Matrix(A_)\n",
    "\n",
    "# Return reduced row-echelon form of matrix and \n",
    "# indices of pivot vars.\n",
    "R, iColumns = A.rref()\n",
    "pp(R)\n",
    "\n",
    "\n",
    "I = np.identity(len(iColumns))\n",
    "F_ = []\n",
    "for rowIdx in range(R.rows):\n",
    "    row = R.row(rowIdx)\n",
    "    if sum(row) == 0:\n",
    "        continue\n",
    "    cols = [x for colIdx, x in enumerate(row) if colIdx not in iColumns]\n",
    "    F_.append(cols)\n",
    "\n",
    "F = np.array(F_)\n",
    "Finv = F * -1\n",
    "\n",
    "# N\n",
    "# each column of N holds a solution {x1, x2, x3, x4}\n",
    "print(Finv)\n",
    "print(np.array(I))\n",
    "\n",
    "# it's good to iterate over the shape of F-inv\n",
    "# I've added another example below when F-inv has less columns\n",
    "# than I;\n",
    "# the lecturer also shows that example in the video\n",
    "for idx in range(Finv.shape[1]):\n",
    "    x1 = Finv[0][idx]\n",
    "    x2 = Finv[1][idx]\n",
    "    x3 = I[0][idx]\n",
    "    x4 = I[1][idx]\n",
    "    print(f'{x1}, {x2}, {x3}, {x4}')\n",
    "    "
   ]
  },
  {
   "cell_type": "markdown",
   "id": "figured-soviet",
   "metadata": {},
   "source": [
    "#### back substitution on the reduced form\n",
    "\n",
    "$\\begin{align}\n",
    "Rx = 0\n",
    "\\\\\n",
    "\\begin{bmatrix}\n",
    "I & F\n",
    "\\end{bmatrix} \\ \n",
    "\\begin{bmatrix}\n",
    "x_{pivot} \\\\ x_{free}\n",
    "\\end{bmatrix}\n",
    "= 0 \\\\\n",
    "Rx = 0 = I x_{pivot} + F x_{free}\n",
    "\\\\\n",
    "x_{pivot} + Fx_{free} = 0\n",
    "\\end{align}$\n"
   ]
  },
  {
   "cell_type": "markdown",
   "id": "electrical-liability",
   "metadata": {},
   "source": [
    "if I choose to assign $I$ to $x_{free}$, then the whole equation\n",
    "can be simplified to:\n",
    "\n",
    "$x_{pivot} + F = 0\\\\\n",
    "x_{pivot} = -F$"
   ]
  },
  {
   "cell_type": "code",
   "execution_count": 61,
   "id": "elect-annotation",
   "metadata": {},
   "outputs": [
    {
     "name": "stdout",
     "output_type": "stream",
     "text": [
      "Matrix([\n",
      "[1, 0, 1],\n",
      "[0, 1, 1],\n",
      "[0, 0, 0],\n",
      "[0, 0, 0]])\n",
      "[[-1]\n",
      " [-1]]\n",
      "[[1. 0.]\n",
      " [0. 1.]]\n",
      "-1, -1, 1.0, 0.0\n"
     ]
    }
   ],
   "source": [
    "# transpose A and get a 3 x 4 matrix\n",
    "# the algorithm still applies\n",
    "\n",
    "import sympy\n",
    "import numpy as np\n",
    "from pprint import pprint as pp\n",
    "A_ = np.array([\n",
    "    [1, 2, 2, 2],\n",
    "    [2, 4, 6, 8],\n",
    "    [3, 6, 8, 10]\n",
    "])\n",
    "A = sympy.Matrix(A_.transpose())\n",
    "R, iColumns = A.rref()\n",
    "pp(R)\n",
    "I = np.identity(len(iColumns))\n",
    "F_ = []\n",
    "for rowIdx in range(R.rows):\n",
    "    row = R.row(rowIdx)\n",
    "    if sum(row) == 0:\n",
    "        continue\n",
    "    cols = [x for colIdx, x in enumerate(row) if colIdx not in iColumns]\n",
    "    F_.append(cols)\n",
    "F = np.array(F_)\n",
    "Finv = F * -1\n",
    "\n",
    "print(Finv)\n",
    "print(np.array(I))\n",
    "\n",
    "for idx in range(Finv.shape[1]):\n",
    "    x1 = Finv[0][idx]\n",
    "    x2 = Finv[1][idx]\n",
    "    x3 = I[0][idx]\n",
    "    x4 = I[1][idx]\n",
    "    print(f'{x1}, {x2}, {x3}, {x4}')"
   ]
  },
  {
   "cell_type": "code",
   "execution_count": null,
   "id": "liberal-perth",
   "metadata": {},
   "outputs": [],
   "source": []
  }
 ],
 "metadata": {
  "kernelspec": {
   "display_name": "pyLinearAlgebra",
   "language": "python",
   "name": "python3"
  },
  "language_info": {
   "codemirror_mode": {
    "name": "ipython",
    "version": 3
   },
   "file_extension": ".py",
   "mimetype": "text/x-python",
   "name": "python",
   "nbconvert_exporter": "python",
   "pygments_lexer": "ipython3",
   "version": "3.8.1"
  }
 },
 "nbformat": 4,
 "nbformat_minor": 5
}
