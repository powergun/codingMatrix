{
 "cells": [
  {
   "cell_type": "markdown",
   "id": "independent-beach",
   "metadata": {},
   "source": [
    "## solve linear equations\n",
    "\n",
    "### how do you describe and compute the vectors in the spaces?\n",
    "\n",
    "turning the idea into an algorithm - what is the algorithm for\n",
    "solving $Ax = 0$\n",
    "\n",
    "example:\n",
    "\n",
    "$A = \\begin{bmatrix}\n",
    "1 & 2 & 2 & 2 \\\\\n",
    "2 & 4 & 6 & 8 \\\\\n",
    "3 & 6 & 8 & 10\n",
    "\\end{bmatrix}$\n",
    "\n",
    "\n"
   ]
  },
  {
   "cell_type": "code",
   "execution_count": 8,
   "id": "polish-wales",
   "metadata": {},
   "outputs": [
    {
     "name": "stdout",
     "output_type": "stream",
     "text": [
      "⎡  1   2   0  -2 ⎤\n",
      "⎢  0   0   1   2 ⎥\n",
      "⎣  0   0   0   0 ⎦\n",
      "pivot columns (x1, x3): [0, 2]\n",
      "free columns: (x2, x4): [1, 3]\n"
     ]
    }
   ],
   "source": [
    "import pylinearalgebra.mattools as mt\n",
    "A = [\n",
    "    [1, 2, 2, 2],\n",
    "    [2, 4, 6, 8],\n",
    "    [3, 6, 8, 10]\n",
    "]\n",
    "R, i_pivots = mt.rref(A)\n",
    "mt.pprint(R)\n",
    "print('pivot columns (x1, x3):', i_pivots)\n",
    "print('free columns: (x2, x4):', [n for n in range(4) if n not in i_pivots])"
   ]
  },
  {
   "cell_type": "markdown",
   "id": "behind-advocate",
   "metadata": {},
   "source": [
    "column-2 and row-3 are not independent, because\n",
    "\n",
    "column-2 is a multiple of column-1\n",
    "\n",
    "row-3 is the sum of row-1 and row-2 \n",
    "\n",
    "the vectors of these are in the same direction\n",
    "\n",
    "we extend the algorithm of elimination to cover the case where\n",
    "the pivot is zero; we just move on\n",
    "\n",
    "while doing the elimination **the nullspace is unchanged**. but we\n",
    "are chaning the column space.\n"
   ]
  },
  {
   "cell_type": "markdown",
   "id": "cooperative-charleston",
   "metadata": {},
   "source": [
    "after the first step of elimination, $A$ becomes\n",
    "\n",
    "$\\begin{bmatrix}\n",
    "1 & 2 & 2 & 2 \\\\\n",
    "0 & 0 & 2 & 4 \\\\\n",
    "0 & 0 & 2 & 4\n",
    "\\end{bmatrix}$"
   ]
  },
  {
   "cell_type": "markdown",
   "id": "capable-mixer",
   "metadata": {},
   "source": [
    "the pivot position $A_{22}$ is zero, and the position below it\n",
    "$A_{32}$ is also zero,\n",
    "\n",
    "it a telling sign that column-2 depends on an earlier column (hence\n",
    "the two vertical zeros)\n",
    "\n",
    "therefore we move on to the next good pivot, $A_{23}$\n",
    "\n",
    "$\\begin{bmatrix}\n",
    "1 & 2 & 2 & 2 \\\\\n",
    "0 & 0 & 2 & 4 \\\\\n",
    "0 & 0 & 0 & 0\n",
    "\\end{bmatrix}$\n",
    "\n",
    "this is $U$, or upper echelon form\n",
    "\n",
    "source: <https://en.wikipedia.org/wiki/Row_echelon_form>\n",
    "\n"
   ]
  },
  {
   "cell_type": "markdown",
   "id": "endless-salvation",
   "metadata": {},
   "source": [
    "### the rank of a matrix\n",
    "\n",
    "the number of the pivots, $2$ is the rank of this matrix, $A$\n",
    "\n",
    "the columns these pivots reside are **pivot columns**\n",
    "\n",
    "we transformed $Ax = 0$ to $Ux = 0$ while preserving the solutions\n",
    "and nullspace\n",
    "\n",
    "the other columns are called **free columns** - because the\n",
    "variables associated with these columns can hold any values\n",
    "\n",
    "for example I can assign $x_{2}, x_{4}$ with \n",
    "$\\begin{bmatrix}1 \\\\ 0 \\end{bmatrix}$ - the choice zero is purely\n",
    "for convenience (as any value works)\n",
    "\n"
   ]
  },
  {
   "cell_type": "markdown",
   "id": "aggressive-attendance",
   "metadata": {},
   "source": [
    "the algorithm to get the solutions is to separate the **pivot\n",
    "columns**"
   ]
  },
  {
   "cell_type": "markdown",
   "id": "removed-retail",
   "metadata": {},
   "source": [
    "plug $x_{2}$ and $x_{4}$ in the remaining equations:\n",
    "\n",
    "$x_{1} + x_2{} * 2 + x_{3} * 2 + x_{4} * 2 = 0 \\\\\n",
    "x_{3} * 2 + x_{4} * 4 = 0\n",
    "$\n",
    "\n",
    "we solve $x_{1}, x_{3}$ `(-2, 0)` and get the solution\n",
    "\n",
    "$C = \\begin{bmatrix}\n",
    "-2 \\\\ 1 \\\\ 0 \\\\ 0\n",
    "\\end{bmatrix}$"
   ]
  },
  {
   "cell_type": "markdown",
   "id": "supported-flashing",
   "metadata": {},
   "source": [
    "#### where are the other solutions ?\n",
    "\n",
    "1) we can take multiples of this particular solution, $C$, forming\n",
    "a line in this 4-D space\n",
    "\n",
    "2) assign other values (such as `(0, 1)`) to the free variables $x_{2}, x_{4}$\n",
    "\n",
    "\n",
    "$\\begin{align}\n",
    "X = c\\begin{bmatrix}-2 \\\\ 1 \\\\ 0 \\\\ 0\\end{bmatrix} +\n",
    "d\\begin{bmatrix}2 \\\\ 0 \\\\ -2 \\\\ 1\\end{bmatrix}\n",
    "\\end{align}$\n",
    "\n",
    "the \"special\" values `(1, 0), (0, 1)` are chosen, then the rest\n",
    "of the solutions of the nullspace are the linear combinations of\n",
    "these two solutions, which solve $Ux = 0$\n"
   ]
  },
  {
   "cell_type": "markdown",
   "id": "sealed-sensitivity",
   "metadata": {},
   "source": [
    "#### rank and the number of solutions\n",
    "\n",
    "in the above case $A$, $r = 2$, meaning that there are really just\n",
    "2 equations. Therefore the number of pivot columns is 2 and \n",
    "the number of free vars is $4 - 2 = 2$\n",
    "\n",
    "generalising this to:\n",
    "\n",
    "for an $n \\times m$ matrix, the free variables are $n - r$\n"
   ]
  },
  {
   "cell_type": "markdown",
   "id": "vital-carter",
   "metadata": {},
   "source": [
    "### reduced row echelon form, R\n",
    "\n",
    "recall that the row echelon form of $A$ is\n",
    "\n",
    "$A = \\begin{bmatrix}\n",
    "1 & 2 & 2 & 2 \\\\\n",
    "0 & 0 & 2 & 4 \\\\\n",
    "0 & 0 & 0 & 0\n",
    "\\end{bmatrix}$\n",
    "\n",
    "row-3 contains only zeros because original it was a linear combination\n",
    "of some eariler rows (row-1 and row-2)"
   ]
  },
  {
   "cell_type": "markdown",
   "id": "statewide-perth",
   "metadata": {},
   "source": [
    "**reduced row echelon form has 0 above and below pivots**\n",
    "\n",
    "$R = \\begin{bmatrix}\n",
    "1 & 2 & 0 & -2 \\\\\n",
    "0 & 0 & 1 & 2 \\\\\n",
    "0 & 0 & 0 & 0\n",
    "\\end{bmatrix}$\n",
    "\n"
   ]
  },
  {
   "cell_type": "code",
   "execution_count": 10,
   "id": "binary-collaboration",
   "metadata": {},
   "outputs": [
    {
     "name": "stdout",
     "output_type": "stream",
     "text": [
      "⎡  1   2   0  -2 ⎤\n",
      "⎢  0   0   1   2 ⎥\n",
      "⎣  0   0   0   0 ⎦\n"
     ]
    }
   ],
   "source": [
    "import pylinearalgebra.mattools as mt\n",
    "\n",
    "# source:\n",
    "# https://stackoverflow.com/questions/7664246/python-built-in-function-to-do-matrix-reduction\n",
    "\n",
    "R, i_pivots = mt.rref([\n",
    "    [1, 2, 2, 2],\n",
    "    [2, 4, 6, 8],\n",
    "    [3, 6, 8, 10]\n",
    "])\n",
    "\n",
    "# Matlab also offers rref() function\n",
    "mt.pprint(R)"
   ]
  },
  {
   "cell_type": "markdown",
   "id": "younger-angola",
   "metadata": {},
   "source": [
    "#### information encoded in the RREF\n",
    "\n",
    "1) pivot rows, pivot columns, which form an $I$ (which left a \"free\"\n",
    "part of the matrix, $F$)\n",
    "\n",
    "2) cleaned-up free columns\n",
    "\n",
    "3) $Rx = 0$\n",
    "\n",
    "(recap: from $Ax = 0$ to $Ux = 0$, to $Rx = 0$)"
   ]
  },
  {
   "cell_type": "markdown",
   "id": "female-adrian",
   "metadata": {},
   "source": [
    "#### how to interpret RREF\n",
    "\n",
    "a typical RREF \n",
    "\n",
    "$R = \\begin{bmatrix}\n",
    "I & F \\\\\n",
    "0* & 0*\n",
    "\\end{bmatrix}$\n",
    "\n",
    "(the zero-rows are optional)\n",
    "\n",
    "that contains $r$ pivot rows, and $r$ pivot columns, and\n",
    "$n - r$ free columns"
   ]
  },
  {
   "cell_type": "markdown",
   "id": "brilliant-astronomy",
   "metadata": {},
   "source": [
    "construct a nullspace solution out of RREF\n",
    "\n",
    "**using purely the matrix multiplication rules \n",
    "(see the block-multiplication\n",
    "breakdown example in the previous chapter:\n",
    "18.06_03_multiplication_and_inverse)**\n",
    "\n",
    "I can derive a formula\n",
    "\n",
    "\n",
    "$\\begin{align}\n",
    "RN = 0\n",
    "\\\\\n",
    "N = \\begin{bmatrix}\n",
    "-F \\\\ I\n",
    "\\end{bmatrix}\n",
    "\\end{align}$\n",
    "\n",
    "NOTE: this might not a generic enough formula (as I found out from implementing this in Python using\n",
    "sympy and numpy), later on there is a `SVD` decomposition which could help\n",
    "\n",
    "at the time of writing, the `solve_rn()` function in `mattools` produce the right answer but also some\n",
    "noises (like one extra column)"
   ]
  },
  {
   "cell_type": "code",
   "execution_count": 1,
   "id": "forced-taiwan",
   "metadata": {},
   "outputs": [
    {
     "name": "stdout",
     "output_type": "stream",
     "text": [
      "⎡   -2⎤\n",
      "⎢    0⎥\n",
      "⎢ 1.00⎥\n",
      "⎣ 0.00⎦\n",
      "⎡    2⎤\n",
      "⎢   -2⎥\n",
      "⎢ 0.00⎥\n",
      "⎣ 1.00⎦\n"
     ]
    }
   ],
   "source": [
    "# implement this formula,\n",
    "# using sympy's Matrix class\n",
    "# Matlab appears to have a command for computing N\n",
    "\n",
    "import pylinearalgebra.mattools as mt\n",
    "A = [\n",
    "    [1, 2, 2, 2],\n",
    "    [2, 4, 6, 8],\n",
    "    [3, 6, 8, 10]\n",
    "]\n",
    "solutions = mt.solve_rn(A)\n",
    "for v in solutions:\n",
    "    mt.pprint(v)"
   ]
  },
  {
   "cell_type": "markdown",
   "id": "figured-soviet",
   "metadata": {},
   "source": [
    "#### back substitution on the reduced form\n",
    "\n",
    "$\\begin{align}\n",
    "Rx = 0\n",
    "\\\\\n",
    "\\begin{bmatrix}\n",
    "I & F\n",
    "\\end{bmatrix} \\ \n",
    "\\begin{bmatrix}\n",
    "x_{pivot} \\\\ x_{free}\n",
    "\\end{bmatrix}\n",
    "= 0 \\\\\n",
    "Rx = 0 = I x_{pivot} + F x_{free}\n",
    "\\\\\n",
    "x_{pivot} + Fx_{free} = 0\n",
    "\\end{align}$\n"
   ]
  },
  {
   "cell_type": "markdown",
   "id": "electrical-liability",
   "metadata": {},
   "source": [
    "if I choose to assign $I$ to $x_{free}$, then the whole equation\n",
    "can be simplified to:\n",
    "\n",
    "$x_{pivot} + F = 0\\\\\n",
    "x_{pivot} = -F$"
   ]
  },
  {
   "cell_type": "code",
   "execution_count": 5,
   "id": "elect-annotation",
   "metadata": {},
   "outputs": [
    {
     "name": "stdout",
     "output_type": "stream",
     "text": [
      "⎡   -1⎤\n",
      "⎢   -1⎥\n",
      "⎢ 1.00⎥\n",
      "⎣ 0.00⎦\n"
     ]
    }
   ],
   "source": [
    "# transpose A and get a 3 x 4 matrix\n",
    "# the algorithm still applies\n",
    "\n",
    "import pylinearalgebra.mattools as mt\n",
    "A = [\n",
    "    [1, 2, 2, 2],\n",
    "    [2, 4, 6, 8],\n",
    "    [3, 6, 8, 10]\n",
    "]\n",
    "AT = mt.T(A)\n",
    "solutions = mt.solve_rn(AT)\n",
    "for v in solutions:\n",
    "    mt.pprint(v)\n"
   ]
  },
  {
   "cell_type": "markdown",
   "id": "czech-operator",
   "metadata": {},
   "source": [
    "# Recitation and Exercises"
   ]
  },
  {
   "cell_type": "code",
   "execution_count": 3,
   "id": "original-michael",
   "metadata": {},
   "outputs": [
    {
     "data": {
      "text/latex": [
       "$\\displaystyle \\left[\\begin{matrix}1 & -5 & 2 & 0\\\\0 & 0 & 0 & 1\\end{matrix}\\right]$"
      ],
      "text/plain": [
       "Matrix([\n",
       "[1, -5, 2, 0],\n",
       "[0,  0, 0, 1]])"
      ]
     },
     "execution_count": 3,
     "metadata": {},
     "output_type": "execute_result"
    }
   ],
   "source": [
    "# if I have a R3 (3-d space) and a single constraint: \n",
    "# x - 5y + 2z = 9\n",
    "# it forms a subspace with one less degree of freedom\n",
    "# it is a plane\n",
    "\n",
    "# given two such planes:\n",
    "# x - 5y + 2z = 9\n",
    "# x - 5y + 2z = 0\n",
    "# there is not a line that exists in both planes\n",
    "# i.e. there is no such as `{x, y, z}` that specifies\n",
    "# both equations\n",
    "# therefore these two planes are parallel to each other\n",
    "# there is no intersection.\n",
    "\n",
    "import sympy\n",
    "\n",
    "rows = [\n",
    "    [1, -5, 2, 9],\n",
    "    [1, -5, 2, 0]\n",
    "]\n",
    "\n",
    "# observe the RREF of the augmented matrix\n",
    "# with RHS plugged in, there is no solution\n",
    "A = sympy.Matrix(rows)\n",
    "R, _ = A.rref()\n",
    "R"
   ]
  },
  {
   "cell_type": "code",
   "execution_count": 8,
   "id": "empirical-bridges",
   "metadata": {},
   "outputs": [
    {
     "data": {
      "text/latex": [
       "$\\displaystyle \\left[\\begin{matrix}1 & 0 & \\frac{23}{4} & \\frac{1}{4}\\\\0 & 1 & \\frac{1}{4} & \\frac{7}{4}\\\\0 & 0 & 0 & 0\\end{matrix}\\right]$"
      ],
      "text/plain": [
       "Matrix([\n",
       "[1, 0, 23/4, 1/4],\n",
       "[0, 1,  1/4, 7/4],\n",
       "[0, 0,    0,   0]])"
      ]
     },
     "execution_count": 8,
     "metadata": {},
     "output_type": "execute_result"
    }
   ],
   "source": [
    "# problem 7.1\n",
    "# find the RREF\n",
    "# what is the rank\n",
    "# find any special solutions to Ax = 0\n",
    "\n",
    "# recall:\n",
    "# https://en.wikipedia.org/wiki/Rank_(linear_algebra)\n",
    "\n",
    "# the rank of a matrix A is the dimension of the vector space \n",
    "# generated (or spanned) by its columns.\n",
    "\n",
    "# The column rank of A is the dimension of the column space of A, \n",
    "# while the row rank of A is the dimension of the row space of A. \n",
    "\n",
    "import sympy \n",
    "\n",
    "rows = [\n",
    "    [1,  5,  7,  9],\n",
    "    [0,  4,  1,  7],\n",
    "    [2, -2, 11, -3]\n",
    "]\n",
    "A= sympy.Matrix(rows)\n",
    "R, i_pivots = A.rref()\n",
    "R\n"
   ]
  },
  {
   "cell_type": "code",
   "execution_count": 9,
   "id": "final-semester",
   "metadata": {},
   "outputs": [
    {
     "data": {
      "text/plain": [
       "(0, 1)"
      ]
     },
     "execution_count": 9,
     "metadata": {},
     "output_type": "execute_result"
    }
   ],
   "source": [
    "i_pivots"
   ]
  },
  {
   "cell_type": "code",
   "execution_count": 14,
   "id": "banned-wrong",
   "metadata": {},
   "outputs": [
    {
     "data": {
      "text/latex": [
       "$\\displaystyle \\left[\\begin{matrix}- \\frac{23}{4} & - \\frac{1}{4}\\\\- \\frac{1}{4} & - \\frac{7}{4}\\end{matrix}\\right]$"
      ],
      "text/plain": [
       "Matrix([\n",
       "[-23/4, -1/4],\n",
       "[ -1/4, -7/4]])"
      ]
     },
     "execution_count": 14,
     "metadata": {},
     "output_type": "execute_result"
    }
   ],
   "source": [
    "F_neg = R[[0, 1], [2, 3]] * -1\n",
    "F_neg"
   ]
  },
  {
   "cell_type": "code",
   "execution_count": 15,
   "id": "fifteen-fellowship",
   "metadata": {},
   "outputs": [
    {
     "data": {
      "text/latex": [
       "$\\displaystyle \\left[\\begin{matrix}1 & 0\\\\0 & 1\\end{matrix}\\right]$"
      ],
      "text/plain": [
       "Matrix([\n",
       "[1, 0],\n",
       "[0, 1]])"
      ]
     },
     "execution_count": 15,
     "metadata": {},
     "output_type": "execute_result"
    }
   ],
   "source": [
    "I = R[[0, 1], [0, 1]]\n",
    "I"
   ]
  },
  {
   "cell_type": "code",
   "execution_count": 16,
   "id": "three-newark",
   "metadata": {},
   "outputs": [
    {
     "data": {
      "text/plain": [
       "[[-5.75, -0.25, 1, 0], [-0.25, -1.75, 0, 1]]"
      ]
     },
     "execution_count": 16,
     "metadata": {},
     "output_type": "execute_result"
    }
   ],
   "source": [
    "# the special solutions for the nullspace\n",
    "\n",
    "[\n",
    "    [-23/4.0, -1/4.0, 1, 0],\n",
    "    [-1/4.0, -7/4.0, 0, 1]\n",
    "]"
   ]
  },
  {
   "cell_type": "code",
   "execution_count": 27,
   "id": "addressed-cherry",
   "metadata": {},
   "outputs": [
    {
     "name": "stdout",
     "output_type": "stream",
     "text": [
      "Matrix([[4, 4], [4, 4]])\n",
      "1\n",
      "Matrix([[0, 0], [0, 0]])\n",
      "0\n"
     ]
    }
   ],
   "source": [
    "# problem 7.2\n",
    "\n",
    "# for A1 and A2 so that rank(A1B) = 1 and rank(A2B) = 0 for B\n",
    "\n",
    "import sympy\n",
    "\n",
    "B = sympy.Matrix([\n",
    "    [1, 1],\n",
    "    [1, 1]\n",
    "])\n",
    "A1 = sympy.Matrix([\n",
    "    [2, 2],\n",
    "    [2, 2]\n",
    "])\n",
    "A1B = A1 * B\n",
    "print(A1B)\n",
    "print(A1B.rank())\n",
    "\n",
    "A2 = sympy.Matrix([\n",
    "    [-1, 1],\n",
    "    [1, -1]\n",
    "])\n",
    "A2B = A2 * B\n",
    "print(A2B)\n",
    "print(A2B.rank())"
   ]
  },
  {
   "cell_type": "code",
   "execution_count": null,
   "id": "welsh-interstate",
   "metadata": {},
   "outputs": [],
   "source": []
  }
 ],
 "metadata": {
  "kernelspec": {
   "display_name": "Python 3",
   "language": "python",
   "name": "python3"
  },
  "language_info": {
   "codemirror_mode": {
    "name": "ipython",
    "version": 3
   },
   "file_extension": ".py",
   "mimetype": "text/x-python",
   "name": "python",
   "nbconvert_exporter": "python",
   "pygments_lexer": "ipython3",
   "version": "3.8.1"
  }
 },
 "nbformat": 4,
 "nbformat_minor": 5
}
