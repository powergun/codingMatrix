{
 "cells": [
  {
   "cell_type": "markdown",
   "id": "wireless-rocket",
   "metadata": {},
   "source": [
    "### how do you describe and compute the vectors in the spaces?\n",
    "\n",
    "turning the idea into an algorithm - what is the algorithm for\n",
    "solving $Ax = 0$\n",
    "\n",
    "example:\n",
    "\n",
    "$A = \\begin{bmatrix}\n",
    "1 & 2 & 2 & 2 \\\\\n",
    "2 & 4 & 6 & 8 \\\\\n",
    "3 & 6 & 8 & 10\n",
    "\\end{bmatrix}$\n",
    "\n",
    "\n"
   ]
  },
  {
   "cell_type": "markdown",
   "id": "universal-valentine",
   "metadata": {},
   "source": [
    "column-2 and row-3 are not independent, because\n",
    "\n",
    "column-2 is a multiple of column-1\n",
    "\n",
    "row-3 is the sum of row-1 and row-2 \n",
    "\n",
    "the vectors of these are in the same direction\n",
    "\n",
    "we extend the algorithm of elimination to cover the case where\n",
    "the pivot is zero; we just move on\n",
    "\n",
    "while doing the elimination **the nullspace is unchanged**. but we\n",
    "are chaning the column space.\n"
   ]
  },
  {
   "cell_type": "markdown",
   "id": "painful-printer",
   "metadata": {},
   "source": [
    "after the first step of elimination, $A$ becomes\n",
    "\n",
    "$\\begin{bmatrix}\n",
    "1 & 2 & 2 & 2 \\\\\n",
    "0 & 0 & 2 & 4 \\\\\n",
    "0 & 0 & 2 & 4\n",
    "\\end{bmatrix}$"
   ]
  },
  {
   "cell_type": "markdown",
   "id": "level-passage",
   "metadata": {},
   "source": [
    "the pivot position $A_{22}$ is zero, and the position below it\n",
    "$A_{32}$ is also zero,\n",
    "\n",
    "it a telling sign that column-2 depends on an earlier column (hence\n",
    "the two vertical zeros)\n",
    "\n",
    "therefore we move on to the next good pivot, $A_{23}$\n",
    "\n",
    "$\\begin{bmatrix}\n",
    "1 & 2 & 2 & 2 \\\\\n",
    "0 & 0 & 2 & 4 \\\\\n",
    "0 & 0 & 0 & 0\n",
    "\\end{bmatrix}$\n",
    "\n",
    "this is $U$, or upper echelon form\n",
    "\n",
    "source: <https://en.wikipedia.org/wiki/Row_echelon_form>\n",
    "\n"
   ]
  },
  {
   "cell_type": "markdown",
   "id": "returning-satin",
   "metadata": {},
   "source": [
    "### the rank of a matrix\n",
    "\n",
    "the number of the pivots, $2$ is the rank of this matrix, $A$\n",
    "\n",
    "we transformed $Ax = 0$ to $Ux = 0$ while preserving the solutions\n",
    "and nullspace\n"
   ]
  },
  {
   "cell_type": "markdown",
   "id": "apparent-residence",
   "metadata": {},
   "source": [
    "the algorithm to get the solutions is to separate the **pivot\n",
    "columns**"
   ]
  },
  {
   "cell_type": "markdown",
   "id": "academic-footage",
   "metadata": {},
   "source": []
  },
  {
   "cell_type": "markdown",
   "id": "dying-coordinate",
   "metadata": {},
   "source": []
  },
  {
   "cell_type": "markdown",
   "id": "incorrect-warning",
   "metadata": {},
   "source": []
  },
  {
   "cell_type": "markdown",
   "id": "raised-sympathy",
   "metadata": {},
   "source": []
  }
 ],
 "metadata": {
  "kernelspec": {
   "display_name": "pyLinearAlgebra",
   "language": "python",
   "name": "python3"
  },
  "language_info": {
   "codemirror_mode": {
    "name": "ipython",
    "version": 3
   },
   "file_extension": ".py",
   "mimetype": "text/x-python",
   "name": "python",
   "nbconvert_exporter": "python",
   "pygments_lexer": "ipython3",
   "version": "3.8.1"
  }
 },
 "nbformat": 4,
 "nbformat_minor": 5
}
