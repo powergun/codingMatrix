{
 "cells": [
  {
   "cell_type": "code",
   "execution_count": 14,
   "id": "tired-death",
   "metadata": {},
   "outputs": [
    {
     "name": "stdout",
     "output_type": "stream",
     "text": [
      "[[ 1.   0.   0.   0. ]\n",
      " [ 0.5  0.  -1.   1. ]\n",
      " [ 0.5  0.   1.   0. ]\n",
      " [ 0.5  1.   0.   0. ]]\n",
      "[[ 2.  4.  4.  4.]\n",
      " [ 0.  2.  1.  2.]\n",
      " [ 0.  0. -1.  0.]\n",
      " [ 0.  0.  0.  1.]]\n"
     ]
    }
   ],
   "source": [
    "# elimination in python\n",
    "\n",
    "# 1)\n",
    "\n",
    "# https://numpy.org/doc/stable/reference/generated/numpy.linalg.solve.html\n",
    "\n",
    "# 2)\n",
    "\n",
    "# https://stackoverflow.com/questions/15638650/is-there-a-standard-solution-for-gauss-elimination-in-python\n",
    "\n",
    "from numpy import array\n",
    "from scipy.linalg import lu\n",
    "\n",
    "a = array([\n",
    "    [2.,4.,4.,4.],\n",
    "    [1.,2.,3.,3.],\n",
    "    [1.,2.,1.,2.],\n",
    "    [1.,4.,3.,4.],\n",
    "])\n",
    "\n",
    "pl, u = lu(a, permute_l=True)\n",
    "print(pl)\n",
    "print(u)\n",
    "\n",
    "# u is the form after gaussian elimination"
   ]
  },
  {
   "cell_type": "markdown",
   "id": "weird-flash",
   "metadata": {},
   "source": [
    "### forward elimination\n",
    "\n",
    "the diagonal elements in a matrix are its pivot\n",
    "\n",
    "the result of forward elimination is $U$, the upper triangular\n",
    "\n",
    "the RHS is called $c$\n"
   ]
  },
  {
   "cell_type": "markdown",
   "id": "vocational-january",
   "metadata": {},
   "source": [
    "### the pivot\n",
    "\n",
    "pivot can not be zero, otherwise the matrix is singular and invertible\n"
   ]
  },
  {
   "cell_type": "markdown",
   "id": "tamil-appliance",
   "metadata": {},
   "source": [
    "### back substitution\n",
    "\n",
    "\n"
   ]
  },
  {
   "cell_type": "markdown",
   "id": "unusual-pressure",
   "metadata": {},
   "source": [
    "### elimination expressed as matrices\n",
    "\n",
    "to eliminate the second row:\n",
    "\n",
    "$\\begin{align}\n",
    "\\begin{bmatrix}\n",
    "1 & 0 & 0 \\\\\n",
    "-3 & 1 & 0 \\\\\n",
    "0 & 0 & 1\n",
    "\\end{bmatrix}\n",
    "\\begin{bmatrix}\n",
    "1 & 2 & 1 \\\\\n",
    "3 & 8 & 1 \\\\\n",
    "0 & 4 & 1\n",
    "\\end{bmatrix}\n",
    "=\n",
    "\\begin{bmatrix}\n",
    "1 & 2 & 1 \\\\\n",
    "0 & 2 & -2 \\\\\n",
    "0 & 4 & 1 \n",
    "\\end{bmatrix}\n",
    "\\\\\n",
    "U = E_{21} \\ M\n",
    "\\end{align}$\n",
    "\n",
    "$E_{21}$ is the elementary or elimination matrix for the second row\n",
    "\n",
    "I will need another matrix $E_{32}$ for the 3rd row\n",
    "\n",
    "$U = E_{32} \\ (E_{21} \\ A)$\n",
    "\n",
    "using the associative law (but note that **commutative law is false**!)\n",
    "\n",
    "$U = (E_{32} \\ E_{21}) \\ A$"
   ]
  },
  {
   "cell_type": "code",
   "execution_count": 20,
   "id": "shared-anatomy",
   "metadata": {},
   "outputs": [
    {
     "data": {
      "text/plain": [
       "array([[3, 4],\n",
       "       [1, 2]])"
      ]
     },
     "execution_count": 20,
     "metadata": {},
     "output_type": "execute_result"
    }
   ],
   "source": [
    "# row operation: exchange rows\n",
    "# P . A\n",
    "\n",
    "import numpy as np\n",
    "A = np.array([\n",
    "    [1, 2],\n",
    "    [3, 4],\n",
    "])\n",
    "\n",
    "np.dot(np.array([[0, 1], [1, 0]]), A)"
   ]
  },
  {
   "cell_type": "code",
   "execution_count": 23,
   "id": "identical-static",
   "metadata": {},
   "outputs": [
    {
     "data": {
      "text/plain": [
       "array([[7, 8, 9],\n",
       "       [4, 5, 6],\n",
       "       [1, 2, 3]])"
      ]
     },
     "execution_count": 23,
     "metadata": {},
     "output_type": "execute_result"
    }
   ],
   "source": [
    "# 3-D matrix\n",
    "\n",
    "import numpy as np\n",
    "A = np.array([\n",
    "    [1, 2, 3],\n",
    "    [4, 5, 6],\n",
    "    [7, 8, 9],\n",
    "])\n",
    "\n",
    "np.dot(np.array([[0, 0, 1], [0, 1, 0], [1, 0, 0]]), A)"
   ]
  },
  {
   "cell_type": "code",
   "execution_count": 25,
   "id": "embedded-egypt",
   "metadata": {},
   "outputs": [
    {
     "data": {
      "text/plain": [
       "array([[7, 8, 9],\n",
       "       [1, 2, 3],\n",
       "       [4, 5, 6]])"
      ]
     },
     "execution_count": 25,
     "metadata": {},
     "output_type": "execute_result"
    }
   ],
   "source": [
    "# arbitrary order\n",
    "\n",
    "import numpy as np\n",
    "A = np.array([\n",
    "    [1, 2, 3],\n",
    "    [4, 5, 6],\n",
    "    [7, 8, 9],\n",
    "])\n",
    "\n",
    "np.dot(np.array([[0, 0, 1], [1, 0, 0], [0, 1, 0]]), A)"
   ]
  },
  {
   "cell_type": "code",
   "execution_count": 1,
   "id": "julian-error",
   "metadata": {},
   "outputs": [
    {
     "data": {
      "text/plain": [
       "array([[2, 1],\n",
       "       [4, 3]])"
      ]
     },
     "execution_count": 1,
     "metadata": {},
     "output_type": "execute_result"
    }
   ],
   "source": [
    "# column operation: exchange columns\n",
    "# A . P\n",
    "\n",
    "import numpy as np\n",
    "A = np.array([\n",
    "    [1, 2],\n",
    "    [3, 4],\n",
    "])\n",
    "\n",
    "np.dot(A, np.array([[0, 1], [1, 0]]))"
   ]
  },
  {
   "cell_type": "code",
   "execution_count": null,
   "id": "ideal-debate",
   "metadata": {},
   "outputs": [],
   "source": []
  }
 ],
 "metadata": {
  "kernelspec": {
   "display_name": "pyLinearAlgebra",
   "language": "python",
   "name": "python3"
  },
  "language_info": {
   "codemirror_mode": {
    "name": "ipython",
    "version": 3
   },
   "file_extension": ".py",
   "mimetype": "text/x-python",
   "name": "python",
   "nbconvert_exporter": "python",
   "pygments_lexer": "ipython3",
   "version": "3.8.1"
  }
 },
 "nbformat": 4,
 "nbformat_minor": 5
}
