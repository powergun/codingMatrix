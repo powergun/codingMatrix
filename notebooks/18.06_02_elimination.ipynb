{
 "cells": [
  {
   "cell_type": "code",
   "execution_count": 2,
   "id": "chemical-uzbekistan",
   "metadata": {},
   "outputs": [
    {
     "name": "stdout",
     "output_type": "stream",
     "text": [
      "[[1.  0.  0.  0. ]\n",
      " [0.5 0.  1.  0. ]\n",
      " [0.5 0.  0.  1. ]\n",
      " [0.5 1.  0.  0. ]]\n",
      "[[2. 4. 4. 4.]\n",
      " [0. 2. 1. 2.]\n",
      " [0. 0. 1. 1.]\n",
      " [0. 0. 0. 0.]]\n"
     ]
    }
   ],
   "source": [
    "# elimination in python\n",
    "\n",
    "# 1)\n",
    "\n",
    "# https://numpy.org/doc/stable/reference/generated/numpy.linalg.solve.html\n",
    "\n",
    "# 2)\n",
    "\n",
    "# https://stackoverflow.com/questions/15638650/is-there-a-standard-solution-for-gauss-elimination-in-python\n",
    "\n",
    "from numpy import array\n",
    "from scipy.linalg import lu\n",
    "\n",
    "a = array([[2.,4.,4.,4.],[1.,2.,3.,3.],[1.,2.,2.,2.],[1.,4.,3.,4.]])\n",
    "\n",
    "pl, u = lu(a, permute_l=True)\n",
    "print(pl)\n",
    "print(u)\n",
    "\n",
    "# u is the form after gaussian elimination"
   ]
  },
  {
   "cell_type": "code",
   "execution_count": null,
   "id": "hired-partnership",
   "metadata": {},
   "outputs": [],
   "source": []
  }
 ],
 "metadata": {
  "kernelspec": {
   "display_name": "pyLinearAlgebra",
   "language": "python",
   "name": "python3"
  },
  "language_info": {
   "codemirror_mode": {
    "name": "ipython",
    "version": 3
   },
   "file_extension": ".py",
   "mimetype": "text/x-python",
   "name": "python",
   "nbconvert_exporter": "python",
   "pygments_lexer": "ipython3",
   "version": "3.8.1"
  }
 },
 "nbformat": 4,
 "nbformat_minor": 5
}
