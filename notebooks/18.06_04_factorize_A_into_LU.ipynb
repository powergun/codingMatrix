{
 "cells": [
  {
   "cell_type": "markdown",
   "id": "alternative-venezuela",
   "metadata": {},
   "source": [
    "### inverse again\n",
    "\n",
    "$A = LU$ can explain Gaussian elimination\n",
    "\n",
    "what is the inverse of $A \\ B$ (assuming both matrices are \n",
    "invertible)?\n",
    "\n",
    "$\\begin{align}\n",
    "\\text{let} \\ M = A \\ B \\\\\n",
    "M \\ M^{-1} = I \\\\\n",
    "\\text{using the associative law} \\\\ \n",
    "(A \\ B) \\ B^{-1} = A \\ (B \\ B^{-1}) \\\\\n",
    "\\text{therefore} \\\\ \n",
    "A \\ (B \\ B^{-1}) \\ A^{-1} = A \\ I \\ A^{-1} = A \\ A^{-1} = I \\\\\n",
    "\\text{using the associative law again} \\\\ \n",
    "(A \\ B) \\ (B^{-1} \\ A^{-1}) \\\\\n",
    "M^{-1} = B^{-1} \\ A^{-1} \n",
    "\\end{align}$\n"
   ]
  },
  {
   "cell_type": "markdown",
   "id": "public-boulder",
   "metadata": {},
   "source": [
    "extending it to N matrices\n",
    "\n",
    "$\\begin{align}\n",
    "\\text{the inverse of} \\\\\n",
    "A \\ B \\ C \\dots \\ N \\\\\n",
    "\\text{is} \\\\\n",
    "N^{-1} \\ \\dots \\ C^{-1} \\ B^{-1} \\ A^{-1}\n",
    "\\end{align}$"
   ]
  },
  {
   "cell_type": "markdown",
   "id": "dimensional-charity",
   "metadata": {},
   "source": [
    "### the transpose of a square, invertible matrix\n",
    "\n",
    "given $AA^{-1} = I$\n",
    "\n",
    "what is the transpose?\n",
    "\n",
    "$(AA^{-1})^{T} = I^{T} = I $\n",
    "\n",
    "because of the Properties of Transpose (see: <https://en.wikipedia.org/wiki/Transpose>), namely $(AB)^{T} = B^{T}A^{T}$\n",
    "\n",
    "$(A^{-1})^{T}A^{T} = I$\n",
    "\n",
    "compare it to the inverse\n",
    "\n",
    "$(A^{T})^{-1}A^{T} = I$\n",
    "\n",
    "we get\n",
    "\n",
    "$(A^{-1})^{T} = (A^{T})^{-1}$\n",
    "\n",
    "in order words, transpose and inverse on the same $M$ can exchange\n",
    "order"
   ]
  },
  {
   "cell_type": "markdown",
   "id": "abroad-controversy",
   "metadata": {},
   "source": [
    "### using the above facts to complete Elimination\n",
    "\n",
    "elimination is the \"algebra\" in Linear Algebra\n",
    "\n",
    "$A = LU$ tells the relation between $A$ and $U$\n",
    "\n",
    "$\\begin{align}\n",
    "E_{21} A = U \\ (\\text{21 refers to row-2, column-1 in A})\n",
    "\\\\\n",
    "\\begin{bmatrix}1 & 0 \\\\-4 & 1 \\end{bmatrix}\n",
    "\\begin{bmatrix}2 & 1 \\\\8 & 7 \\end{bmatrix}\n",
    "= \\begin{bmatrix}2 & 1 \\\\0 & 3 \\end{bmatrix}\n",
    "\\end{align}$\n",
    "\n",
    "and the $A = LU$ form can be derived:\n",
    "\n",
    "$\\begin{align}\n",
    "A = (E_{21})^{-1} U = L U\n",
    "\\\\\n",
    "\\begin{bmatrix}2 & 1 \\\\8 & 7 \\end{bmatrix}\n",
    "=\n",
    "\\begin{bmatrix}1 & 0 \\\\4 & 1 \\end{bmatrix}\n",
    "\\begin{bmatrix}2 & 1 \\\\0 & 3 \\end{bmatrix}\n",
    "\\end{align}$"
   ]
  },
  {
   "cell_type": "markdown",
   "id": "corresponding-moisture",
   "metadata": {},
   "source": [
    "$U$ here contains the pivots;\n",
    "\n",
    "sometimes $U$ is split into $DU$, $D$ contains purely the pivots\n",
    "while $U$ is the upper triangular matrix with all pivots being 0;\n",
    "this makes $L$ and $U$ structurally similar\n"
   ]
  },
  {
   "cell_type": "code",
   "execution_count": null,
   "id": "collected-glenn",
   "metadata": {},
   "outputs": [],
   "source": [
    "# implementing A = PLU decomposition from scratch\n",
    "\n",
    "# https://www.quantstart.com/articles/LU-Decomposition-in-Python-and-NumPy/\n"
   ]
  },
  {
   "cell_type": "code",
   "execution_count": 14,
   "id": "fresh-truth",
   "metadata": {},
   "outputs": [
    {
     "name": "stdout",
     "output_type": "stream",
     "text": [
      "[[ 8.    7.  ]\n",
      " [ 0.   -0.75]]\n",
      "[[ 8.    0.  ]\n",
      " [ 0.   -0.75]]\n",
      "[[ 1.     0.875]\n",
      " [-0.     1.   ]]\n"
     ]
    },
    {
     "data": {
      "text/plain": [
       "array([[2., 1.],\n",
       "       [8., 7.]])"
      ]
     },
     "execution_count": 14,
     "metadata": {},
     "output_type": "execute_result"
    }
   ],
   "source": [
    "# scipy offers PLU decomposition,\n",
    "# how to decompose into LDU?\n",
    "# https://stackoverflow.com/questions/45450175/is-there-a-built-in-easy-ldu-decomposition-method-in-numpy\n",
    "\n",
    "import numpy as np\n",
    "import scipy.linalg as la\n",
    "\n",
    "A = np.array([\n",
    "    [2, 1],\n",
    "    [8, 7],\n",
    "])\n",
    "\n",
    "P, L, U = la.lu(A)\n",
    "print(U)  # the original U\n",
    "\n",
    "D = np.diag(np.diag(U))   # D is just the diagonal of U\n",
    "print(D)\n",
    "\n",
    "U /= np.diag(U)[:, None]  # Normalize rows of U\n",
    "print(U)\n",
    "\n",
    "P.dot(L.dot(D.dot(U)))    # Check to see if it is the same as A\n"
   ]
  },
  {
   "cell_type": "markdown",
   "id": "discrete-hudson",
   "metadata": {},
   "source": [
    "### moving on to 3 x 3\n",
    "\n",
    "$E_{32} E_{31} E_{21} A = U$\n",
    "\n",
    "assuming no row-exchange in this simple case\n",
    "\n",
    "how to move these E (elementary) matrices to RHS ??\n",
    "\n",
    "$\\begin{align}\n",
    "A = E_{21}^{-1}E_{31}^{-1}E_{32}^{-1} U\n",
    "\\\\\n",
    "A = LU\n",
    "\\end{align}$\n",
    "\n",
    "$L$ is the product of the inverse matrices\n"
   ]
  },
  {
   "cell_type": "markdown",
   "id": "failing-estate",
   "metadata": {},
   "source": [
    "our observation tells:\n",
    "\n",
    "given $A = LU$\n",
    "\n",
    "if there are no row exchanges, the multipliers (used in the\n",
    "elementary row operation, i.e. the elementary matrices) go \n",
    "directly into $L$\n",
    "\n",
    "the elementary matrices $E$ are not particularly interesting;\n",
    "but they contribute to $L$"
   ]
  },
  {
   "cell_type": "markdown",
   "id": "taken-fisher",
   "metadata": {},
   "source": [
    "### CS question: how many elementary operations on n x n matrix\n",
    "\n",
    "e.g. can we solve a system of order 1000 in a second?\n",
    "\n",
    "given n = 100, at each time $i$, to apply elementary row operation to\n",
    "all the $(n - i)$ rows below $i$, the row $i$ is used $(n - i)$ times;\n",
    "\n",
    "and knowing that $A$ is a square, invertible matrix, there will be\n",
    "$(n - i)$ columns to operate on,\n",
    "\n",
    "therefore, to sum up all the operational cost:\n",
    "\n",
    "$n^{2} + (n - 1)^{2} + \\dots + 1^{2}$\n",
    "\n",
    "**the complexity is $n^{3}$**\n",
    "\n",
    "$\\int x^{2}\\,dx $\n",
    "\n",
    "reminder of the integral formula\n",
    "\n",
    "$\\int x^{n}\\,dx = \\frac{x^{n + 1}} {n + 1}$\n",
    "\n",
    "#### the cost to compute b\n",
    "\n",
    "will be $n^{2}$\n"
   ]
  },
  {
   "cell_type": "markdown",
   "id": "prospective-expansion",
   "metadata": {},
   "source": [
    "### include row-exchanges\n",
    "\n",
    "permutation matrices to exchange rows\n",
    "\n",
    "recall that $P_{12}$ (to exchange row-1 and row-2) is \n",
    "\n",
    "$\\begin{bmatrix}\n",
    "0 & 1 & 0 \\\\\n",
    "1 & 0 & 0 \\\\\n",
    "0 & 0 & 1\n",
    "\\end{bmatrix}$\n",
    "\n",
    "observe that there are 6 the permutation matrices for a 3x3 A,\n",
    "including the Identity $I$;\n",
    "\n",
    "they are a group or family of matrices while their inverses and \n",
    "tranrposes stay in the same group; **their inverses are actually\n",
    "themselves (so are their transposes)**\n",
    "\n",
    "\n"
   ]
  },
  {
   "cell_type": "code",
   "execution_count": null,
   "id": "corporate-classic",
   "metadata": {},
   "outputs": [],
   "source": []
  }
 ],
 "metadata": {
  "kernelspec": {
   "display_name": "Python 3",
   "language": "python",
   "name": "python3"
  },
  "language_info": {
   "codemirror_mode": {
    "name": "ipython",
    "version": 3
   },
   "file_extension": ".py",
   "mimetype": "text/x-python",
   "name": "python",
   "nbconvert_exporter": "python",
   "pygments_lexer": "ipython3",
   "version": "3.8.1"
  }
 },
 "nbformat": 4,
 "nbformat_minor": 5
}
