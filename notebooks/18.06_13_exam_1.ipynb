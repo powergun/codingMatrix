{
 "cells": [
  {
   "cell_type": "markdown",
   "id": "nonprofit-taiwan",
   "metadata": {},
   "source": [
    "(1 this question is about $A_{m \\ \\times \\ n}$ for which\n",
    "\n",
    "$Ax = \\begin{bmatrix}1 \\\\ 1 \\\\ 1\\end{bmatrix}$ has no solution, and\n",
    "$Ax = \\begin{bmatrix}0 \\\\ 1 \\\\ 0\\end{bmatrix}$ has exactly one solution\n",
    "\n",
    "a) give all possible information about $m, n$ and the rank $r$ of $A$\n",
    "\n",
    "b) find all solutions to $Ax = 0$ and explain your answer\n",
    "\n",
    "c) write down an example of a matrix $A$ that fits the\n",
    "description in part a)"
   ]
  },
  {
   "cell_type": "code",
   "execution_count": 1,
   "id": "intimate-niagara",
   "metadata": {},
   "outputs": [],
   "source": [
    "# a) HALF PASS\n",
    "\n",
    "# that one solution can not be Z as there is a non-zero element in b\n",
    "# therefore I can deduce that A is invertible \n",
    "# therefore A is a full rank matrix, {0, 1, 0} is in C(A)\n",
    "# m, n = 3, 3\n",
    "# r = 3\n",
    "\n",
    "# 3 x 3 invertible matrix will fill R3, contradict to \n",
    "# Ax = {1, 1, 1} has no solution!\n",
    "\n",
    "# A is 3 x 2\n",
    "# rank is 2\n",
    "\n",
    "# -----------------------------------------------------------------\n",
    "\n",
    "# official:\n",
    "\n",
    "# the statement \"Ax = {0, 1, 0} has one solution\" leads to\n",
    "#  N(A) = {Z} so r = n\n",
    "#               ^^^^^^^\n",
    "# also m must be 3, because the there are 3 equations that\n",
    "# produce a vector in R3\n",
    "\n",
    "# the statement \"Ax = {1, 1, 1} has no solution\" leads to\n",
    "# C(A) not in R3, so r < m\n",
    "#  ^^^^^^^^^^^^^^^^^^^^^^^^\n",
    "\n",
    "# there are 2 possibilities: m = 3, r = n = 1,\n",
    "#                            m = 3, r = n = 2\n"
   ]
  },
  {
   "cell_type": "code",
   "execution_count": 2,
   "id": "initial-basketball",
   "metadata": {},
   "outputs": [],
   "source": [
    "# b) PASS\n",
    "\n",
    "# since A is full rank, N(A) only contains Z\n",
    "\n",
    "# -----------------------------------------------------------------\n",
    "\n",
    "# official:\n",
    "#\n",
    "# following the 2 possibilities (3 x 1 and 3 x 2)\n",
    "# there are x = {0} or x = {0, 0}\n",
    "# A is full column rank "
   ]
  },
  {
   "cell_type": "code",
   "execution_count": 50,
   "id": "turkish-retro",
   "metadata": {},
   "outputs": [
    {
     "name": "stdout",
     "output_type": "stream",
     "text": [
      "⎡ 1  0  0 ⎤\n",
      "⎢ 0  1  0 ⎥\n",
      "⎣ 0  0  1 ⎦\n",
      "\n",
      "⎡ 1  0  0 ⎤\n",
      "⎢ 0  1  1 ⎥\n",
      "⎣ 0  0  0 ⎦\n"
     ]
    }
   ],
   "source": [
    "# c) HALF PASS\n",
    "\n",
    "import sympy\n",
    "import pylinearalgebra.mattools as mt\n",
    "A = [\n",
    "    [1, 0],\n",
    "    [0, 1],\n",
    "    [0, 0],\n",
    "]\n",
    "\n",
    "# sanity check:\n",
    "\n",
    "AugNo = sympy.Matrix([row + [x] for row, x in zip(A, [1, 1, 1])])\n",
    "Aug1 = sympy.Matrix([row + [x] for row, x in zip(A, [0, 1, 0])])\n",
    "\n",
    "# make sure Ax = {1, 1, 1} has no solution\n",
    "\n",
    "RAugNo, _ = AugNo.rref()\n",
    "mt.pprint(RAugNo)\n",
    "print()\n",
    "\n",
    "# make sure Ax = {0, 1, 0} has only one solution\n",
    "RAug1, _ = Aug1.rref()\n",
    "mt.pprint(RAug1)\n",
    "\n",
    "# -----------------------------------------------------------------\n",
    "# offical\n",
    "\n",
    "# another answer is, if A is 3 x 1\n",
    "\n",
    "A_ = [0, 1, 0]"
   ]
  },
  {
   "cell_type": "markdown",
   "id": "illegal-signature",
   "metadata": {},
   "source": [
    "(2 $A_{3 \\ \\times \\ 3}$ reduces to the identity matrix $I$\n",
    "by the following three row operations (in order)\n",
    "\n",
    "$E_{21}$ subtract 4 (row-1) from row-2\n",
    "\n",
    "$E_{31}$ subtract 3 (row-1) from row-3\n",
    "\n",
    "$E_{23}$ subtract row-3 from row-2\n",
    "\n",
    "a) write the inverse $A^{-1}$ in terms of the $Es$,\n",
    "then compute $A^{-1}$\n",
    "\n",
    "b) what is the original $A$ ?\n",
    "\n",
    "c) what is the lower triangular factor $L$ in $A = LU$ ?"
   ]
  },
  {
   "cell_type": "code",
   "execution_count": 137,
   "id": "encouraging-michigan",
   "metadata": {},
   "outputs": [
    {
     "name": "stdout",
     "output_type": "stream",
     "text": [
      "⎡  1   0   0 ⎤\n",
      "⎢ -1   1  -1 ⎥\n",
      "⎣ -3   0   1 ⎦\n",
      "\n",
      "⎡ 1  0  0 ⎤\n",
      "⎢ 4  1  1 ⎥\n",
      "⎣ 3  0  1 ⎦\n",
      "\n",
      "⎡ 1  0  0 ⎤\n",
      "⎢ 4  1  0 ⎥\n",
      "⎣ 3  0  1 ⎦\n"
     ]
    }
   ],
   "source": [
    "# a) FAIL\n",
    "\n",
    "import sympy\n",
    "import pylinearalgebra.mattools as mt\n",
    "# E23  E31  E21 A = I\n",
    "#        Ai     A = I\n",
    "\n",
    "E23 = sympy.Matrix([\n",
    "    [1, 0, 0],\n",
    "    [0, 1, 0],\n",
    "    [0, -1, 1],\n",
    "])\n",
    "E31 = sympy.Matrix([\n",
    "    [1, 0, 0],\n",
    "    [0, 1, 0],\n",
    "    [-3, 0, 1],\n",
    "])\n",
    "E21 = sympy.Matrix([\n",
    "    [1, 0, 0],\n",
    "    [-4, 1, 0],\n",
    "    [0, 0, 1],\n",
    "])\n",
    "\n",
    "A_inv = E23.inv() * E31.inv() * E23.inv()\n",
    "\n",
    "# b)\n",
    "\n",
    "A = A_inv.inv()\n",
    "\n",
    "# c) Note that A is already a lower triangular Matrix!\n",
    "\n",
    "# -----------------------------------------------------------------\n",
    "\n",
    "# official\n",
    "\n",
    "# a) \n",
    "\n",
    "E23 = sympy.Matrix([\n",
    "    [1, 0, 0],\n",
    "    [0, 1, -1],\n",
    "    [0, 0, 1],\n",
    "])  # (2: row, 3: column)\n",
    "A_inv = E23 * E31 * E21\n",
    "mt.pprint(A_inv)\n",
    "\n",
    "# b)\n",
    "\n",
    "A = E21.inv() * E31.inv() * E23.inv()\n",
    "print()\n",
    "mt.pprint(A)\n",
    "\n",
    "# c)\n",
    "\n",
    "L, U, _ = A.LUdecomposition()\n",
    "print()\n",
    "mt.pprint(L)"
   ]
  },
  {
   "cell_type": "markdown",
   "id": "prospective-volunteer",
   "metadata": {},
   "source": [
    "(3 this matrix $A_{3 \\ \\times \\ 4}$ depends on $c$\n",
    "\n",
    "$A = \\begin{bmatrix}\n",
    "1 & 1 & 2 & 4 \\\\\n",
    "3 & c & 2 & 8 \\\\\n",
    "0 & 0 & 2 & 2\n",
    "\\end{bmatrix}$\n",
    "\n",
    "a) for each $c$ find a basis for the col-space $C(A)$\n",
    "\n",
    "b) for each $c$ find a basis for the nullspace $N(A)$\n",
    "\n",
    "c) for each c find the complete solution $Ax = \n",
    "\\begin{bmatrix}1 \\\\ c \\\\ 0\\end{bmatrix}$"
   ]
  },
  {
   "cell_type": "code",
   "execution_count": 90,
   "id": "explicit-chance",
   "metadata": {},
   "outputs": [
    {
     "name": "stdout",
     "output_type": "stream",
     "text": [
      "⎡     1      1      2      4 ⎤\n",
      "⎢     0  c - 3     -4     -4 ⎥\n",
      "⎣     0      0      2      2 ⎦\n"
     ]
    }
   ],
   "source": [
    "# a) FAIL\n",
    "\n",
    "import sympy\n",
    "import pylinearalgebra.mattools as mt\n",
    "\n",
    "c = sympy.Symbol('c')\n",
    "A = sympy.Matrix([\n",
    "    [1, 1, 2, 4],\n",
    "    [3, c, 2, 8],\n",
    "    [0, 0, 2, 2],\n",
    "])\n",
    "\n",
    "L, U, _ = A.LUdecomposition()\n",
    "mt.pprint(U)\n",
    "\n",
    "# basis for C(A):\n",
    "# [1, 0, 0]\n",
    "# [1, c - 3, 0]\n",
    "# [2, -4, 2]\n",
    "\n",
    "# -----------------------------------------------------------------\n",
    "\n",
    "# official\n",
    "\n",
    "# must analyse these two cases:\n",
    "# if c = 0\n",
    "# if c != 0\n"
   ]
  },
  {
   "cell_type": "code",
   "execution_count": 104,
   "id": "fabulous-token",
   "metadata": {},
   "outputs": [
    {
     "name": "stdout",
     "output_type": "stream",
     "text": [
      "\n",
      "⎡ 1  0  0  2  0 ⎤\n",
      "⎢ 0  1  0  0  0 ⎥\n",
      "⎣ 0  0  1  1  0 ⎦\n"
     ]
    }
   ],
   "source": [
    "# b) nullspace FAIL\n",
    "#    to solve Ax = 0\n",
    "\n",
    "import sympy\n",
    "import pylinearalgebra.mattools as mt\n",
    "\n",
    "NAug = sympy.Matrix(\n",
    "    [row + [x] for row, x in zip(A.tolist(), [0, 0, 0])]\n",
    ")\n",
    "NAugR, _ = NAug.rref()\n",
    "print()\n",
    "mt.pprint(NAugR)\n",
    "\n",
    "# solutions to the nullspace (special solutions)\n",
    "# [0, 0, 0, 0]\n",
    "# [-2, 0, -1, 1]\n",
    "\n",
    "# --------------------------------------------------------------\n",
    "\n",
    "# similarly, must analyse these two cases: =0 , != 0"
   ]
  },
  {
   "cell_type": "code",
   "execution_count": 103,
   "id": "numerous-competition",
   "metadata": {},
   "outputs": [
    {
     "name": "stdout",
     "output_type": "stream",
     "text": [
      "⎡ 1  0  0  2  0 ⎤\n",
      "⎢ 0  1  0  0  1 ⎥\n",
      "⎣ 0  0  1  1  0 ⎦\n"
     ]
    }
   ],
   "source": [
    "# c) FAIL (same reason, missed these two cases)\n",
    "\n",
    "Aug = sympy.Matrix(\n",
    "    [row + [x] for row, x in zip(A.tolist(), [1, c, 0])]\n",
    ")\n",
    "R, _ = Aug.rref()\n",
    "mt.pprint(R)\n",
    "\n",
    "# Xp + Xn\n",
    "\n",
    "# Xp, 1\n",
    "# [-2, 1, -1, 1]\n",
    "# Xp, 0\n",
    "# [0, 1, 0, 0]\n",
    "\n",
    "# Xn\n",
    "# [0, 0, 0, 0]\n",
    "# [-2, 0, -1, 1]\n",
    "\n"
   ]
  },
  {
   "cell_type": "code",
   "execution_count": 109,
   "id": "valuable-chuck",
   "metadata": {},
   "outputs": [
    {
     "name": "stdout",
     "output_type": "stream",
     "text": [
      "⎡    1     0   1/2  -1/2 ⎤\n",
      "⎢    0     1     0     0 ⎥\n",
      "⎣    0     0     0     0 ⎦\n"
     ]
    }
   ],
   "source": [
    "# sanity check, are these solutions independent?\n",
    "\n",
    "import pylinearalgebra.mattools as mt\n",
    "\n",
    "space = [\n",
    "    [-2, 1, -1, 1], \n",
    "    [0, 1, 0, 0],\n",
    "    [-2, 0, -1, 1]\n",
    "]\n",
    "\n"
   ]
  },
  {
   "cell_type": "markdown",
   "id": "animal-fellow",
   "metadata": {},
   "source": [
    "(4 \n",
    "\n",
    "a) given $A_{3 \\ \\times \\ 5}$ what information do you have\n",
    "about the nullspace \n",
    "\n",
    "b) suppose row operations on $A$ lead to this matrix $R = rref(A)$\n",
    "\n",
    "$R = \\begin{bmatrix}\n",
    "1 & 4 & 0 & 0 & 0 \\\\\n",
    "0 & 0 & 0 & 1 & 0 \\\\\n",
    "0 & 0 & 0 & 0 & 1\n",
    "\\end{bmatrix}$\n",
    "\n",
    "write all known information about the columns of $A$\n",
    "\n",
    "c) in the vector $M$ of all $A_{3 \\ \\times \\ 3}$, you could call\n",
    "this a matrix space, what subspace $S$ is spanned by\n",
    "all possible row reduced echelon forms $R$?"
   ]
  },
  {
   "cell_type": "code",
   "execution_count": 110,
   "id": "duplicate-amazon",
   "metadata": {},
   "outputs": [],
   "source": [
    "# a) PASS\n",
    "# -------|----\n",
    "# -------|----\n",
    "# -------|----\n",
    "# N(A) is at least R2 and at most R5"
   ]
  },
  {
   "cell_type": "code",
   "execution_count": 111,
   "id": "necessary-mercury",
   "metadata": {},
   "outputs": [],
   "source": [
    "# b) PASS\n",
    "\n",
    "# 3 independent columns which are col-1, col-4, col-5\n",
    "# 2 dependent columns that are lin-comb of the above ones\n",
    "# the independent ones span the col-space\n"
   ]
  },
  {
   "cell_type": "code",
   "execution_count": 131,
   "id": "efficient-monte",
   "metadata": {},
   "outputs": [
    {
     "data": {
      "text/latex": [
       "$\\displaystyle \\left[\\begin{matrix}1 & 0 & 0\\\\0 & 1 & 1\\\\0 & 0 & 0\\end{matrix}\\right]$"
      ],
      "text/plain": [
       "Matrix([\n",
       "[1, 0, 0],\n",
       "[0, 1, 1],\n",
       "[0, 0, 0]])"
      ]
     },
     "execution_count": 131,
     "metadata": {},
     "output_type": "execute_result"
    }
   ],
   "source": [
    "# c) PASS\n",
    "\n",
    "import sympy\n",
    "A = sympy.Matrix([\n",
    "    [1, 0, 0],\n",
    "    [0, 0, 0],\n",
    "    [0, 0, 1]\n",
    "])\n",
    "B = sympy.Matrix([\n",
    "    [1, 0, 0],\n",
    "    [0, 0, 0],\n",
    "    [0, 1, 0]\n",
    "])\n",
    "R, _ = (A + B).rref()\n",
    "R\n",
    "# S is the subspace of upper triangular matrices"
   ]
  },
  {
   "cell_type": "code",
   "execution_count": null,
   "id": "fitted-value",
   "metadata": {},
   "outputs": [],
   "source": []
  }
 ],
 "metadata": {
  "kernelspec": {
   "display_name": "pyLinearAlgebra",
   "language": "python",
   "name": "python3"
  },
  "language_info": {
   "codemirror_mode": {
    "name": "ipython",
    "version": 3
   },
   "file_extension": ".py",
   "mimetype": "text/x-python",
   "name": "python",
   "nbconvert_exporter": "python",
   "pygments_lexer": "ipython3",
   "version": "3.8.1"
  }
 },
 "nbformat": 4,
 "nbformat_minor": 5
}
