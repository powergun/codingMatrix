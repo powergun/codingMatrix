{
 "cells": [
  {
   "cell_type": "markdown",
   "id": "unsigned-calcium",
   "metadata": {},
   "source": [
    "# Projections onto Subspaces\n",
    "\n",
    "<https://www.youtube.com/watch?v=Y_Ac6KiQ1t0&t=2s>\n",
    "\n"
   ]
  },
  {
   "cell_type": "code",
   "execution_count": 8,
   "id": "norman-persian",
   "metadata": {},
   "outputs": [
    {
     "data": {
      "text/plain": [
       "<pylinearalgebra.vistools.vis2d.XY at 0x7f3c11ebbf40>"
      ]
     },
     "execution_count": 8,
     "metadata": {},
     "output_type": "execute_result"
    },
    {
     "data": {
      "image/png": "[encoded data removed]",
      "text/plain": [
       "<Figure size 432x288 with 1 Axes>"
      ]
     },
     "metadata": {
      "needs_background": "light"
     },
     "output_type": "display_data"
    }
   ],
   "source": [
    "import pylinearalgebra.vistools as vist\n",
    "xy = vist.XY(x_lim=(-1.2, 1.2), y_lim=(-0.6, 1.2))\n",
    "xy.vector(\n",
    "    (-1, -0.25), (1, 0.25), to_text='b', head_length=0.1)\n",
    "xy.vector((0, 0), (0.2, 0.7), to_text='a', head_length=0.1)\n",
    "xy.vector(\n",
    "    (0.2, 0.7), \n",
    "    (0.35294, 0.08823520), \n",
    "    shaft_text='e = b - p', \n",
    "    head_width=0.05,\n",
    "    head_length=0.15\n",
    ")\n",
    "xy.vector(\n",
    "    (0, 0),\n",
    "    (0.35294, 0.08823520),\n",
    "    to_text='p',\n",
    "    head_width=0.05,\n",
    "    head_length=0.15\n",
    ")"
   ]
  },
  {
   "cell_type": "markdown",
   "id": "promising-noise",
   "metadata": {},
   "source": [
    "## motivation in $R^2$\n",
    "\n",
    "find the projection of $a$ on $b$, i.e. find the point on line $b$\n",
    "that is the closest to $a$\n",
    "\n",
    "$p = x a$, to find $x$, a scalar, I must use the key fact: the orthogonality\n",
    "\n",
    "$a^{T} p = 0\\\\\n",
    "a^{T} (b - xa) = 0\\\\\n",
    "x \\ a^{T} a = a^{T} b\\\\\n",
    "x = \\frac{a^{T}b}{a^{T}a}$"
   ]
  },
  {
   "cell_type": "markdown",
   "id": "divided-entrance",
   "metadata": {},
   "source": [
    "### the projection matrix\n",
    "\n",
    "$proj_{p} = P b$\n",
    "\n",
    "format the above formula on $x$ to the matrix form I get:\n",
    "\n",
    "$P = \\frac{a a^{T}}{a^{T}a}$\n",
    "\n",
    "note, the terms DO NOT cancel!!\n",
    "\n",
    "recall that $a^{T}a$ is a number (the length of $a$ sqrt)\n",
    "\n",
    "whereas $a a^{T}$ is a column times a row, which is a N x N matrix!!"
   ]
  },
  {
   "cell_type": "markdown",
   "id": "single-printer",
   "metadata": {},
   "source": [
    "### the properties of the projection matrix\n",
    "\n",
    "rank of $P$, $C(P)$ ? (recall what is a colspace: mult this matrix\n",
    "by a vector, result in a vector still in the colspace)\n",
    "\n",
    "colspace is the line of $a$\n",
    "\n",
    "and its rank is 1 (recall $P$ is formed by col x row, **which is\n",
    "a lin-comb of the column**, hence col is the basis of $C(P)$ and\n",
    "**its rank is 1**, **review: 18.06_11 - rank 1 matrices**)\n",
    "\n",
    "is $P$ symmetric? yes $P^{T} = P$, quick proof: $P$ is essentially a matrix $a a^{T}$ over a scalar value, and $a a^{T}$ itself is symmetric. It is the **property no. 1**\n",
    "\n",
    "projecting b twice results in the same p\n",
    "\n",
    "$P^{2} = P$, **property no.2**"
   ]
  },
  {
   "cell_type": "markdown",
   "id": "joint-collectible",
   "metadata": {},
   "source": [
    "## moving on to $R^n$"
   ]
  },
  {
   "cell_type": "markdown",
   "id": "abandoned-column",
   "metadata": {},
   "source": [
    "### why project ?\n",
    "\n",
    "to deal with equations $Ax = b$ that may have no solutions, $Ax$ has to be in $C(A)$ while $b$ may not be\n",
    "\n",
    "what can I do ? I solve the closest problem to $Ax = b$\n",
    "\n",
    "and what is the closest problem ? the closest vector in $C(A)$\n",
    "\n",
    "instead, I solve $A\\hat{x} = p$, $p$ is the projection of $b$ onto\n",
    "$C(A)$\n",
    "\n",
    "emphasizing $\\hat{x} \\ne x$, $\\hat{x}$ is not the solution (as \n",
    "it does not exist!), it is the best possible closest solution"
   ]
  },
  {
   "cell_type": "markdown",
   "id": "solid-silver",
   "metadata": {},
   "source": [
    "### example in 3D\n",
    "\n",
    "to project a vector $\\overrightarrow{b}$ on to a plane of\n",
    "$\\overrightarrow{a_{1}}, \\overrightarrow{a_{2}}$ and get $p$\n",
    "\n",
    "the plane is \n",
    "$A = \\begin{bmatrix}\\\\ a_{1} & a_{2}\\\\ \\\\ \\end{bmatrix}$\n",
    "\n",
    "and $e = b - p, e \\perp \\text{plane}$\n"
   ]
  },
  {
   "cell_type": "markdown",
   "id": "flying-deposit",
   "metadata": {},
   "source": []
  },
  {
   "cell_type": "code",
   "execution_count": null,
   "id": "searching-conversion",
   "metadata": {},
   "outputs": [],
   "source": []
  },
  {
   "cell_type": "code",
   "execution_count": null,
   "id": "lesser-vacuum",
   "metadata": {},
   "outputs": [],
   "source": []
  },
  {
   "cell_type": "code",
   "execution_count": null,
   "id": "early-psychology",
   "metadata": {},
   "outputs": [],
   "source": []
  },
  {
   "cell_type": "markdown",
   "id": "public-shakespeare",
   "metadata": {},
   "source": []
  },
  {
   "cell_type": "markdown",
   "id": "incredible-horror",
   "metadata": {},
   "source": [
    "# Recitation and Exercises\n",
    "\n",
    "<https://www.youtube.com/watch?v=t-n4a18AW08>"
   ]
  },
  {
   "cell_type": "code",
   "execution_count": null,
   "id": "wrapped-persian",
   "metadata": {},
   "outputs": [],
   "source": []
  }
 ],
 "metadata": {
  "kernelspec": {
   "display_name": "pyLinearAlgebra",
   "language": "python",
   "name": "python3"
  },
  "language_info": {
   "codemirror_mode": {
    "name": "ipython",
    "version": 3
   },
   "file_extension": ".py",
   "mimetype": "text/x-python",
   "name": "python",
   "nbconvert_exporter": "python",
   "pygments_lexer": "ipython3",
   "version": "3.8.1"
  }
 },
 "nbformat": 4,
 "nbformat_minor": 5
}
