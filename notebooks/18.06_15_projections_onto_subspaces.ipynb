{
 "cells": [
  {
   "cell_type": "markdown",
   "id": "unsigned-calcium",
   "metadata": {},
   "source": [
    "# Projections onto Subspaces\n",
    "\n",
    "<https://www.youtube.com/watch?v=Y_Ac6KiQ1t0&t=2s>\n",
    "\n"
   ]
  },
  {
   "cell_type": "code",
   "execution_count": 1,
   "id": "norman-persian",
   "metadata": {},
   "outputs": [
    {
     "data": {
      "text/plain": [
       "<pylinearalgebra.vistools.vis2d.XY at 0x7f6c683f3160>"
      ]
     },
     "execution_count": 1,
     "metadata": {},
     "output_type": "execute_result"
    },
    {
     "data": {
      "image/png": "[encoded data removed]",
      "text/plain": [
       "<Figure size 432x288 with 1 Axes>"
      ]
     },
     "metadata": {
      "needs_background": "light"
     },
     "output_type": "display_data"
    }
   ],
   "source": [
    "import pylinearalgebra.vistools as vist\n",
    "xy = vist.XY(x_lim=(-1.2, 1.2), y_lim=(-0.6, 1.2))\n",
    "xy.vector(\n",
    "    (-1, -0.25), (1, 0.25), to_text='a', head_length=0.1)\n",
    "xy.vector((0, 0), (0.2, 0.7), to_text='b', head_length=0.1)\n",
    "xy.vector(\n",
    "    (0.35294, 0.08823520), \n",
    "    (0.2, 0.7), \n",
    "    shaft_text='e = b - p', \n",
    "    head_width=0.05,\n",
    "    head_length=0.15\n",
    ")\n",
    "xy.vector(\n",
    "    (0, 0),\n",
    "    (0.35294, 0.08823520),\n",
    "    to_text='p',\n",
    "    head_width=0.05,\n",
    "    head_length=0.15\n",
    ")"
   ]
  },
  {
   "cell_type": "markdown",
   "id": "promising-noise",
   "metadata": {},
   "source": [
    "## motivation in $R^2$\n",
    "\n",
    "find the projection of $a$ on $b$, i.e. find the point on line $b$\n",
    "that is the closest to $a$\n",
    "\n",
    "e: the error vector\n",
    "\n",
    "$p = x a$, to find $x$, a scalar, I must use the key fact: the orthogonality\n",
    "\n",
    "$a^{T} p = 0\\\\\n",
    "a^{T} (b - xa) = 0\\\\\n",
    "x \\ a^{T} a = a^{T} b\\\\\n",
    "x = \\frac{a^{T}b}{a^{T}a}$"
   ]
  },
  {
   "cell_type": "markdown",
   "id": "divided-entrance",
   "metadata": {},
   "source": [
    "### the projection matrix\n",
    "\n",
    "$proj_{p} = P b$\n",
    "\n",
    "format the above formula on $x$ to the matrix form I get:\n",
    "\n",
    "$P = \\frac{a a^{T}}{a^{T}a}$\n",
    "\n",
    "note, the terms DO NOT cancel!! it should rather be written in\n",
    "terms of the inverse: $P = (a a^{T})^{-1} {a^{T}a}$\n",
    "\n",
    "recall that $a^{T}a$ is a number (the length of $a$ sqrt)\n",
    "\n",
    "whereas $a a^{T}$ is a column times a row, which is a N x N matrix!!"
   ]
  },
  {
   "cell_type": "markdown",
   "id": "single-printer",
   "metadata": {},
   "source": [
    "### the properties of the projection matrix\n",
    "\n",
    "rank of $P$, $C(P)$ ? (recall what is a colspace: mult this matrix\n",
    "by a vector, result in a vector still in the colspace)\n",
    "\n",
    "colspace is the line of $a$\n",
    "\n",
    "and its rank is 1 (recall $P$ is formed by col x row, **which is\n",
    "a lin-comb of the column**, hence col is the basis of $C(P)$ and\n",
    "**its rank is 1**, **review: 18.06_11 - rank 1 matrices**)\n",
    "\n",
    "is $P$ symmetric? yes $P^{T} = P$, quick proof: $P$ is essentially a matrix $a a^{T}$ over a scalar value, and $a a^{T}$ itself is symmetric. It is the **property no. 1**\n",
    "\n",
    "projecting b twice results in the same p\n",
    "\n",
    "$P^{2} = P$, **property no.2**"
   ]
  },
  {
   "cell_type": "markdown",
   "id": "joint-collectible",
   "metadata": {},
   "source": [
    "## moving on to $R^n$"
   ]
  },
  {
   "cell_type": "markdown",
   "id": "abandoned-column",
   "metadata": {},
   "source": [
    "### why project ?\n",
    "\n",
    "to deal with equations $Ax = b$ that may have no solutions, $Ax$ has to be in $C(A)$ while $b$ may not be\n",
    "\n",
    "what can I do ? I solve the closest problem to $Ax = b$\n",
    "\n",
    "and what is the closest problem ? the closest vector in $C(A)$\n",
    "\n",
    "instead, I solve $A\\hat{x} = p$, $p$ is the projection of $b$ onto\n",
    "$C(A)$\n",
    "\n",
    "emphasizing $\\hat{x} \\ne x$, $\\hat{x}$ is not the solution (as \n",
    "it does not exist!), it is the best possible closest solution"
   ]
  },
  {
   "cell_type": "markdown",
   "id": "solid-silver",
   "metadata": {},
   "source": [
    "### example in 3D\n",
    "\n",
    "to project a vector $\\overrightarrow{b}$ on to a plane of\n",
    "$\\overrightarrow{a_{1}}, \\overrightarrow{a_{2}}$ and get $p$\n",
    "\n",
    "the plane is \n",
    "$A = \\begin{bmatrix}\\\\ a_{1} & a_{2}\\\\ \\\\ \\end{bmatrix}$\n",
    "\n",
    "and $e = b - p, e \\perp \\text{plane}$\n",
    "\n",
    "therefore the problem is, \n",
    "$p = A \\hat{x}$ and find $\\hat{x}$,\n",
    "using the key fact: $(b - A \\hat{x}) \\perp \\text{plane of a1,a2}$\n",
    "\n",
    "therefore here are the two equations:\n",
    "\n",
    "$a_{1}^{T}(b - A\\hat{x}) = 0\\\\\n",
    "a_{2}^{T}(b - A\\hat{x}) = 0$\n",
    "\n",
    "I get turn them into the matrix form\n",
    "\n",
    "$\\begin{bmatrix}\n",
    "a_1^{T} \\\\\n",
    "a_2^{T}\n",
    "\\end{bmatrix} (b - A \\hat{x}) =\n",
    "\\begin{bmatrix}\n",
    "0 \\\\\n",
    "0\n",
    "\\end{bmatrix}$\n",
    "\n",
    "which is \n",
    "\n",
    "$A^{T}(b - A\\hat{x}) = 0$\n",
    "\n",
    "note that $b - A\\hat{x}$ is $e$, the error vector\n",
    "\n",
    "shuffle the terms of the equation I get:\n",
    "\n",
    "$A^{T}A \\hat{x} = A^{T} b$\n",
    "\n",
    "review the 1-D case: $a^{T} a \\hat{x} = a^{T} b$"
   ]
  },
  {
   "cell_type": "markdown",
   "id": "flying-deposit",
   "metadata": {},
   "source": [
    "### the properties of the error vector\n",
    "\n",
    "what subspace is $e$ in? because $A^{T} e = 0$, $e$ in $N(A^{T})$\n",
    "\n",
    "recall the big picture of linear alegbra:\n",
    "\n",
    "$C(A) \\perp N(A^{T})$\n",
    "\n",
    "therefore, I conclude that, $e \\perp C(A)$"
   ]
  },
  {
   "cell_type": "markdown",
   "id": "standard-brighton",
   "metadata": {},
   "source": [
    "### the solution to compute the projection\n",
    "\n",
    "#### what is $\\hat{x}$ ?\n",
    "\n",
    "$\\hat{x} = (A^{T}A)^{-1} A^{T} b$\n",
    "\n",
    "#### what is the projected vector $p$?\n",
    "\n",
    "$p = A\\hat{x} = A(A^{T}A)^{-1}A^{T}b$\n",
    "\n",
    "\n",
    "#### what is the projection matrix $A$?\n",
    "\n",
    "$P = A(A^{T}A)^{-1}A^{T}$\n",
    "\n",
    "note I can not rearrange RHS to $AA^{-1} \\dots$, which becomes\n",
    "identity $I$, because $A$ is not\n",
    "invertible (it's not even square in the 3-D case)\n",
    "\n",
    "therefore I have to leave RHS exactly in this form\n",
    "\n",
    "if $A$ were invertible, the meaning of the projection becomes:\n",
    "\n",
    "to project $b$ on to a whole space $R^{n}$, which results in\n",
    "the identity $I$"
   ]
  },
  {
   "cell_type": "markdown",
   "id": "rapid-armor",
   "metadata": {},
   "source": [
    "## application of projection\n"
   ]
  },
  {
   "cell_type": "markdown",
   "id": "underlying-restriction",
   "metadata": {},
   "source": [
    "### least squares fitting by a line"
   ]
  },
  {
   "cell_type": "code",
   "execution_count": 9,
   "id": "white-billy",
   "metadata": {},
   "outputs": [
    {
     "data": {
      "image/png": "[encoded data removed]",
      "text/plain": [
       "<Figure size 432x288 with 1 Axes>"
      ]
     },
     "metadata": {
      "needs_background": "light"
     },
     "output_type": "display_data"
    }
   ],
   "source": [
    "import pylinearalgebra.vistools as vist\n",
    "\n",
    "xy = vist.XY(x_lim=(-0.3, 3.5), y_lim=(-0.3, 3))\n",
    "xy.line((0, 0), (30, 25), alpha=0.3)\n",
    "xy.point((1, 1, 'D1'), color='r')\n",
    "xy.point((2, 2, 'D2'), color='r')\n",
    "xy.point((3, 2, 'D3'), color='r')"
   ]
  },
  {
   "cell_type": "markdown",
   "id": "pretty-strain",
   "metadata": {},
   "source": [
    "problem: to find the line that is closet to `{(1, 1), (2, 2), (3, 2)}`\n",
    "\n",
    "i.e the error vectors `e1, e2, e3` are the smallest I can get\n",
    "\n",
    "let the $x, y$ axes be $t, D$ ($t$ for time, $D$ for data),\n",
    "\n",
    "$b = C + D t$\n",
    "\n",
    "I can think that there were an imaginary line that goes through\n",
    "all the given points, of course this line does not exist, but \n",
    "then the equations can be written as:\n",
    "\n",
    "$\n",
    "c + d = 1 \\\\\n",
    "c + 2d = 2 \\\\\n",
    "c + 3d = 2\n",
    "$\n",
    "\n",
    "where $c$ is a constant scalar, $d$ is the unknown with $t$ values\n",
    "plugged in, and $b$ is the RHS with $D$ values plugged in \n",
    "\n",
    "in the matrix form $Ax = b$\n",
    "\n",
    "$\n",
    "\\begin{bmatrix}\n",
    "1 & 1 \\\\ 1 & 2 \\\\ 1 & 3\n",
    "\\end{bmatrix}\n",
    "\\begin{bmatrix}c \\\\ d\\end{bmatrix}\n",
    "= \\begin{bmatrix}1 \\\\ 2 \\\\ 2\\end{bmatrix}\n",
    "$\n",
    "\n",
    "this is the linear system that has no solution but its projection\n",
    "is what we are after - the \"best\" solution that is closest to the given points"
   ]
  },
  {
   "cell_type": "markdown",
   "id": "incredible-horror",
   "metadata": {},
   "source": [
    "# Recitation and Exercises\n",
    "\n",
    "<https://www.youtube.com/watch?v=t-n4a18AW08>"
   ]
  },
  {
   "cell_type": "code",
   "execution_count": null,
   "id": "wrapped-persian",
   "metadata": {},
   "outputs": [],
   "source": []
  }
 ],
 "metadata": {
  "kernelspec": {
   "display_name": "pyLinearAlgebra",
   "language": "python",
   "name": "python3"
  },
  "language_info": {
   "codemirror_mode": {
    "name": "ipython",
    "version": 3
   },
   "file_extension": ".py",
   "mimetype": "text/x-python",
   "name": "python",
   "nbconvert_exporter": "python",
   "pygments_lexer": "ipython3",
   "version": "3.8.1"
  }
 },
 "nbformat": 4,
 "nbformat_minor": 5
}
