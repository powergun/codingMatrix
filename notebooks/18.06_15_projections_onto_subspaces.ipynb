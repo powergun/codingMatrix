{
 "cells": [
  {
   "cell_type": "markdown",
   "id": "unsigned-calcium",
   "metadata": {},
   "source": [
    "# Projections onto Subspaces\n",
    "\n",
    "<https://www.youtube.com/watch?v=Y_Ac6KiQ1t0&t=2s>\n",
    "\n"
   ]
  },
  {
   "cell_type": "code",
   "execution_count": 2,
   "id": "norman-persian",
   "metadata": {},
   "outputs": [
    {
     "data": {
      "text/plain": [
       "<pylinearalgebra.vistools.vis2d.XY at 0x7ff3ac6bcf70>"
      ]
     },
     "execution_count": 2,
     "metadata": {},
     "output_type": "execute_result"
    },
    {
     "data": {
      "image/png": "[encoded data removed]",
      "text/plain": [
       "<Figure size 432x288 with 1 Axes>"
      ]
     },
     "metadata": {
      "needs_background": "light"
     },
     "output_type": "display_data"
    }
   ],
   "source": [
    "import pylinearalgebra.vistools as vist\n",
    "xy = vist.XY(x_lim=(-1.2, 1.2), y_lim=(-0.6, 1.2))\n",
    "xy.vector(\n",
    "    (-1, -0.25), (1, 0.25), to_text='a', head_length=0.1)\n",
    "xy.vector((0, 0), (0.2, 0.7), to_text='b', head_length=0.1)\n",
    "xy.vector(\n",
    "    (0.35294, 0.08823520), \n",
    "    (0.2, 0.7), \n",
    "    shaft_text='e = b - p', \n",
    "    head_width=0.05,\n",
    "    head_length=0.15\n",
    ")\n",
    "xy.vector(\n",
    "    (0, 0),\n",
    "    (0.35294, 0.08823520),\n",
    "    to_text='p',\n",
    "    head_width=0.05,\n",
    "    head_length=0.15\n",
    ")"
   ]
  },
  {
   "cell_type": "markdown",
   "id": "promising-noise",
   "metadata": {},
   "source": [
    "## motivation in $R^2$\n",
    "\n",
    "find the projection of $b$ on $a$, i.e. find the point on line $a$\n",
    "that is the closest to $b$\n",
    "\n",
    "e: the error vector\n",
    "\n",
    "$p = x a$, to find $x$, a scalar, I must use the key fact: the orthogonality\n",
    "\n",
    "$a^{T} e = 0\\\\\n",
    "a^{T} (b - xa) = 0\\\\\n",
    "x \\ a^{T} a = a^{T} b\\\\\n",
    "x = \\frac{a^{T}b}{a^{T}a}$"
   ]
  },
  {
   "cell_type": "markdown",
   "id": "divided-entrance",
   "metadata": {},
   "source": [
    "### the projection matrix\n",
    "\n",
    "$proj_{p} = P b$\n",
    "\n",
    "format the above formula on $x$ to the matrix form I get:\n",
    "\n",
    "$P = \\frac{a a^{T}}{a^{T}a}$\n",
    "\n",
    "note, the terms DO NOT cancel!! it should rather be written in\n",
    "terms of the inverse: $P = (a a^{T})^{-1} {a^{T}a}$\n",
    "\n",
    "recall that $a^{T}a$ is a number (the length of $a$ sqrt)\n",
    "\n",
    "whereas $a a^{T}$ is a column times a row, which is a N x N matrix!!"
   ]
  },
  {
   "cell_type": "markdown",
   "id": "single-printer",
   "metadata": {},
   "source": [
    "### the properties of the projection matrix\n",
    "\n",
    "rank of $P$, $C(P)$ ? (recall what is a colspace: mult this matrix\n",
    "by a vector, result in a vector still in the colspace)\n",
    "\n",
    "colspace is the line of $a$\n",
    "\n",
    "and its rank is 1 (recall $P$ is formed by col x row, **which is\n",
    "a lin-comb of the column**, hence col is the basis of $C(P)$ and\n",
    "**its rank is 1**, **review: 18.06_11 - rank 1 matrices**)\n",
    "\n",
    "is $P$ symmetric? yes $P^{T} = P$, quick proof: $P$ is essentially a matrix $a a^{T}$ over a scalar value, and $a a^{T}$ itself is symmetric. It is the **property no. 1**\n",
    "\n",
    "projecting b twice results in the same p\n",
    "\n",
    "$P^{2} = P$, **property no.2**"
   ]
  },
  {
   "cell_type": "markdown",
   "id": "joint-collectible",
   "metadata": {},
   "source": [
    "## moving on to $R^n$"
   ]
  },
  {
   "cell_type": "markdown",
   "id": "abandoned-column",
   "metadata": {},
   "source": [
    "### why project ?\n",
    "\n",
    "to deal with equations $Ax = b$ that may have no solutions, $Ax$ has to be in $C(A)$ while $b$ may not be\n",
    "\n",
    "what can I do ? I solve the closest problem to $Ax = b$\n",
    "\n",
    "and what is the closest problem ? the closest vector in $C(A)$\n",
    "\n",
    "instead, I solve $A\\hat{x} = p$, $p$ is the projection of $b$ onto\n",
    "$C(A)$\n",
    "\n",
    "emphasizing $\\hat{x} \\ne x$, $\\hat{x}$ is not the solution (as \n",
    "it does not exist!), it is the best possible closest solution"
   ]
  },
  {
   "cell_type": "markdown",
   "id": "solid-silver",
   "metadata": {},
   "source": [
    "### example in 3D\n",
    "\n",
    "to project a vector $\\overrightarrow{b}$ on to a plane of\n",
    "$\\overrightarrow{a_{1}}, \\overrightarrow{a_{2}}$ and get $p$\n",
    "\n",
    "the plane is \n",
    "$A = \\begin{bmatrix}\\\\ a_{1} & a_{2}\\\\ \\\\ \\end{bmatrix}$\n",
    "\n",
    "and $e = b - p, e \\perp \\text{plane}$\n",
    "\n",
    "therefore the problem is, \n",
    "$p = A \\hat{x}$ and find $\\hat{x}$,\n",
    "using the key fact: $(b - A \\hat{x}) \\perp \\text{plane of a1,a2}$\n",
    "\n",
    "therefore here are the two equations:\n",
    "\n",
    "$a_{1}^{T}(b - A\\hat{x}) = 0\\\\\n",
    "a_{2}^{T}(b - A\\hat{x}) = 0$\n",
    "\n",
    "I get turn them into the matrix form\n",
    "\n",
    "$\\begin{bmatrix}\n",
    "a_1^{T} \\\\\n",
    "a_2^{T}\n",
    "\\end{bmatrix} (b - A \\hat{x}) =\n",
    "\\begin{bmatrix}\n",
    "0 \\\\\n",
    "0\n",
    "\\end{bmatrix}$\n",
    "\n",
    "which is \n",
    "\n",
    "$A^{T}(b - A\\hat{x}) = 0$\n",
    "\n",
    "note that $b - A\\hat{x}$ is $e$, the error vector\n",
    "\n",
    "shuffle the terms of the equation I get:\n",
    "\n",
    "$A^{T}A \\hat{x} = A^{T} b$\n",
    "\n",
    "review the 1-D case: $a^{T} a \\hat{x} = a^{T} b$"
   ]
  },
  {
   "cell_type": "markdown",
   "id": "flying-deposit",
   "metadata": {},
   "source": [
    "### the properties of the error vector\n",
    "\n",
    "what subspace is $e$ in? because $A^{T} e = 0$, $e$ in $N(A^{T})$\n",
    "\n",
    "recall the big picture of linear alegbra:\n",
    "\n",
    "$C(A) \\perp N(A^{T})$\n",
    "\n",
    "therefore, I conclude that, $e \\perp C(A)$"
   ]
  },
  {
   "cell_type": "markdown",
   "id": "standard-brighton",
   "metadata": {},
   "source": [
    "### the solution to compute the projection\n",
    "\n",
    "#### what is $\\hat{x}$ ?\n",
    "\n",
    "$\\hat{x} = (A^{T}A)^{-1} A^{T} b$\n",
    "\n",
    "#### what is the projected vector $p$?\n",
    "\n",
    "$p = P\\hat{x} = A(A^{T}A)^{-1}A^{T}b$\n",
    "\n",
    "\n",
    "#### what is the projection matrix $A$?\n",
    "\n",
    "$P = A(A^{T}A)^{-1}A^{T}$\n",
    "\n",
    "note I can not rearrange RHS to $AA^{-1} \\dots$, which becomes\n",
    "identity $I$, because $A$ is not\n",
    "invertible (it's not even square in the 3-D case)\n",
    "\n",
    "therefore I have to leave RHS exactly in this form\n",
    "\n",
    "if $A$ were invertible, the meaning of the projection becomes:\n",
    "\n",
    "to project $b$ on to a whole space $R^{n}$, which results in\n",
    "the identity $I$"
   ]
  },
  {
   "cell_type": "markdown",
   "id": "rapid-armor",
   "metadata": {},
   "source": [
    "## application of projection\n"
   ]
  },
  {
   "cell_type": "markdown",
   "id": "underlying-restriction",
   "metadata": {},
   "source": [
    "### least squares fitting by a line"
   ]
  },
  {
   "cell_type": "code",
   "execution_count": 1,
   "id": "white-billy",
   "metadata": {},
   "outputs": [
    {
     "data": {
      "image/png": "[encoded data removed]",
      "text/plain": [
       "<Figure size 432x288 with 1 Axes>"
      ]
     },
     "metadata": {
      "needs_background": "light"
     },
     "output_type": "display_data"
    }
   ],
   "source": [
    "import pylinearalgebra.vistools as vist\n",
    "import numpy as np\n",
    "\n",
    "xy = vist.XY(x_lim=(-0.3, 3.5), y_lim=(-0.3, 3))\n",
    "xy.point((1, 1, 'D1'), color='r')\n",
    "xy.point((2, 2, 'D2'), color='r')\n",
    "xy.point((3, 2, 'D3'), color='r')\n",
    "xy.fx(np.arange(-1, 4, 0.1), lambda x: 2/3 + 1/2 * x)"
   ]
  },
  {
   "cell_type": "markdown",
   "id": "pretty-strain",
   "metadata": {},
   "source": [
    "problem: to find the line that is closet to `{(1, 1), (2, 2), (3, 2)}`\n",
    "\n",
    "i.e the error vectors `e1, e2, e3` are the smallest I can get\n",
    "\n",
    "let the $x, y$ axes be $t, D$ ($t$ for time, $D$ for data),\n",
    "\n",
    "$b = C + D t$\n",
    "\n",
    "I can think that there were an imaginary line that goes through\n",
    "all the given points, of course this line does not exist, but \n",
    "then the equations can be written as:\n",
    "\n",
    "$\n",
    "c + d = 1 \\\\\n",
    "c + 2d = 2 \\\\\n",
    "c + 3d = 2\n",
    "$\n",
    "\n",
    "where $c$ is a constant scalar, $d$ is the unknown with $t$ values\n",
    "plugged in, and $b$ is the RHS with $D$ values plugged in \n",
    "\n",
    "in the matrix form $Ax = b$\n",
    "\n",
    "$\n",
    "\\begin{bmatrix}\n",
    "1 & 1 \\\\ 1 & 2 \\\\ 1 & 3\n",
    "\\end{bmatrix}\n",
    "\\begin{bmatrix}c \\\\ d\\end{bmatrix}\n",
    "= \\begin{bmatrix}1 \\\\ 2 \\\\ 2\\end{bmatrix}\n",
    "$\n",
    "\n",
    "this is the linear system that has no solution but its projection\n",
    "is what we are after - the \"best\" solution that is closest to the given points"
   ]
  },
  {
   "cell_type": "code",
   "execution_count": 5,
   "id": "graduate-michael",
   "metadata": {},
   "outputs": [
    {
     "name": "stdout",
     "output_type": "stream",
     "text": [
      "⎡  5/6   1/3  -1/6 ⎤\n",
      "⎢  1/3   1/3   1/3 ⎥\n",
      "⎣ -1/6   1/3   5/6 ⎦\n",
      "\n",
      "\n",
      "⎡ 2/3⎤\n",
      "⎣ 1/2⎦\n",
      "\n",
      "\n",
      "⎡  7/6⎤\n",
      "⎢  5/3⎥\n",
      "⎣ 13/6⎦\n",
      "\n",
      "\n",
      "line p go through point (2/3, 1/2)\n"
     ]
    }
   ],
   "source": [
    "# hand-roll LSQ solve algorithm, based Gilbert's explanation above.\n",
    "# note, in order to find the line `p`, I need x_hat\n",
    "\n",
    "import sympy\n",
    "import pylinearalgebra.mattools as mt\n",
    "A = sympy.Matrix([\n",
    "    [1, 1],\n",
    "    [1, 2],\n",
    "    [1, 3],\n",
    "])\n",
    "\n",
    "# A (AT A).inv AT\n",
    "P = A * (A.transpose() * A).inv() * A.transpose()\n",
    "mt.pprint(P, end='\\n')\n",
    "\n",
    "x_hat = (A.transpose() * A).inv() * A.transpose() * \\\n",
    "    sympy.Matrix([1, 2, 2])\n",
    "mt.pprint(x_hat, end='\\n')\n",
    "\n",
    "p = P * sympy.Matrix([1, 2, 2])\n",
    "mt.pprint(p, end='\\n')\n",
    "\n",
    "print('line p goes through point (2/3, 1/2)')"
   ]
  },
  {
   "cell_type": "code",
   "execution_count": 7,
   "id": "great-henry",
   "metadata": {},
   "outputs": [
    {
     "name": "stdout",
     "output_type": "stream",
     "text": [
      "⎡ 2/3⎤\n",
      "⎣ 1/2⎦\n"
     ]
    }
   ],
   "source": [
    "# use sympy's pinv_solve() method to get the same answer\n",
    "# use this as sanity check\n",
    "\n",
    "import sympy\n",
    "import pylinearalgebra.mattools as mt\n",
    "A = sympy.Matrix([\n",
    "    [1, 1],\n",
    "    [1, 2],\n",
    "    [1, 3],\n",
    "])\n",
    "b = sympy.Matrix([1, 2, 2])\n",
    "x_hat = A.pinv_solve(b)\n",
    "mt.pprint(x_hat)"
   ]
  },
  {
   "cell_type": "markdown",
   "id": "incredible-horror",
   "metadata": {},
   "source": [
    "# Recitation and Exercises\n",
    "\n",
    "<https://www.youtube.com/watch?v=t-n4a18AW08>\n",
    "\n",
    "find the orthogonal projection matrix onto the plane\n",
    "$x + y - z = 0$\n"
   ]
  },
  {
   "cell_type": "code",
   "execution_count": 25,
   "id": "wrapped-persian",
   "metadata": {},
   "outputs": [
    {
     "name": "stdout",
     "output_type": "stream",
     "text": [
      "⎡  1   1 ⎤\n",
      "⎢ -1   0 ⎥\n",
      "⎣  0   1 ⎦\n",
      "\n",
      "\n",
      "⎡  2/3  -1/3   1/3 ⎤\n",
      "⎢ -1/3   2/3   1/3 ⎥\n",
      "⎣  1/3   1/3   2/3 ⎦\n",
      "\n",
      "\n"
     ]
    },
    {
     "data": {
      "text/latex": [
       "$\\displaystyle \\left[\\begin{matrix}0\\\\0\\\\0\\end{matrix}\\right]$"
      ],
      "text/plain": [
       "Matrix([\n",
       "[0],\n",
       "[0],\n",
       "[0]])"
      ]
     },
     "execution_count": 25,
     "metadata": {},
     "output_type": "execute_result"
    }
   ],
   "source": [
    "#  recall the formula for computing P:\n",
    "# P = A (AT A).inv AT\n",
    "# where A is a matrix formed by {a1, a2 ...} the basis\n",
    "# of the subspace being projected onto\n",
    "\n",
    "# I can manually find a1, a2 using the given equation\n",
    "# [1, 0, 1], [1, -1, 0]\n",
    "\n",
    "import sympy\n",
    "import pylinearalgebra.mattools as mt\n",
    "\n",
    "# there are many basis but all lead to the same P\n",
    "a1 = [1, 0, 1]\n",
    "a2 = [1, -1, 0]\n",
    "\n",
    "# sanity checking:\n",
    "assert mt.bases([a1, a2]) == [a1, a2]\n",
    "\n",
    "A = sympy.Matrix([a2, a1]).transpose()\n",
    "mt.pprint(A, end='\\n')\n",
    "P = A * (A.transpose() * A).inv() * A.transpose()\n",
    "mt.pprint(P, end='\\n')\n",
    "\n",
    "# sanity checking:\n",
    "# P will transform the normal of the plane to the zero vector\n",
    "# meaning that P . N = Z\n",
    "# the normal is the coefficiences of the original plane equation\n",
    "P * sympy.Matrix([1, 1, -1])"
   ]
  },
  {
   "attachments": {
    "image.png": {
     "image/png": "[encoded data removed]"
    }
   },
   "cell_type": "markdown",
   "id": "recreational-korean",
   "metadata": {},
   "source": [
    "![image.png](attachment:image.png)\n",
    "\n"
   ]
  },
  {
   "cell_type": "code",
   "execution_count": 3,
   "id": "korean-communication",
   "metadata": {},
   "outputs": [
    {
     "data": {
      "image/png": "[encoded data removed]",
      "text/plain": [
       "<Figure size 432x288 with 1 Axes>"
      ]
     },
     "metadata": {
      "needs_background": "light"
     },
     "output_type": "display_data"
    }
   ],
   "source": [
    "%matplotlib inline\n",
    "\n",
    "import pylinearalgebra.vistools as vist\n",
    "xyz = vist.XYZ()\n",
    "xyz.plane(1, 1, -1, show_normal=True)\n",
    "xyz.line_seg((0, 0, 0), (14, 14, 28), 'g--')"
   ]
  },
  {
   "cell_type": "code",
   "execution_count": 38,
   "id": "comparative-visitor",
   "metadata": {},
   "outputs": [
    {
     "data": {
      "text/latex": [
       "$\\displaystyle \\left[\\begin{matrix}0\\\\0\\\\0\\end{matrix}\\right]$"
      ],
      "text/plain": [
       "Matrix([\n",
       "[0],\n",
       "[0],\n",
       "[0]])"
      ]
     },
     "execution_count": 38,
     "metadata": {},
     "output_type": "execute_result"
    }
   ],
   "source": [
    "# the easier solution\n",
    "\n",
    "# observe the fact that the subject vector can be broken down\n",
    "# to 2 components:\n",
    "# - its projection on the plane (the green dot line above)\n",
    "# - its projection on the plane's orthogonal complement, which is\n",
    "#   the normal of the plane (the red dot line above)\n",
    "\n",
    "# let `b` be the subject vector, \n",
    "# p be its projection on the plane, P be this projection matrix;\n",
    "# pn be its projection on the plane's normal, Pn be this projection\n",
    "# matrix\n",
    "\n",
    "# b = p + pn\n",
    "# b = P . b + Pn . b\n",
    "\n",
    "# mult `I` on each side:\n",
    "# I . b = P . b + Pn . b\n",
    "\n",
    "# cancel `b` on each side:\n",
    "# I = P + Pn\n",
    "# P = I - Pn\n",
    "\n",
    "# Pn is much easier to find as its subspace is 1-D (the normal)\n",
    "# let N be the 1-D matrix formed by the normal as its only col\n",
    "# Pn = N (NT . N).inv NT\n",
    "\n",
    "import sympy \n",
    "import pylinearalgebra.mattools as mt\n",
    "\n",
    "N = sympy.Matrix([1, 1, -1])\n",
    "Pn = N * (N.transpose() * N).inv() * N.transpose()\n",
    "I = sympy.Matrix([\n",
    "    [1, 0, 0],\n",
    "    [0, 1, 0],\n",
    "    [0, 0, 1]\n",
    "])\n",
    "P = I - Pn\n",
    "\n",
    "# sanity checking:\n",
    "P * N"
   ]
  },
  {
   "cell_type": "code",
   "execution_count": 4,
   "id": "meaning-pavilion",
   "metadata": {},
   "outputs": [
    {
     "name": "stdout",
     "output_type": "stream",
     "text": [
      "⎡ 1  0  0  0 ⎤\n",
      "⎢ 0  1  0  0 ⎥\n",
      "⎢ 0  0  1  0 ⎥\n",
      "⎣ 0  0  0  0 ⎦\n"
     ]
    }
   ],
   "source": [
    "# Problems 15.1\n",
    "\n",
    "# suppose A is the 4 x 4 Identity matrix with its last \n",
    "# column removed; A is 4 x 3\n",
    "\n",
    "import sympy\n",
    "\n",
    "A = sympy.Matrix([\n",
    "    [1, 0, 0],\n",
    "    [0, 1, 0],\n",
    "    [0, 0, 1],\n",
    "    [0, 0, 0],\n",
    "])\n",
    "\n",
    "# Project b = {1, 2, 3, 4} onto the column space of A.\n",
    "\n",
    "P = A * (A.transpose() * A).inv() * A.transpose()\n",
    "\n",
    "#  4_3  (3_4 * 4_3) 3_4\n",
    "#  4_3      3_3    3_4\n",
    "#  4_3 3_4\n",
    "#  4_4\n",
    "\n",
    "# What shape is the projection matrix P and what is P ?\n",
    "\n",
    "import pylinearalgebra.mattools as mt\n",
    "mt.pprint(P)"
   ]
  },
  {
   "cell_type": "code",
   "execution_count": null,
   "id": "velvet-wound",
   "metadata": {},
   "outputs": [],
   "source": [
    "# Problem 15.2\n",
    "\n",
    "# if P^2 = P, show that (I - P)^2 = I - P\n",
    "# for the matrices A and P from the previous question, \n",
    "# P projects onto the column space of A and I - P projects\n",
    "# onto ????\n",
    "\n",
    "# I - P is Pn - the projection matrix that produces the\n",
    "# projection of b onto the normal of the subspace\n",
    "# because Pn is just another projection matrix, it\n",
    "# has the two fundamental properties: Pn ^ 2 = Pn\n",
    "\n",
    "# in this case Pn (the \"normal\") is N(AT), the left nullspace"
   ]
  }
 ],
 "metadata": {
  "kernelspec": {
   "display_name": "pyLinearAlgebra",
   "language": "python",
   "name": "python3"
  },
  "language_info": {
   "codemirror_mode": {
    "name": "ipython",
    "version": 3
   },
   "file_extension": ".py",
   "mimetype": "text/x-python",
   "name": "python",
   "nbconvert_exporter": "python",
   "pygments_lexer": "ipython3",
   "version": "3.8.1"
  }
 },
 "nbformat": 4,
 "nbformat_minor": 5
}
