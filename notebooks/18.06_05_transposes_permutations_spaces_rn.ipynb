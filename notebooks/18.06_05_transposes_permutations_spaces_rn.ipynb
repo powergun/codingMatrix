{
 "cells": [
  {
   "cell_type": "markdown",
   "id": "intelligent-divorce",
   "metadata": {},
   "source": [
    "### permutations, transpose and then, the real beginning of linear algebra\n",
    "\n",
    "to see the pictures of vector space - not just vectors but space of\n",
    "vectors\n",
    "\n",
    "and see the subspace of those space\n"
   ]
  },
  {
   "cell_type": "markdown",
   "id": "short-evans",
   "metadata": {},
   "source": [
    "### permutations\n",
    "\n",
    "$P$, to execute row exchanges (if a zero shows up in the pivot\n",
    "position, I move it away)\n",
    "\n",
    "but what happens to $A = LU$ ??\n",
    "\n",
    "in this case the $P$ is $I$\n",
    "\n",
    "Matlab would do row exchanges when the value in the pivot position\n",
    "is close to zero - the theory does not require row exchanges in this\n",
    "situation but for the sake of numeric precision, it does it anyway\n",
    "\n",
    "$PA = LU$\n"
   ]
  },
  {
   "cell_type": "markdown",
   "id": "domestic-workstation",
   "metadata": {},
   "source": [
    "#### what is permutation anyway?\n",
    "\n",
    "$P$ is $I$ with reordered rows ($I$ being the \"do nothing\" $P$)\n",
    "\n",
    "source: <https://en.wikipedia.org/wiki/Permutation_matrix>\n",
    "\n",
    "the total number of possible $P$ is $n!$\n",
    "\n",
    "also note that a single $P$ can reorder a few rows\n"
   ]
  },
  {
   "cell_type": "markdown",
   "id": "former-minister",
   "metadata": {},
   "source": [
    "#### the properties of permutation\n",
    "\n",
    "$P^{-1} = P^{T}$\n",
    "\n",
    "\n",
    "$P^{T}P = I$\n"
   ]
  },
  {
   "cell_type": "code",
   "execution_count": 4,
   "id": "documented-store",
   "metadata": {},
   "outputs": [
    {
     "name": "stdout",
     "output_type": "stream",
     "text": [
      "[[1 2 3]\n",
      " [4 5 6]\n",
      " [7 8 9]]\n",
      "[[7 8 9]\n",
      " [1 2 3]\n",
      " [4 5 6]]\n"
     ]
    }
   ],
   "source": [
    "# permutation matrix and row exchange\n",
    "\n",
    "# source:\n",
    "# https://stackoverflow.com/questions/34438098/permute-rows-and-columns-of-a-matrix\n",
    "# You can perform the swap in a one-liner using integer array indexing:\n",
    "\n",
    "import numpy as np\n",
    "\n",
    "A = np.array([\n",
    "    [1, 2, 3],\n",
    "    [4, 5, 6],\n",
    "    [7, 8, 9]\n",
    "])\n",
    "print(A)\n",
    "A[[0, 1, 2]] = A[[2, 0, 1]]\n",
    "print(A)"
   ]
  },
  {
   "cell_type": "markdown",
   "id": "subjective-swift",
   "metadata": {},
   "source": [
    "### transpose\n",
    "\n",
    "$\\begin{bmatrix}1 & 3 \\\\ 2 & 3 \\\\ 4 & 1\\end{bmatrix}^{T} = \n",
    "\\begin{bmatrix}1 & 2 & 4 \\\\ 3 & 3 & 1\\end{bmatrix}$\n",
    "\n",
    "generalized to \n",
    "\n",
    "$A^{T}_{ij} = A_{ji}$\n"
   ]
  },
  {
   "cell_type": "markdown",
   "id": "stone-skiing",
   "metadata": {},
   "source": [
    "#### symmetric matrices \n",
    "\n",
    "$A^{T} = A$\n",
    "\n",
    "$AA^{T}$ is a symmetric matrix, proof\n",
    "\n",
    "$(AA^{T})^{T} = (A^{T})^{T}A^{T} = AA^{T}$"
   ]
  },
  {
   "cell_type": "code",
   "execution_count": 12,
   "id": "handed-harbor",
   "metadata": {},
   "outputs": [
    {
     "name": "stdout",
     "output_type": "stream",
     "text": [
      "[[1 2 3]\n",
      " [4 5 6]\n",
      " [7 8 9]]\n",
      "[[1 4 7]\n",
      " [2 5 8]\n",
      " [3 6 9]]\n"
     ]
    }
   ],
   "source": [
    "import numpy as np\n",
    "\n",
    "# source:\n",
    "# https://numpy.org/doc/stable/reference/generated/numpy.matrix.transpose.html\n",
    "\n",
    "A = np.array([\n",
    "    [1, 2, 3],\n",
    "    [4, 5, 6],\n",
    "    [7, 8, 9],\n",
    "])\n",
    "\n",
    "At = np.matrix.transpose(A)\n",
    "print(A)\n",
    "print(At)\n",
    "\n"
   ]
  },
  {
   "cell_type": "markdown",
   "id": "small-possible",
   "metadata": {},
   "source": [
    "### vector spaces\n",
    "\n",
    "\n"
   ]
  },
  {
   "cell_type": "markdown",
   "id": "partial-fields",
   "metadata": {},
   "source": [
    "#### what is vector space?\n",
    "\n",
    "to (legitmately) talk about a space of vectors, we must be able\n",
    "to add the vectors, multiply them by numbers plus some rules\n",
    "\n",
    "examples: $R^{2}$, all 2-D vectors (vectors with 2 real components)\n",
    "\n",
    "$\\begin{bmatrix} 3 \\\\ 2 \\end{bmatrix} \\,\n",
    "\\begin{bmatrix} 0 \\\\ 0 \\end{bmatrix} \\,\n",
    "\\begin{bmatrix} \\pi \\\\ e \\end{bmatrix} \\, \\dots\n",
    "$\n",
    "\n",
    "$R^{2}$ is the X-Y plane\n",
    "\n",
    "$R^{n}$ is typically made a column vector\n"
   ]
  },
  {
   "cell_type": "markdown",
   "id": "different-reflection",
   "metadata": {},
   "source": [
    "#### closed or not closed\n",
    "\n",
    "\"closed under multiplication by all the real numbers\"\n"
   ]
  },
  {
   "cell_type": "markdown",
   "id": "associate-metabolism",
   "metadata": {},
   "source": [
    "#### a vector space inside R2, a subspace\n",
    "\n",
    "once I have a vector that goes through (0, 0) in R2, \n",
    "I can multiply that vector by any number \n",
    "to form an entire line, that is a subspace\n",
    "\n",
    "\n"
   ]
  },
  {
   "cell_type": "markdown",
   "id": "demanding-nelson",
   "metadata": {},
   "source": [
    "#### all subspaces of R2\n",
    "\n",
    "1) R2 itself\n",
    "\n",
    "2) any line going through (0, 0)\n",
    "\n",
    "3) (0, 0) alone, subspace $Z$\n",
    "\n",
    "\n"
   ]
  },
  {
   "cell_type": "markdown",
   "id": "strong-soundtrack",
   "metadata": {},
   "source": [
    "#### all subspaces of R3\n",
    "\n",
    "1) R3 itself\n",
    "\n",
    "2) zero vector $Z$\n",
    "\n",
    "3) a plane through the origin\n",
    "\n",
    "4) a line through the origin\n",
    "\n"
   ]
  },
  {
   "cell_type": "markdown",
   "id": "removed-principle",
   "metadata": {},
   "source": [
    "### expressing subspace in matrix form\n",
    "\n",
    "given $A$ representing $R^{3}$\n",
    "\n",
    "1) $A$\n",
    "\n",
    "2) the $Z$, zero vector: $\\begin{bmatrix}0 \\\\ 0 \\\\ 0\\end{bmatrix}$\n",
    "\n",
    "3) all the linear combinations (multiplying by nums; adding) of the\n",
    "columns of $A$; this is the **column space**, $C(A)$, a plane\n",
    "\n",
    "4) all the linear combinations of a single column of $A$, a line\n",
    "\n"
   ]
  },
  {
   "cell_type": "markdown",
   "id": "departmental-installation",
   "metadata": {},
   "source": [
    "extending this to $R^{10}$\n",
    "\n",
    "take the linear combinations of 5 columns of $A_{10 \\times 10}$ to\n",
    "create a subspace of $R^{10}$"
   ]
  },
  {
   "cell_type": "markdown",
   "id": "persistent-colonial",
   "metadata": {},
   "source": [
    "# Recitation and Exercises"
   ]
  },
  {
   "cell_type": "code",
   "execution_count": null,
   "id": "induced-fight",
   "metadata": {},
   "outputs": [],
   "source": [
    "# problem 5.1\n",
    "\n",
    "[\n",
    "    [1, 0, 0],\n",
    "    [0, 0, 1],\n",
    "    [0, 1, 0]\n",
    "]"
   ]
  }
 ],
 "metadata": {
  "kernelspec": {
   "display_name": "Python 3",
   "language": "python",
   "name": "python3"
  },
  "language_info": {
   "codemirror_mode": {
    "name": "ipython",
    "version": 3
   },
   "file_extension": ".py",
   "mimetype": "text/x-python",
   "name": "python",
   "nbconvert_exporter": "python",
   "pygments_lexer": "ipython3",
   "version": "3.8.1"
  }
 },
 "nbformat": 4,
 "nbformat_minor": 5
}
