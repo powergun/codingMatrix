{
 "cells": [
  {
   "cell_type": "markdown",
   "id": "hindu-capacity",
   "metadata": {},
   "source": [
    "# Orthogonal Matrices and Gram-Schmidt\n",
    "\n",
    "<https://www.youtube.com/watch?v=0MtwqhIwdrI>"
   ]
  },
  {
   "cell_type": "markdown",
   "id": "settled-ocean",
   "metadata": {},
   "source": []
  },
  {
   "cell_type": "markdown",
   "id": "worse-bikini",
   "metadata": {},
   "source": []
  },
  {
   "cell_type": "markdown",
   "id": "sharp-wildlife",
   "metadata": {},
   "source": []
  },
  {
   "cell_type": "markdown",
   "id": "accessible-handle",
   "metadata": {},
   "source": []
  },
  {
   "cell_type": "markdown",
   "id": "institutional-diabetes",
   "metadata": {},
   "source": []
  },
  {
   "cell_type": "markdown",
   "id": "second-worth",
   "metadata": {},
   "source": []
  },
  {
   "cell_type": "markdown",
   "id": "educational-ghost",
   "metadata": {},
   "source": []
  },
  {
   "cell_type": "markdown",
   "id": "ready-czech",
   "metadata": {},
   "source": []
  },
  {
   "cell_type": "markdown",
   "id": "amended-boulder",
   "metadata": {},
   "source": [
    "# Recitation and Exercises\n",
    "\n",
    "<https://www.youtube.com/watch?v=TRktLuAktBQ>"
   ]
  },
  {
   "cell_type": "code",
   "execution_count": null,
   "id": "acceptable-trail",
   "metadata": {},
   "outputs": [],
   "source": []
  }
 ],
 "metadata": {
  "kernelspec": {
   "display_name": "pyLinearAlgebra",
   "language": "python",
   "name": "python3"
  },
  "language_info": {
   "codemirror_mode": {
    "name": "ipython",
    "version": 3
   },
   "file_extension": ".py",
   "mimetype": "text/x-python",
   "name": "python",
   "nbconvert_exporter": "python",
   "pygments_lexer": "ipython3",
   "version": "3.8.1"
  }
 },
 "nbformat": 4,
 "nbformat_minor": 5
}
