{
 "cells": [
  {
   "cell_type": "markdown",
   "id": "embedded-brain",
   "metadata": {},
   "source": [
    "# Orthogonal Matrices and Gram-Schmidt\n",
    "\n",
    "<https://www.youtube.com/watch?v=0MtwqhIwdrI>"
   ]
  },
  {
   "cell_type": "markdown",
   "id": "worthy-thesis",
   "metadata": {},
   "source": [
    "from orthogonal vector (basis) $q_{1}, \\dots, q_{n}$\n",
    "to orthogonal matrix $Q$"
   ]
  },
  {
   "cell_type": "markdown",
   "id": "supposed-settle",
   "metadata": {},
   "source": [
    "**if $q_{1}, q_{2}, \\dots q_{n}$ are orthonormal vectors,\n",
    "$q_{i}^{T} q_{j} = \n",
    "\\begin{cases}\n",
    "0 & \\text{if} \\ i \\ne j \\\\ \n",
    "1 & \\text{if} \\ i = j\n",
    "\\end{cases}$**\n",
    "\n",
    "$Q$ is the matrix (whose col space is) formed by orthonormal vectors\n",
    "\n",
    "**matrices with orthonormal columns** aka orthonormal matrices\n",
    "\n",
    "beware that a **orthogonal matrix** that is **both orthonormal and\n",
    "square**"
   ]
  },
  {
   "cell_type": "markdown",
   "id": "thrown-activity",
   "metadata": {},
   "source": [
    "## why orthonormal is important\n",
    "\n",
    "and how to transform a matrix $A$ into $Q$ "
   ]
  },
  {
   "cell_type": "markdown",
   "id": "pointed-venezuela",
   "metadata": {},
   "source": [
    "$Q^{T} Q = I$\n",
    "\n",
    "therefore if $Q$ is square (being an orthogonal matrix), it\n",
    "is invertible, $Q^{T} = Q^{-1}$"
   ]
  },
  {
   "cell_type": "markdown",
   "id": "limiting-sense",
   "metadata": {},
   "source": [
    "### what operation becomes simpler with orthonormal matrix\n",
    "\n",
    "$Q$ has orthonormal columns\n",
    "\n",
    "project onto its column space\n",
    "\n",
    "the projection matrix \n",
    "$P = Q (Q^{T} Q)^{-1} Q^{T} = Q \\ I \\ Q^{T} = Q Q^{T}\\\\\n",
    "Q Q^{T} = \\begin{cases}\n",
    "I & \\text{if} \\ Q \\ \\text{is square} \\\\\n",
    "\\\\\n",
    "\\end{cases}$\n",
    "\n",
    "recall the 2 properties of $P$:\n",
    "\n",
    "- symmetrical\n",
    "- $P^{2} = P$\n",
    "\n",
    "therefore the normal equation:\n",
    "\n",
    "$A^{T}A \\hat{x} = A^{T} b$ becomes \n",
    "\n",
    "$\\hat{x} = Q^{T} b\\\\\n",
    "\\hat{x}_{i} = q^{T}_{i} b$"
   ]
  },
  {
   "cell_type": "markdown",
   "id": "embedded-malpractice",
   "metadata": {},
   "source": [
    "## Gram-Schmidt\n",
    "\n",
    "<https://en.wikipedia.org/wiki/Gram%E2%80%93Schmidt_process>\n",
    "\n",
    "**how to construct Q from ordinary vectors**\n",
    "\n",
    "there is a similarity to elimination but the goal is not\n",
    "making A upper-triangular but orthogonal"
   ]
  },
  {
   "cell_type": "markdown",
   "id": "straight-timothy",
   "metadata": {},
   "source": [
    "example: vectors $a, b$ are indep; they are in an arbitrary dimension\n",
    "$R^{n}$\n",
    "\n",
    "I have a matrix\n",
    "\n",
    "$A = \\begin{bmatrix}\\\\a^{T} & b^{T}\\\\ \\\\ \\end{bmatrix}$\n",
    "\n"
   ]
  },
  {
   "cell_type": "code",
   "execution_count": 16,
   "id": "prompt-monaco",
   "metadata": {},
   "outputs": [
    {
     "data": {
      "text/plain": [
       "<pylinearalgebra.vistools.vis2d.XY at 0x7f6f2dbe95e0>"
      ]
     },
     "execution_count": 16,
     "metadata": {},
     "output_type": "execute_result"
    },
    {
     "data": {
      "image/png": "[encoded data removed]",
      "text/plain": [
       "<Figure size 432x288 with 1 Axes>"
      ]
     },
     "metadata": {
      "needs_background": "light"
     },
     "output_type": "display_data"
    }
   ],
   "source": [
    "import pylinearalgebra.vistools as vist\n",
    "xy = vist.XY(x_lim=(-0.5, 4), y_lim=(-0.5, 2.5))\n",
    "xy.vector((0, 0), (1.6, 1.6), to_text='b', color='c')\n",
    "xy.vector((0, 0), (3.2, 0), to_text='a(A)', color='r')\n",
    "xy.line((1.6, 1.6), (1.6, 0), alpha=0.6, color='y')\n",
    "xy.vector((0, 0), (0, 1.6), to_text='B(e)', color='orange')"
   ]
  },
  {
   "cell_type": "markdown",
   "id": "suspended-monkey",
   "metadata": {},
   "source": [
    "**the goal is to find two orthogonal vectors $A, B$ from $a, b$**\n",
    "\n",
    "then compute the normalized version:\n",
    "\n",
    "$q_{1} = \\frac{A}{||A||}, q_{2} = \\frac{B}{||B||}$\n",
    "\n",
    "Gram's formula:\n",
    "\n",
    "$A = \\frac{a}{||a||}\\\\\n",
    "B = b - p = b - A(A^{T} A)^{-1} A^{T} b$\n",
    "\n",
    "to proof:\n",
    "\n",
    "$A \\perp B = 0$\n",
    "\n",
    "$A \\cdot B \\\\\n",
    "= A (b - A(A^{T} A)^{-1} A^{T} b)\\\\\n",
    "= A b - A A(A^{T} A)^{-1} A^{T} b\\\\\n",
    "= A b - A A I A^{T} b\\\\\n",
    "= A b - A b\\\\\n",
    "= 0$"
   ]
  },
  {
   "cell_type": "markdown",
   "id": "related-longitude",
   "metadata": {},
   "source": [
    "### adding a third vector\n",
    "\n"
   ]
  },
  {
   "cell_type": "markdown",
   "id": "married-offset",
   "metadata": {},
   "source": [
    "if $a, b, c$ are indep, what are the orthonormal vectors\n",
    "$A, B, C$ ?"
   ]
  },
  {
   "cell_type": "markdown",
   "id": "dress-manner",
   "metadata": {},
   "source": [
    "$C = normalized(c - P_{A} c - P_{B} c)$\n",
    "\n",
    "**$c$ minus the projections onto $A, B$ respectively. (i.e.\n",
    "subtract the components of $c$ that are in the direction\n",
    "of $A, B$)**"
   ]
  },
  {
   "cell_type": "markdown",
   "id": "amino-problem",
   "metadata": {},
   "source": [
    "### the column space of Q is that of A\n",
    "\n",
    "to proof, using the simplest $a, b$ example, $B$ is lin-comb of \n",
    "$A and b$ which are equivalent to $a, b$\n",
    "\n"
   ]
  },
  {
   "cell_type": "markdown",
   "id": "stuck-scientist",
   "metadata": {},
   "source": [
    "### the matrix form of Gram-Schmidt\n"
   ]
  },
  {
   "cell_type": "markdown",
   "id": "super-relaxation",
   "metadata": {},
   "source": [
    "just like elimination is formally expressed $A = LU$, \n",
    "Gram-Schmidt is expressed as multiplication of matrices:\n",
    "\n",
    "$A = QR$\n",
    "\n",
    "using the above vectors $a, b$ example, \n",
    "\n",
    "$A = \\begin{bmatrix}\\\\a & b\\\\ \\\\ \\end{bmatrix}$\n",
    "\n",
    "and $Q$ is the orthonormal matrix\n",
    "i.e. vectors $A, B$ that are computed from $a, b$\n",
    "\n",
    "break down the rows in $Q$ and $R$\n",
    "\n",
    "$\\begin{bmatrix}\\\\q_{1} & q_{2}\\\\ \\\\ \\end{bmatrix}\n",
    "\\begin{bmatrix}a_{1}^{T} q_{1} & \\dots \\\\ \n",
    "a_{1}^{T} q_{2} & \\dots\n",
    "\\end{bmatrix}$\n",
    "\n",
    "$R$ is a upper triangular matrix because:\n",
    "\n",
    "$a_{1}^{T} q_{2}$ is 0\n",
    "\n",
    "to proof: $q_{2} \\perp A$ is 0 because $A$ is equivalent to $a$ and\n",
    "$q_{2} \\perp a$\n",
    "\n",
    "generalize this fact to $R^{n}$ I have\n",
    "\n",
    "$QR$ where $R$ is a upper-triangular matrix"
   ]
  },
  {
   "cell_type": "markdown",
   "id": "excess-diagnosis",
   "metadata": {},
   "source": [
    "# Recitation and Exercises\n",
    "\n",
    "<https://www.youtube.com/watch?v=TRktLuAktBQ>"
   ]
  },
  {
   "cell_type": "code",
   "execution_count": 32,
   "id": "exciting-invalid",
   "metadata": {},
   "outputs": [
    {
     "name": "stdout",
     "output_type": "stream",
     "text": [
      "⎡ 0⎤\n",
      "⎢ 0⎥\n",
      "⎣ 1⎦\n",
      "⎡ 0⎤\n",
      "⎢ 1⎥\n",
      "⎣ 0⎦\n",
      "⎡ 1  0  0 ⎤\n",
      "⎢ 0  0  1 ⎥\n",
      "⎣ 0  1  0 ⎦\n",
      "⎡ 1  2  4 ⎤\n",
      "⎢ 0  3  6 ⎥\n",
      "⎣ 0  0  5 ⎦\n"
     ]
    },
    {
     "data": {
      "text/latex": [
       "$\\displaystyle \\left[\\begin{matrix}1 & 2 & 4\\\\0 & 0 & 5\\\\0 & 3 & 6\\end{matrix}\\right]$"
      ],
      "text/plain": [
       "Matrix([\n",
       "[1, 2, 4],\n",
       "[0, 0, 5],\n",
       "[0, 3, 6]])"
      ]
     },
     "execution_count": 32,
     "metadata": {},
     "output_type": "execute_result"
    }
   ],
   "source": [
    "# Find q1, q2, q3 (orthonormal)\n",
    "# from a, b, c (columns of A)\n",
    "\n",
    "# then write A as Q R\n",
    "\n",
    "import sympy\n",
    "import pylinearalgebra.mattools as mt\n",
    "\n",
    "A = sympy.Matrix([\n",
    "    [1, 2, 4],\n",
    "    [0, 0, 5],\n",
    "    [0, 3, 6]\n",
    "])\n",
    "\n",
    "# note, I adopted Gilbert's mannerism and used A, B, C for \n",
    "# the orthonormal vectors instead of q1, q2, q3...\n",
    "\n",
    "Ao = sympy.Matrix([1, 0, 0])\n",
    "b, c = sympy.Matrix([2, 0, 3]), sympy.Matrix([4, 5, 6])\n",
    "\n",
    "# [0, 0, 1]\n",
    "Bo = b - (Ao * (Ao.transpose() * Ao).inv() * Ao.transpose()) * b\n",
    "Bo = Bo.normalized()\n",
    "\n",
    "# [0, 1, 0]\n",
    "Co = c - (Ao * (Ao.transpose() * Ao).inv() * Ao.transpose()) * c \\\n",
    "    -(Bo * (Bo.transpose() * Bo).inv() * Bo.transpose()) * c\n",
    "Co = Co.normalized()\n",
    "\n",
    "mt.pprint(Bo)\n",
    "mt.pprint(Co)\n",
    "\n",
    "Q = sympy.Matrix([\n",
    "    [1, 0, 0],\n",
    "    [0, 0, 1],\n",
    "    [0, 1, 0]\n",
    "]).transpose()\n",
    "mt.pprint(Q)\n",
    "\n",
    "R = Q.inv() * A \n",
    "mt.pprint(R)\n",
    "Q * R"
   ]
  },
  {
   "cell_type": "code",
   "execution_count": 33,
   "id": "activated-planet",
   "metadata": {},
   "outputs": [],
   "source": [
    "# how to compute R\n",
    "\n",
    "A = [\n",
    "    [1, 2, 4],\n",
    "    [0, 0, 5],\n",
    "    [0, 3, 6],\n",
    "    #a  b  c\n",
    "]\n",
    "Q = [\n",
    "    [1, 0, 0],\n",
    "    [0, 0, 1],\n",
    "    [0, 1, 0],\n",
    "    #q1 q2 q3\n",
    "]\n",
    "# R = ???\n",
    "\n",
    "# lin-comb of the columns!!!!!!!!!\n",
    "\n",
    "# a = Q . R.col(1) = 1 q1\n",
    "# b = Q . R.col(2) = 2 q1 + 3 q2 \n",
    "# c = Q . R.col(3) = 4 q1 + 6 q2 + 5 q3"
   ]
  },
  {
   "cell_type": "code",
   "execution_count": 34,
   "id": "preceding-papua",
   "metadata": {},
   "outputs": [],
   "source": [
    "# Problem 17.1\n",
    "# orthonormal vectors are automatically linearly indep\n",
    "# matrix proof:\n",
    "\n",
    "# show that Qx = 0 implies x = 0, since Q maybe rectangular\n",
    "# you can use Q.transpose() but not Q.inv()\n",
    "\n"
   ]
  },
  {
   "cell_type": "code",
   "execution_count": 36,
   "id": "modified-huntington",
   "metadata": {},
   "outputs": [],
   "source": [
    "# QT Q x = 0\n",
    "# I x = 0\n",
    "# x = 0\n",
    "\n",
    "# (must complete the proof) \n",
    "# because x = 0, the nullspace of Q is {Z}, and the columns of Q\n",
    "# are linearly indep"
   ]
  },
  {
   "cell_type": "code",
   "execution_count": 39,
   "id": "portuguese-democrat",
   "metadata": {},
   "outputs": [],
   "source": [
    "# Problem 17.2\n",
    "\n",
    "# given the vectors a, b, c listed below, use Gram-Schmidt\n",
    "# process to find orthogonal vectors A, B, C that span\n",
    "# the same space\n",
    "\n",
    "import sympy\n",
    "a = sympy.Matrix([1, -1, 0, 0])\n",
    "b = sympy.Matrix([0, 1, -1, 0])\n",
    "c = sympy.Matrix([0, 0, 1, -1])\n",
    "\n",
    "# show that {A, B, C} and {a, b, c} are bases for the space\n",
    "# of vectors perpendicular to d = (1, 1, 1, 1)\n",
    "\n",
    "\n",
    "\n",
    "\n"
   ]
  },
  {
   "cell_type": "code",
   "execution_count": 42,
   "id": "naval-wrestling",
   "metadata": {},
   "outputs": [
    {
     "name": "stdout",
     "output_type": "stream",
     "text": [
      "⎡  sqrt(2)/2⎤\n",
      "⎢ -sqrt(2)/2⎥\n",
      "⎢          0⎥\n",
      "⎣          0⎦\n",
      "⎡  sqrt(6)/6⎤\n",
      "⎢  sqrt(6)/6⎥\n",
      "⎢ -sqrt(6)/3⎥\n",
      "⎣          0⎦\n",
      "⎡    sqrt(42)/42⎤\n",
      "⎢  2*sqrt(42)/21⎥\n",
      "⎢ -5*sqrt(42)/42⎥\n",
      "⎣              0⎦\n"
     ]
    }
   ],
   "source": [
    "\n",
    "import pylinearalgebra.mattools as mt\n",
    "\n",
    "A = a.normalized()\n",
    "B = (b - (A * (A.transpose() * A).inv() * A.transpose()) * b).normalized()\n",
    "C = (b - A * (A.transpose() * A).inv() * A.transpose() * c - B * (B.transpose() * B).inv() * B.transpose() * c).normalized()\n",
    "\n",
    "mt.pprint(A)\n",
    "mt.pprint(B)\n",
    "mt.pprint(C)"
   ]
  },
  {
   "cell_type": "code",
   "execution_count": 43,
   "id": "approved-tuition",
   "metadata": {},
   "outputs": [],
   "source": [
    "# Q and {a, b, c} share the same col space therefore\n",
    "# d = (1, 1, 1, 1) has the same orthogonality to both spaces\n",
    "# knowing d \\perp {a, b, c} (by computing the dot product)\n",
    "# d \\perp Q\n",
    "\n",
    "# -----------------------------------\n",
    "# official:\n",
    "# knowing that (the proof from the previous problem) {A, B, C}\n",
    "# are linearly indep\n",
    "# compute the dot product of each column to vector d, (1, 1, 1, 1), and\n",
    "# conclude that they \\perp to d\n",
    "# since the row space of (1, 1, 1, 1) is 1-D and the number of\n",
    "# dim of the row space added to the number of dim of the nullsace\n",
    "# is 4, \n",
    "# therefore, {A, B, C} forms a basis for the space of vectors\n",
    "# \\perp to d\n",
    "\n"
   ]
  },
  {
   "cell_type": "code",
   "execution_count": null,
   "id": "closing-multimedia",
   "metadata": {},
   "outputs": [],
   "source": []
  }
 ],
 "metadata": {
  "kernelspec": {
   "display_name": "pyLinearAlgebra",
   "language": "python",
   "name": "python3"
  },
  "language_info": {
   "codemirror_mode": {
    "name": "ipython",
    "version": 3
   },
   "file_extension": ".py",
   "mimetype": "text/x-python",
   "name": "python",
   "nbconvert_exporter": "python",
   "pygments_lexer": "ipython3",
   "version": "3.8.1"
  }
 },
 "nbformat": 4,
 "nbformat_minor": 5
}
