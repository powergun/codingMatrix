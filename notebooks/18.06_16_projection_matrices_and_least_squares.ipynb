{
 "cells": [
  {
   "cell_type": "markdown",
   "id": "interior-monitoring",
   "metadata": {},
   "source": [
    "# Projection Matrices and Least Squares\n",
    "\n",
    "<https://www.youtube.com/watch?v=osh80YCg_GM>"
   ]
  },
  {
   "cell_type": "markdown",
   "id": "average-possible",
   "metadata": {},
   "source": []
  },
  {
   "cell_type": "markdown",
   "id": "confidential-overall",
   "metadata": {},
   "source": []
  },
  {
   "cell_type": "markdown",
   "id": "alpha-complexity",
   "metadata": {},
   "source": []
  },
  {
   "cell_type": "markdown",
   "id": "alien-circle",
   "metadata": {},
   "source": []
  },
  {
   "cell_type": "markdown",
   "id": "environmental-letter",
   "metadata": {},
   "source": []
  },
  {
   "cell_type": "markdown",
   "id": "beginning-tiger",
   "metadata": {},
   "source": [
    "# Recitation and Exercises\n",
    "\n",
    "<https://www.youtube.com/watch?v=AmQcoopBUTk>"
   ]
  },
  {
   "cell_type": "code",
   "execution_count": null,
   "id": "saved-british",
   "metadata": {},
   "outputs": [],
   "source": []
  }
 ],
 "metadata": {
  "kernelspec": {
   "display_name": "pyLinearAlgebra",
   "language": "python",
   "name": "python3"
  },
  "language_info": {
   "codemirror_mode": {
    "name": "ipython",
    "version": 3
   },
   "file_extension": ".py",
   "mimetype": "text/x-python",
   "name": "python",
   "nbconvert_exporter": "python",
   "pygments_lexer": "ipython3",
   "version": "3.8.1"
  }
 },
 "nbformat": 4,
 "nbformat_minor": 5
}
