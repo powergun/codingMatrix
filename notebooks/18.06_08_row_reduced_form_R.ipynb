{
 "cells": [
  {
   "cell_type": "markdown",
   "id": "consistent-ghost",
   "metadata": {},
   "source": [
    "## solve linear equations (cont'd)\n",
    "\n",
    "there can be no solution at all.\n",
    "\n",
    "recap, chapter 07 was talking the nullspace\n",
    "\n",
    "again, using the idea of augmented matrix, plug vector $b$ into $A$\n",
    "\n",
    "$\n",
    "\\left[ \\begin{array}{c|c} A & b \\end{array} \\right]\n",
    "\\\\\n",
    "\\left[ \\begin{array}{cccc|c}\n",
    "1 & 2 & 2 & 2  & b_{1} \\\\\n",
    "2 & 4 & 6 & 8  & b_{2} \\\\\n",
    "3 & 6 & 8 & 10 & b_{3}\n",
    "\\end{array} \\right]$\n",
    "\n"
   ]
  },
  {
   "cell_type": "markdown",
   "id": "valuable-health",
   "metadata": {},
   "source": [
    "### solvability condition on b\n",
    "\n",
    "using elimination, we find that the RHS becomes:\n",
    "\n",
    "$\\left[ \\begin{array}{cccc|c}\n",
    "1 & 2 & 2 & 2  & b_{1} \\\\\n",
    "0 & 0 & 2 & 4  & b_{2} - 2 b_{1} \\\\\n",
    "0 & 0 & 0 & 0  & b_{3} - b_{2} - b_{1}\n",
    "\\end{array} \\right]$\n",
    "\n",
    "row-3, $0 = b_{3} - b_{2} - b_{1}$ is **the condition for this\n",
    "linear system to have a solution**\n",
    "\n",
    "for example: `{6, 5, 1}` is a good value for $b$ as it satisfies this\n",
    "condition, therefore the system has a solution"
   ]
  },
  {
   "cell_type": "markdown",
   "id": "arbitrary-gazette",
   "metadata": {},
   "source": [
    "#### statement 1\n",
    "\n",
    "**$Ax = b$ is solvable when $b$ is in $C(A)$**\n",
    "\n",
    "i.e. $b$ is a linear combination of the columns of $A$\n",
    "\n",
    "#### statement 2\n",
    "\n",
    "**if a combination of some rows of $A$ produces zero row, the same\n",
    "combination of the entries of $b$ must produce zero**\n",
    "\n",
    "these two statements are equivalent.\n",
    "\n",
    "\n"
   ]
  },
  {
   "cell_type": "code",
   "execution_count": 5,
   "id": "hydraulic-drain",
   "metadata": {},
   "outputs": [
    {
     "name": "stdout",
     "output_type": "stream",
     "text": [
      "⎡  1   2   2   2   1 ⎤\n",
      "⎢  2   4   6   8   5 ⎥\n",
      "⎣  3   6   8  10   6 ⎦\n",
      "True\n",
      "⎡  1   2   2   2   0 ⎤\n",
      "⎢  2   4   6   8   5 ⎥\n",
      "⎣  3   6   8  10   6 ⎦\n",
      "False\n"
     ]
    }
   ],
   "source": [
    "# test if a system is solvable\n",
    "#\n",
    "# \n",
    "# numpy.linalg.solve can not deal with non-square matrix\n",
    "# numpy.linalg.lstsq gives me irrelevant result\n",
    "# \n",
    "# I also didn't find an efficient way of augmenting A, by appending\n",
    "# b's components to A's rows\n",
    "\n",
    "import pylinearalgebra.mattools as mt\n",
    "\n",
    "for A, b in [\n",
    "    # a solvable system (b3 - b2 - b1 = 0)\n",
    "    (\n",
    "        [\n",
    "          [1, 2, 2, 2],\n",
    "          [2, 4, 6, 8],\n",
    "          [3, 6, 8, 10],\n",
    "        ],\n",
    "        [1, 5, 6]\n",
    "    ),\n",
    "    \n",
    "    # a non-solvable system (b3 - b2 - b1 != 0)\n",
    "    (\n",
    "        [\n",
    "          [1, 2, 2, 2],\n",
    "          [2, 4, 6, 8],\n",
    "          [3, 6, 8, 10],\n",
    "        ],\n",
    "        [0, 5, 6]\n",
    "    ),\n",
    "]:\n",
    "    mt.pprint([r + [x] for r, x in zip(A, b)])\n",
    "    print(mt.can_solve(A, b))"
   ]
  },
  {
   "cell_type": "markdown",
   "id": "appreciated-radio",
   "metadata": {},
   "source": [
    "### the complete solution to Ax = b\n",
    "\n",
    "\n",
    "\n"
   ]
  },
  {
   "cell_type": "markdown",
   "id": "foster-algeria",
   "metadata": {},
   "source": [
    "#### 1. find a particular x\n",
    "\n",
    "set all free variables to 0, since the free variables can be anything\n",
    "\n",
    "then solve $Ax = b$ for the pivot variables\n"
   ]
  },
  {
   "cell_type": "markdown",
   "id": "printable-remove",
   "metadata": {},
   "source": [
    "#### 2. add anything in nullspace\n",
    "\n",
    "$x = x_{particular} + x_{n}$\n",
    "\n",
    "one vector + a subspace\n",
    "\n",
    "$x$ is the complete solution because:\n",
    "\n",
    "$\\begin{align}\n",
    "Ax_{p} = b\n",
    "\\\\\n",
    "Ax_{n} = 0\n",
    "\\\\\n",
    "A(x_{p} + x_{n}) = b\n",
    "\\end{align}$\n",
    "\n",
    "($x_{p}$ ensures that there are indeed some solution with this $b$) "
   ]
  },
  {
   "cell_type": "markdown",
   "id": "immune-reunion",
   "metadata": {},
   "source": [
    "### generalised algorithm to m by n Matrix\n",
    "\n",
    "\n"
   ]
  },
  {
   "cell_type": "markdown",
   "id": "durable-robin",
   "metadata": {},
   "source": [
    "Given $A_{m \\times n}$, we have these facts:\n",
    "\n",
    "$\\begin{align}\n",
    "r \\le m, r \\le n\n",
    "\\end{align}$\n",
    "\n",
    "\n"
   ]
  },
  {
   "cell_type": "markdown",
   "id": "occasional-orbit",
   "metadata": {},
   "source": [
    "#### full column rank\n",
    "\n",
    "means $r = n$, there is a pivot in every column\n",
    "\n",
    "there is no free variable\n",
    "\n",
    "there is only the zero vector in the nullspace (do not\n",
    "mix it up with \n",
    "$RN = 0$ and $\\begin{bmatrix}-F \\\\ I\\end{bmatrix}$)\n",
    "\n",
    "$N(A) = Z$\n",
    "\n",
    "solution to $Ax = b$ is essentially $x = x_{p}$ (as nullspace\n",
    "has nothing), if it exists\n",
    "\n",
    "**there is 0 or 1 solution**\n"
   ]
  },
  {
   "cell_type": "code",
   "execution_count": 6,
   "id": "closing-supplement",
   "metadata": {},
   "outputs": [
    {
     "name": "stdout",
     "output_type": "stream",
     "text": [
      "⎡ 1  0 ⎤\n",
      "⎢ 0  1 ⎥\n",
      "⎢ 0  0 ⎥\n",
      "⎣ 0  0 ⎦\n"
     ]
    }
   ],
   "source": [
    "# an example of such matrix, full column rank\n",
    "# the choice of b is going to be picky:\n",
    "# b_i in the augmented RREF for the last two rows,\n",
    "# row-3 and row-4 must be 0, \n",
    "# otherwise this system has no solution\n",
    "\n",
    "import numpy as np\n",
    "import sympy\n",
    "import pylinearalgebra.mattools as mt\n",
    "\n",
    "A = sympy.Matrix([\n",
    "    [1, 3],\n",
    "    [2, 1],\n",
    "    [6, 1],\n",
    "    [5, 1],\n",
    "])\n",
    "R, iPivots = A.rref()\n",
    "mt.pprint(R)"
   ]
  },
  {
   "cell_type": "markdown",
   "id": "opponent-potter",
   "metadata": {},
   "source": [
    "for the above matrix $A$, the choice of $b$ will decide whether\n",
    "it has a solution or no solution at all:\n",
    "\n",
    "when $b$ is `{4, 3, 7, 6}` it has one and only one solution `{1, 1}`;\n",
    "\n",
    "when $b$ is `{1, 1, 1, 1}` it has no solution;"
   ]
  },
  {
   "cell_type": "code",
   "execution_count": 8,
   "id": "personalized-apple",
   "metadata": {},
   "outputs": [
    {
     "name": "stdout",
     "output_type": "stream",
     "text": [
      "⎡ 1  0  1 ⎤\n",
      "⎢ 0  1  1 ⎥\n",
      "⎢ 0  0  0 ⎥\n",
      "⎣ 0  0  0 ⎦\n",
      "True\n",
      "⎡ 1  0  0 ⎤\n",
      "⎢ 0  1  0 ⎥\n",
      "⎢ 0  0  1 ⎥\n",
      "⎣ 0  0  0 ⎦\n",
      "False\n"
     ]
    }
   ],
   "source": [
    "import pylinearalgebra.mattools as mt\n",
    "A = [\n",
    "    [1, 3],\n",
    "    [2, 1],\n",
    "    [6, 1],\n",
    "    [5, 1],\n",
    "]\n",
    "for b in [[4, 3, 7, 6], [1, 1, 1, 1]]:\n",
    "    aug = [r + [x] for r, x in zip(A, b)]\n",
    "    R, _ = mt.rref(aug)\n",
    "    mt.pprint(R)\n",
    "    print(mt.can_solve(A, b))"
   ]
  },
  {
   "cell_type": "markdown",
   "id": "organizational-selling",
   "metadata": {},
   "source": [
    "#### full row rank\n",
    "\n",
    "means $r = m$, m pivots, every row has a pivot\n",
    "\n",
    "what about its solvability ??\n",
    "\n",
    "**after we have done an elimination on $Ax = b$ there is no zero row\n",
    "therefore we can solve it for every $b$**\n",
    "\n",
    "free variables: we are left with $n - r = n - m$ free variables\n",
    "\n",
    "\n",
    "\n",
    "\n"
   ]
  },
  {
   "cell_type": "code",
   "execution_count": 10,
   "id": "theoretical-original",
   "metadata": {},
   "outputs": [
    {
     "name": "stdout",
     "output_type": "stream",
     "text": [
      "⎡    1     0  -4/5  -3/5 ⎤\n",
      "⎣    0     1  17/5  14/5 ⎦\n"
     ]
    }
   ],
   "source": [
    "# example of such as full row rank Matrix\n",
    "# (transposing the above example)\n",
    "\n",
    "import pylinearalgebra.mattools as mt\n",
    "\n",
    "A = mt.T([\n",
    "    [1, 3],\n",
    "    [2, 1],\n",
    "    [6, 1],\n",
    "    [5, 1],\n",
    "])\n",
    "\n",
    "R, _ = mt.rref(A)\n",
    "mt.pprint(R)\n"
   ]
  },
  {
   "cell_type": "markdown",
   "id": "starting-court",
   "metadata": {},
   "source": [
    "$\\left[ \\begin{array}{c|c}\n",
    "I & F\n",
    "\\end{array} \\right]$\n",
    "\n"
   ]
  },
  {
   "cell_type": "markdown",
   "id": "ordinary-victoria",
   "metadata": {},
   "source": [
    "$F$ will participate in the solution of nullspace\n",
    "\n"
   ]
  },
  {
   "cell_type": "markdown",
   "id": "analyzed-startup",
   "metadata": {},
   "source": [
    "#### full rank square matrix\n",
    "\n",
    "$r = m = n$\n",
    "\n",
    "called **full rank**\n",
    "\n",
    "it is invertible\n",
    "\n",
    "$R = I$\n",
    "\n",
    "the nullspace is $Z$ only\n",
    "\n",
    "the condition on $b$ is: $b$ can be ANYTHING! There is a\n",
    "unique solution!"
   ]
  },
  {
   "cell_type": "markdown",
   "id": "coordinate-journalism",
   "metadata": {},
   "source": [
    "### Summary for m by n matrix\n",
    "\n",
    "for a **m by n matrix**\n",
    "\n",
    "$\\begin{array}{c|c|c}\n",
    "r = m = n  & r = n < m & r = m < n & r < m, r < n\\\\\n",
    "square     & \\text{||}  & \\text{==} & \\text{any}\\\\\n",
    "R = I      & R = \\begin{bmatrix}I \\\\ 0\\end{bmatrix} & R = \\begin{bmatrix}I & F\\end{bmatrix} & R = \\begin{bmatrix}I & F \\\\ 0* & 0*\\end{bmatrix}\\\\\n",
    "\\text{1 solution} & \\text{0 or 1 solution} & \\infty \\ solutions & 0 \\ or \\ \\infty\n",
    "\\end{array}$"
   ]
  },
  {
   "cell_type": "markdown",
   "id": "scientific-argument",
   "metadata": {},
   "source": [
    "for the last case $r < m, r < n$, recall that there can be no solution\n",
    "if there is a zero-row on the LHS but the corresponding $b$ is not 0"
   ]
  },
  {
   "cell_type": "markdown",
   "id": "motivated-dispatch",
   "metadata": {},
   "source": [
    "### the rank r tells us everything about the number of solutions\n",
    "\n",
    "for the exact entries in the solution, use back substitution and\n",
    "go back to the matrix itself"
   ]
  },
  {
   "cell_type": "code",
   "execution_count": null,
   "id": "likely-uncertainty",
   "metadata": {},
   "outputs": [],
   "source": []
  }
 ],
 "metadata": {
  "kernelspec": {
   "display_name": "Python 3",
   "language": "python",
   "name": "python3"
  },
  "language_info": {
   "codemirror_mode": {
    "name": "ipython",
    "version": 3
   },
   "file_extension": ".py",
   "mimetype": "text/x-python",
   "name": "python",
   "nbconvert_exporter": "python",
   "pygments_lexer": "ipython3",
   "version": "3.8.1"
  }
 },
 "nbformat": 4,
 "nbformat_minor": 5
}
