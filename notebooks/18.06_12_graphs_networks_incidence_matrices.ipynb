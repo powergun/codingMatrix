{
 "cells": [
  {
   "cell_type": "markdown",
   "id": "dying-discipline",
   "metadata": {},
   "source": [
    "## Graphs & Networks\n",
    "\n",
    "applications of linear algebra\n",
    "\n",
    "\"real\" linear algebra (or linear alegbra for the real world) uses\n",
    "matrices coming from somewhere\n",
    "\n",
    "the most important model in the applied mathematics\n"
   ]
  },
  {
   "cell_type": "markdown",
   "id": "pointed-terminal",
   "metadata": {},
   "source": [
    "### Graphs\n",
    "\n",
    "nodes and edges\n"
   ]
  },
  {
   "cell_type": "code",
   "execution_count": 2,
   "id": "informal-athens",
   "metadata": {},
   "outputs": [
    {
     "data": {
      "image/png": "[encoded data removed]",
      "text/plain": [
       "<Figure size 432x288 with 1 Axes>"
      ]
     },
     "metadata": {
      "needs_background": "light"
     },
     "output_type": "display_data"
    }
   ],
   "source": [
    "%matplotlib inline\n",
    "import pylinearalgebra.vistools as vist\n",
    "\n",
    "# x, y, text\n",
    "node1 = [1, 1, '1']\n",
    "node2 = [0, 0, '2']\n",
    "node3 = [2, 0, '3']\n",
    "node4 = [3.3, 0.4, '4']\n",
    "\n",
    "fromTos = [\n",
    "    # from, to, edge label (not weight here)\n",
    "    (node1, node2, '(1)'),\n",
    "    (node1, node3, '(3)'),\n",
    "    (node2, node3, '(2)'),\n",
    "    (node3, node4, '(5)'),\n",
    "    (node1, node4, '(4)'),\n",
    "]\n",
    "\n",
    "xy = vist.XY(x_lim=(-0.5, 4), y_lim=(-0.5, 2), names=list('rgbcmy'))\n",
    "for fr, to, t in fromTos:\n",
    "    xy.vector(fr, to, shaft_text=t, shaft_arrow=True)"
   ]
  },
  {
   "cell_type": "markdown",
   "id": "german-duration",
   "metadata": {},
   "source": [
    "in the above case I have $n = 4$, which is the number of nodes;\n",
    "\n",
    "$m = 5$ which is the number of edges;\n",
    "\n",
    "$A_{m \\ \\times \\ n}$ represents the graph \n",
    "\n",
    "edges are directional"
   ]
  },
  {
   "cell_type": "markdown",
   "id": "relative-cream",
   "metadata": {},
   "source": [
    "### incidence matrix\n",
    "\n",
    "every row corresponds to an edge; every column corresponds to\n",
    "a node (from 1 to 4)\n",
    "\n",
    "note, all the edges have no weights\n",
    "\n",
    "$\n",
    "A = \\left[ \\begin{array}{cccc|c}\n",
    "-1 & 1 & 0 & 0 & edge 1 \\\\\n",
    " 0 & -1& 1 & 0 & edge 2 \\\\\n",
    " -1& 0 & 1 & 0 & edge 3 \\\\\n",
    " -1& 0 & 0 & 1 & edge 4 \\\\\n",
    " 0 & 0 & -1& 1 & edge 5\n",
    "\\end{array} \\right]\n",
    "$"
   ]
  },
  {
   "cell_type": "markdown",
   "id": "bigger-duncan",
   "metadata": {},
   "source": [
    "#### loops and dependence\n",
    "\n",
    "note that edge1-2-3 form a loop; their rows are dependent\n",
    "\n",
    "row 1 + row 2 = row 3"
   ]
  },
  {
   "cell_type": "markdown",
   "id": "indirect-murray",
   "metadata": {},
   "source": [
    "#### sparse matrix\n",
    "\n",
    "for large graph with not so many edges, there will a lot of\n",
    "zeros - a graph/matrix that is sparse\n",
    "\n",
    "matrices from real world problems have structures (such as\n",
    "being sparsely populated)\n",
    "\n"
   ]
  },
  {
   "cell_type": "markdown",
   "id": "informed-canon",
   "metadata": {},
   "source": [
    "#### the fundamental subspaces: nullspace N(A)\n",
    "\n",
    "$N(A)$ \n",
    "\n",
    "are these columns independent? if so $N(A) = Z$\n",
    "\n",
    "the nullspace tells us how to combine the columns to get zero\n",
    "\n",
    "to solve:\n",
    "\n",
    "$\n",
    "Ax = \\left[ \\begin{array}{cccc}\n",
    "-1 & 1 & 0 & 0 \\\\\n",
    " 0 & -1& 1 & 0 \\\\\n",
    " -1& 0 & 1 & 0 \\\\\n",
    " -1& 0 & 0 & 1 \\\\\n",
    " 0 & 0 & -1& 1 \n",
    "\\end{array} \\right]\n",
    "\\begin{bmatrix}x_{1} \\\\ x_{2} \\\\ x_{3} \\\\ x_{4}\\end{bmatrix}\n",
    "= 0 \\\\\n",
    "\\begin{bmatrix}\n",
    "x_{2} - x_{1} \\\\\n",
    "x_{3} - x_{2} \\\\\n",
    "x_{3} - x_{1} \\\\\n",
    "x_{4} - x_{1} \\\\\n",
    "x_{4} - x_{3} \\end{bmatrix} = \\left[ 0 \\right]\n",
    "$\n"
   ]
  },
  {
   "cell_type": "markdown",
   "id": "silver-showcase",
   "metadata": {},
   "source": [
    "`x = {x1, x2, x3, x4}` are the **potentials** at the nodes\n",
    "\n",
    "using the potentials is an important technique in applied\n",
    "mathematics\n",
    "\n",
    "there is a matrix $C$ (for current) that **connects the\n",
    "potential differences to electric current**, represented by `{y1, y2, y3, y4, y5}` - these are the current on the edges (denoted $y = Ce$,\n",
    "$e$ being the potential differences, see below)\n",
    "\n",
    "this relation between current and the potential differences is\n",
    "Ohm's law: <https://en.wikipedia.org/wiki/Ohm%27s_law>\n",
    "\n",
    "the change of potential makes current happens; Ohm's law says how\n",
    "much it happens\n"
   ]
  },
  {
   "cell_type": "markdown",
   "id": "broadband-patch",
   "metadata": {},
   "source": [
    "solving $Ax = 0$ is to find their **potential differences** (denoted\n",
    "$e = Ax$)\n",
    "\n",
    "\n",
    "one of the solution is `{1, 1, 1, 1}` - a constant potential\n",
    "\n",
    "it is a basis of nullspace, its multiples span the nullspace\n",
    "\n",
    "$\n",
    "x = c \\ \\begin{bmatrix}\n",
    "1 \\\\\n",
    "1 \\\\\n",
    "1 \\\\\n",
    "1  \\end{bmatrix}\n",
    "$\n",
    "\n",
    "a line in $R^4$ space, $dimN(A) = 1$\n",
    "\n",
    "$A$ has a rank of 3 (num columns - dependent/free columns)\n"
   ]
  },
  {
   "cell_type": "markdown",
   "id": "casual-superintendent",
   "metadata": {},
   "source": [
    "#### what does this mean for the application\n",
    "\n",
    "the potential differences are what make things flow (electric\n",
    "current, water flow, social networking etc.)\n",
    "\n",
    "but there is only a constant potential\n",
    "\n",
    "nothing will move if all the potentials are the same (constants)"
   ]
  },
  {
   "cell_type": "markdown",
   "id": "elder-incidence",
   "metadata": {},
   "source": [
    "#### moving on the nullspace of $A^{T}$\n",
    "\n",
    "$A^{T}y = 0$, knowing that $dimN(A^{T}) = m -r = 5 - 3 = 2$\n",
    "\n",
    "----\n",
    "\n",
    "in the electric current model (see above), $A^{T}y = 0$ is\n",
    "th Kirchoff's current law (KCL): <https://en.wikipedia.org/wiki/Kirchhoff%27s_circuit_laws>\n",
    "\n",
    "the RHS is zero because there is no current source - if there is\n",
    "the equation becomes $A^{T}y = f$\n",
    "\n",
    "----\n",
    "\n",
    "what are its basis in $N(A^{T})$\n",
    "\n",
    "$\n",
    "A^{T} = \n",
    "\\begin{bmatrix}\n",
    "-1 & 0 & -1 & -1 & 0 \\\\\n",
    "1 & -1 &0 & 0& 0 \\\\\n",
    "0 & 1 & 1& 0 & -1\\\\\n",
    "0 & 0 & 0 &1 & 1\n",
    "\\end{bmatrix}\n",
    "\\begin{bmatrix}\n",
    "y_{1} \\\\ y_{2} \\\\ y_{3} \\\\ y_{4} \\\\ y_{5}\n",
    "\\end{bmatrix}\n",
    "= \n",
    "\\begin{bmatrix}\n",
    "0 \\\\ 0 \\\\ 0\\\\ 0\n",
    "\\end{bmatrix}\n",
    "$\n",
    "\n",
    "the practical application of finding its basis can be see in KCL, \n",
    "Kirchoff's current law"
   ]
  },
  {
   "cell_type": "markdown",
   "id": "dominant-mason",
   "metadata": {},
   "source": [
    "plugin vector $y$ in to the matrix,\n",
    "\n",
    "here is the first row of the equations:\n",
    "\n",
    "$\n",
    "-y_{1} - y_{3} - y_{4} = 0\n",
    "$\n",
    "\n",
    "the physical meaning of this equation is: these currents `y1, y3, y4`\n",
    "are **leaving node-1** (the first row represents node-1), and the\n",
    "**net flow is 0**\n",
    "\n"
   ]
  },
  {
   "cell_type": "markdown",
   "id": "thousand-calculator",
   "metadata": {},
   "source": [
    "here is the 2nd row:\n",
    "\n",
    "$\n",
    "y_{1} - y_{2} = 0\n",
    "$\n",
    "\n",
    "the current flowing in and the current flowing out cancels each\n",
    "other"
   ]
  },
  {
   "cell_type": "markdown",
   "id": "revised-archive",
   "metadata": {},
   "source": [
    "moving on to the 3rd row\n",
    "\n",
    "$\n",
    "y_{2} + y_{3} - y_{5} = 0\n",
    "$\n",
    "\n",
    "the in-current `y2, y3` and out-current `y5` cancel each other\n",
    "\n",
    "similar analysis applies to the 4th row.... \n"
   ]
  },
  {
   "cell_type": "markdown",
   "id": "urban-finnish",
   "metadata": {},
   "source": [
    "finding the special solution here can be done by analysing \n",
    "the graph (using the current law) or by elimination;\n",
    "\n",
    "by elimination, $A^{T}$ can be reduced to a form where\n",
    "the 4th row is $Z$ (because the rank is 3)\n",
    "\n",
    "it has 3 pivots and $dimN(A^{T}) = m - r = 5 - 3 = 2$, it is a \n",
    "2-dimensional space, it has 2 basis\n",
    "\n"
   ]
  },
  {
   "cell_type": "markdown",
   "id": "italic-minister",
   "metadata": {},
   "source": [
    "here are these 2 basis\n",
    "\n",
    "MY NOTE: \n",
    "\n",
    "Gilbert didn't explain why the basis can have negative\n",
    "component, and what does a negative component mean - basically, \n",
    "because the original edge has directions, as encoded in $A$ (\n",
    "edge leaving a node is `-1`; edge entering a node is `1`), a \n",
    "positive number `1` in the basis means the current **follows**\n",
    "the direction of the edge, wheraas **a negative one goes in the\n",
    "opposite direction**\n",
    "\n",
    "this is why he kept saying \"there is a loop\" - the loop is \n",
    "formed by applying the basis (the solution) on top of the\n",
    "edge directions\n",
    "\n",
    "$\n",
    "\\begin{bmatrix}\n",
    "1 \\\\ 1 \\\\ -1 \\\\ 0 \\\\ 0 \n",
    "\\end{bmatrix},\n",
    "\\begin{bmatrix}\n",
    "0 \\\\ 0 \\\\  1 \\\\ -1 \\\\ 1\n",
    "\\end{bmatrix}\n",
    "$"
   ]
  },
  {
   "cell_type": "markdown",
   "id": "executed-debate",
   "metadata": {},
   "source": [
    "these two basis correspond to the 2 loops of the electric\n",
    "current that flow through the graph\n",
    "\n",
    "there is also seemingly a \"3rd loop\" - the outer loop, and\n",
    "the solution correspond to this loop is \n",
    "\n",
    "$\n",
    "\\begin{bmatrix}\n",
    "1 \\\\ 1 \\\\ 0 \\\\ -1 \\\\ 1\n",
    "\\end{bmatrix}\n",
    "$\n",
    "\n",
    "it is actually the combination of the previous 2 solutions\n",
    "\n",
    "meaning this solution is not the basis as it is not independent\n",
    "\n",
    "later on Gilbert gave another example graph that emphasize this \n",
    "relation"
   ]
  },
  {
   "cell_type": "markdown",
   "id": "german-broadway",
   "metadata": {},
   "source": [
    "#### the row space $C(A^{T})$\n",
    "\n",
    "rank = 3, 2 free columns\n",
    "\n",
    "$\n",
    "\\begin{bmatrix}\n",
    "-1 & 0 & -1 & -1 & 0 \\\\\n",
    "1 & -1 &0 & 0& 0 \\\\\n",
    "0 & 1 & 1& 0 & -1\\\\\n",
    "0 & 0 & 0 &1 & 1\n",
    "\\end{bmatrix}\n",
    "$\n",
    "\n",
    "observe that column-3 is not independent (it is a combination of\n",
    "col-1 and col-2) because col-1, col-2 and 3 form a loop\n",
    "\n",
    "therefore the pivot columns are `col1, col2, col4`\n",
    "\n",
    "**these pivot columns form a smaller graph that does not have a loop,\n",
    "therefore they form a tree**"
   ]
  },
  {
   "cell_type": "markdown",
   "id": "elder-placement",
   "metadata": {},
   "source": [
    "#### dimension and the number of loops\n",
    "\n",
    "$dimN(A^{T}) = m - r$, which is the number of loops `#loops`\n",
    "\n",
    "`#loops = #edges - (#nodes - 1)`\n",
    "\n",
    "which can be further transformed to this formula\n",
    "\n",
    "`#nodes - #edges + #loops = 1`\n",
    "\n",
    "(the space of) nodes are 0 dimensional, they are isolated\n",
    "\n",
    "(the space of) edges are 1 dimensional, lines that connect nodes\n",
    "\n",
    "(the space of) loops are 2 dimensional, areas that are formed by loops\n",
    "\n",
    "this is **Euler's formula**: <https://en.wikipedia.org/wiki/Planar_graph#Euler's_formula>"
   ]
  },
  {
   "cell_type": "markdown",
   "id": "mighty-joint",
   "metadata": {},
   "source": [
    "## Summary: Applied Mathematics Equations\n",
    "\n",
    "$\n",
    "e = Ax \\\\\n",
    "y = Ce \\\\\n",
    "A^{T}y = 0 \\\\ \n",
    "A^{T}y = f\n",
    "$\n",
    "\n",
    "plug the first 2 equations into the 4th one, I get:\n",
    "\n",
    "$\n",
    "A^{T}CAx = f\n",
    "$\n",
    "\n",
    "the balance equation\n",
    "\n",
    "and the matrix of $A^{T}CA$ is symmetric"
   ]
  },
  {
   "cell_type": "code",
   "execution_count": null,
   "id": "civil-certificate",
   "metadata": {},
   "outputs": [],
   "source": []
  }
 ],
 "metadata": {
  "kernelspec": {
   "display_name": "Python 3",
   "language": "python",
   "name": "python3"
  },
  "language_info": {
   "codemirror_mode": {
    "name": "ipython",
    "version": 3
   },
   "file_extension": ".py",
   "mimetype": "text/x-python",
   "name": "python",
   "nbconvert_exporter": "python",
   "pygments_lexer": "ipython3",
   "version": "3.8.1"
  }
 },
 "nbformat": 4,
 "nbformat_minor": 5
}
