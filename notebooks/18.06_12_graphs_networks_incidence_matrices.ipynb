{
 "cells": [
  {
   "cell_type": "markdown",
   "id": "retired-pathology",
   "metadata": {},
   "source": []
  },
  {
   "cell_type": "markdown",
   "id": "outdoor-parameter",
   "metadata": {},
   "source": []
  },
  {
   "cell_type": "markdown",
   "id": "elder-advocate",
   "metadata": {},
   "source": []
  },
  {
   "cell_type": "markdown",
   "id": "comparable-sacramento",
   "metadata": {},
   "source": []
  },
  {
   "cell_type": "markdown",
   "id": "greek-influence",
   "metadata": {},
   "source": []
  },
  {
   "cell_type": "markdown",
   "id": "convertible-approach",
   "metadata": {},
   "source": []
  },
  {
   "cell_type": "markdown",
   "id": "continent-vietnam",
   "metadata": {},
   "source": []
  },
  {
   "cell_type": "markdown",
   "id": "flush-banner",
   "metadata": {},
   "source": []
  },
  {
   "cell_type": "markdown",
   "id": "secure-female",
   "metadata": {},
   "source": []
  },
  {
   "cell_type": "markdown",
   "id": "quick-drawing",
   "metadata": {},
   "source": []
  },
  {
   "cell_type": "markdown",
   "id": "authorized-algorithm",
   "metadata": {},
   "source": []
  }
 ],
 "metadata": {
  "kernelspec": {
   "display_name": "pyLinearAlgebra",
   "language": "python",
   "name": "python3"
  },
  "language_info": {
   "codemirror_mode": {
    "name": "ipython",
    "version": 3
   },
   "file_extension": ".py",
   "mimetype": "text/x-python",
   "name": "python",
   "nbconvert_exporter": "python",
   "pygments_lexer": "ipython3",
   "version": "3.8.1"
  }
 },
 "nbformat": 4,
 "nbformat_minor": 5
}
