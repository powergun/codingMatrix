{
 "cells": [
  {
   "cell_type": "markdown",
   "id": "bigger-salem",
   "metadata": {},
   "source": [
    "## Graphs & Networks\n",
    "\n",
    "applications of linear algebra\n",
    "\n",
    "\"real\" linear algebra (or linear alegbra for the real world) uses\n",
    "matrices coming from somewhere\n",
    "\n",
    "the most important model in the applied mathematics\n"
   ]
  },
  {
   "cell_type": "markdown",
   "id": "interesting-excerpt",
   "metadata": {},
   "source": [
    "### Graphs\n",
    "\n",
    "nodes and edges\n"
   ]
  },
  {
   "cell_type": "code",
   "execution_count": 74,
   "id": "august-english",
   "metadata": {},
   "outputs": [
    {
     "data": {
      "text/plain": [
       "(-0.5, 2.0)"
      ]
     },
     "execution_count": 74,
     "metadata": {},
     "output_type": "execute_result"
    },
    {
     "data": {
      "image/png": "[encoded data removed]",
      "text/plain": [
       "<Figure size 432x288 with 1 Axes>"
      ]
     },
     "metadata": {
      "needs_background": "light"
     },
     "output_type": "display_data"
    }
   ],
   "source": [
    "import matplotlib.pyplot as plt\n",
    "%matplotlib inline\n",
    "\n",
    "import random\n",
    "import numpy as np\n",
    "\n",
    "# x, y, text\n",
    "node1 = [1, 1, '1']\n",
    "node2 = [0, 0, '2']\n",
    "node3 = [2, 0, '3']\n",
    "node4 = [3.3, 0.4, '4']\n",
    "\n",
    "random.seed(42)\n",
    "colors = list('rgbcmyk')\n",
    "def rand_color():\n",
    "    c = random.choice(colors)\n",
    "    colors.remove(c)\n",
    "    return c\n",
    "\n",
    "fromTos = [\n",
    "    # from, to, edge weight\n",
    "    (node1, node2, None),\n",
    "    (node1, node3, None),\n",
    "    (node2, node3, None),\n",
    "    (node3, node4, None),\n",
    "    (node1, node4, None),\n",
    "]\n",
    "\n",
    "# quiver()\n",
    "# X, Y, U, V = zip(*verts)\n",
    "# plt.quiver(\n",
    "#     X, Y, U, V, \n",
    "#     angles='xy', color=['r', 'g', 'b', 'c', 'm', 'y', 'k'], \n",
    "#     scale_units='xy', scale=1)\n",
    "\n",
    "# arrow() can do\n",
    "# https://matplotlib.org/stable/api/_as_gen/matplotlib.pyplot.arrow.html\n",
    "# https://matplotlib.org/stable/gallery/text_labels_and_annotations/arrow_demo.html#sphx-glr-gallery-text-labels-and-annotations-arrow-demo-py\n",
    "for n in (node1, node2, node3, node4):\n",
    "    plt.annotate(n[2], n[:2], size=20, alpha=0.7)\n",
    "    \n",
    "for fr, to, w in fromTos:\n",
    "    vert = [fr[0], fr[1], to[0] - fr[0], to[1] - fr[1]]\n",
    "    half = [vert[0], vert[1], vert[2] / 2.0, vert[3] / 2.0]\n",
    "    c = rand_color()\n",
    "    plt.arrow(\n",
    "        *half, \n",
    "        head_width=0.15,\n",
    "        head_length=0.4,\n",
    "        overhang=1.0,\n",
    "        color=c,\n",
    "    )\n",
    "    plt.arrow(\n",
    "        *vert, \n",
    "        head_width=0,\n",
    "        head_length=0,\n",
    "        length_includes_head=True,\n",
    "        overhang=1.0,\n",
    "        color=c,\n",
    "    )\n",
    "\n",
    "ax = plt.gca()\n",
    "ax.set_aspect(1.0)\n",
    "plt.axhline(0, color='black', linewidth=1, alpha=0.3)\n",
    "plt.axvline(0, color='black', linewidth=1, alpha=0.3)\n",
    "plt.xlim(-0.5, 4)\n",
    "plt.ylim(-0.5, 2)"
   ]
  },
  {
   "cell_type": "markdown",
   "id": "exciting-point",
   "metadata": {},
   "source": [
    "in the above case I have $n = 4$, which is the number of nodes;\n",
    "\n",
    "$m = 5$ which is the number of edges;\n",
    "\n",
    "$A_{m \\ \\times \\ n}$ represents the graph \n",
    "\n",
    "edges are directional"
   ]
  },
  {
   "cell_type": "markdown",
   "id": "prescription-nurse",
   "metadata": {},
   "source": []
  },
  {
   "cell_type": "markdown",
   "id": "injured-prairie",
   "metadata": {},
   "source": []
  },
  {
   "cell_type": "markdown",
   "id": "subjective-extra",
   "metadata": {},
   "source": []
  },
  {
   "cell_type": "markdown",
   "id": "formed-interaction",
   "metadata": {},
   "source": []
  },
  {
   "cell_type": "markdown",
   "id": "referenced-journalist",
   "metadata": {},
   "source": []
  },
  {
   "cell_type": "markdown",
   "id": "southeast-paintball",
   "metadata": {},
   "source": []
  },
  {
   "cell_type": "markdown",
   "id": "american-holmes",
   "metadata": {},
   "source": []
  }
 ],
 "metadata": {
  "kernelspec": {
   "display_name": "pyLinearAlgebra",
   "language": "python",
   "name": "python3"
  },
  "language_info": {
   "codemirror_mode": {
    "name": "ipython",
    "version": 3
   },
   "file_extension": ".py",
   "mimetype": "text/x-python",
   "name": "python",
   "nbconvert_exporter": "python",
   "pygments_lexer": "ipython3",
   "version": "3.8.1"
  }
 },
 "nbformat": 4,
 "nbformat_minor": 5
}
