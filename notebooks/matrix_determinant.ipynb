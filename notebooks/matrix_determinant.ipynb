{
 "cells": [
  {
   "cell_type": "markdown",
   "metadata": {},
   "source": [
    "### why we need the determinant\n",
    "\n",
    "one big reason we need determinant is the eigenvalues\n",
    "\n",
    "<https://en.wikipedia.org/wiki/Eigenvalues_and_eigenvectors>\n",
    "\n",
    "### determinant in a one-liner\n",
    "\n",
    "every square matrix has a determinant, which is a number, often\n",
    "written as\n",
    "\n",
    "$\\det A$ \n",
    "\n",
    "or \n",
    "\n",
    "$|A|$\n",
    "\n",
    "one magic number that packs as much information as possible about\n",
    "a matrix\n",
    "\n",
    "matrix that is invertible has a non-zero determinant; matrix that\n",
    "is singular has a determinant 0 "
   ]
  },
  {
   "cell_type": "markdown",
   "metadata": {},
   "source": []
  }
 ],
 "metadata": {
  "kernelspec": {
   "display_name": "pyLinearAlgebra",
   "language": "python",
   "name": "python3"
  },
  "language_info": {
   "codemirror_mode": {
    "name": "ipython",
    "version": 3
   },
   "file_extension": ".py",
   "mimetype": "text/x-python",
   "name": "python",
   "nbconvert_exporter": "python",
   "pygments_lexer": "ipython3",
   "version": "3.8.1"
  }
 },
 "nbformat": 4,
 "nbformat_minor": 4
}
