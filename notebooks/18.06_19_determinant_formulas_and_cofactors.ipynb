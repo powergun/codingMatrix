{
 "cells": [
  {
   "cell_type": "markdown",
   "id": "visible-recommendation",
   "metadata": {},
   "source": [
    "# Determinant Formulas and Cofactors\n",
    "\n",
    "<https://www.youtube.com/watch?v=23LLB9mNJvc>"
   ]
  },
  {
   "cell_type": "markdown",
   "id": "distinct-muslim",
   "metadata": {},
   "source": []
  },
  {
   "cell_type": "markdown",
   "id": "taken-generation",
   "metadata": {},
   "source": [
    "# Recitation and Exercises\n",
    "\n",
    "<https://www.youtube.com/watch?v=B17h10EF59g>"
   ]
  },
  {
   "cell_type": "code",
   "execution_count": null,
   "id": "fresh-pilot",
   "metadata": {},
   "outputs": [],
   "source": []
  },
  {
   "cell_type": "code",
   "execution_count": null,
   "id": "novel-participation",
   "metadata": {},
   "outputs": [],
   "source": []
  }
 ],
 "metadata": {
  "kernelspec": {
   "display_name": "pyLinearAlgebra",
   "language": "python",
   "name": "python3"
  },
  "language_info": {
   "codemirror_mode": {
    "name": "ipython",
    "version": 3
   },
   "file_extension": ".py",
   "mimetype": "text/x-python",
   "name": "python",
   "nbconvert_exporter": "python",
   "pygments_lexer": "ipython3",
   "version": "3.8.1"
  }
 },
 "nbformat": 4,
 "nbformat_minor": 5
}
